{
 "cells": [
  {
   "cell_type": "code",
   "execution_count": 1,
   "metadata": {},
   "outputs": [],
   "source": [
    "import NDEToolkit as ndt\n",
    "import numpy as np\n",
    "import tifffile\n",
    "import matplotlib.pyplot as plt\n",
    "from pathlib import Path"
   ]
  },
  {
   "attachments": {},
   "cell_type": "markdown",
   "metadata": {},
   "source": [
    "### Class"
   ]
  },
  {
   "attachments": {},
   "cell_type": "markdown",
   "metadata": {},
   "source": [
    "### Pruebas"
   ]
  },
  {
   "attachments": {},
   "cell_type": "markdown",
   "metadata": {},
   "source": [
    "#### Data import"
   ]
  },
  {
   "cell_type": "code",
   "execution_count": 5,
   "metadata": {},
   "outputs": [
    {
     "name": "stdout",
     "output_type": "stream",
     "text": [
      "Shape: (120, 45, 505)\n"
     ]
    },
    {
     "data": {
      "text/plain": [
       "[<matplotlib.lines.Line2D at 0x27da9f639d0>]"
      ]
     },
     "execution_count": 5,
     "metadata": {},
     "output_type": "execute_result"
    },
    {
     "data": {
      "image/png": "[encoded data removed]",
      "text/plain": [
       "<Figure size 640x480 with 1 Axes>"
      ]
     },
     "metadata": {},
     "output_type": "display_data"
    }
   ],
   "source": [
    "#Opening file\n",
    "folders_UT = Path(r'\\\\192.168.10.106\\imdea\\DataDriven_UT_AlbertoVicente\\03_UT_data\\Probetas JI\\probetas\\4')\n",
    "\n",
    "files_UT = '4_amplitude.tif'\n",
    "\n",
    "filename = folders_UT / files_UT\n",
    "\n",
    "data = tifffile.imread(filename)\n",
    "data = np.swapaxes(data, 0, 1)\n",
    "data = np.swapaxes(data, 1, 2)\n",
    "print('Shape:',data.shape)\n",
    "\n",
    "a = data.reshape((-1,data.shape[-1]))\n",
    "\n",
    "a = a.mean(axis=0)\n",
    "\n",
    "plt.plot(a)"
   ]
  },
  {
   "attachments": {},
   "cell_type": "markdown",
   "metadata": {},
   "source": [
    "### CScan"
   ]
  },
  {
   "cell_type": "code",
   "execution_count": 6,
   "metadata": {},
   "outputs": [],
   "source": [
    "csm = ndt.CscanManager()"
   ]
  },
  {
   "cell_type": "code",
   "execution_count": 7,
   "metadata": {},
   "outputs": [],
   "source": [
    "csm.define_gate1(200,280, lim = 50)\n",
    "csm.define_gate2(280,300, lim = 2)\n",
    "csm.define_gate3(300,400, lim = 5)"
   ]
  },
  {
   "cell_type": "code",
   "execution_count": 8,
   "metadata": {},
   "outputs": [],
   "source": [
    "#Att puetas 1 y 2\n",
    "\n",
    "att = np.apply_along_axis(csm.compute, 2, data)"
   ]
  },
  {
   "cell_type": "code",
   "execution_count": 9,
   "metadata": {},
   "outputs": [],
   "source": [
    "#Att pueta 3\n",
    "\n",
    "att3 = np.apply_along_axis(csm.compute_3, 2, data)"
   ]
  },
  {
   "cell_type": "code",
   "execution_count": 10,
   "metadata": {},
   "outputs": [],
   "source": [
    "#Att pueta 2\n",
    "\n",
    "att_airbus = np.apply_along_axis(csm.compute_DAC, 2, data)"
   ]
  },
  {
   "cell_type": "code",
   "execution_count": 11,
   "metadata": {},
   "outputs": [],
   "source": [
    "# Guardalo con el tifffile\n",
    "ndt.write_tiff(att,folders_UT / ('att2_' + files_UT + '.tif'))\n",
    "ndt.write_tiff(att3,folders_UT / (\"att3_\"+ files_UT + \".tif\"))\n",
    "ndt.write_tiff(att_airbus,folders_UT / (\"att_airbus_\"+ files_UT + \".tif\"))"
   ]
  }
 ],
 "metadata": {
  "kernelspec": {
   "display_name": "Python 3",
   "language": "python",
   "name": "python3"
  },
  "language_info": {
   "codemirror_mode": {
    "name": "ipython",
    "version": 3
   },
   "file_extension": ".py",
   "mimetype": "text/x-python",
   "name": "python",
   "nbconvert_exporter": "python",
   "pygments_lexer": "ipython3",
   "version": "3.11.5"
  },
  "orig_nbformat": 4
 },
 "nbformat": 4,
 "nbformat_minor": 2
}
