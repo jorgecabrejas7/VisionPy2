{
 "cells": [
  {
   "cell_type": "code",
   "execution_count": 19,
   "metadata": {},
   "outputs": [],
   "source": [
    "import tifffile\n",
    "import numpy as np\n",
    "from pathlib import Path\n",
    "from tqdm import tqdm\n",
    "import os\n",
    "from skimage import measure\n",
    "from skimage.measure import regionprops"
   ]
  },
  {
   "cell_type": "markdown",
   "metadata": {},
   "source": [
    "pip install fill-voids"
   ]
  },
  {
   "cell_type": "code",
   "execution_count": 2,
   "metadata": {},
   "outputs": [],
   "source": [
    "def read_sequence(folder_path):\n",
    "    \"\"\"\n",
    "    Read a sequence of TIFF files in a folder as a 3D volume.\n",
    "\n",
    "    Args:\n",
    "    folder_path (str): Path to the folder containing TIFF files.\n",
    "\n",
    "    Returns:\n",
    "    numpy.ndarray: A 3D array where each slice corresponds to a TIFF file.\n",
    "    \"\"\"\n",
    "\n",
    "    # List and sort the TIFF files\n",
    "    tiff_files = sorted(\n",
    "        [\n",
    "            os.path.join(folder_path, f)\n",
    "            for f in os.listdir(folder_path)\n",
    "            if (f.endswith(\".tiff\") or f.endswith(\".tif\"))\n",
    "        ]\n",
    "    )\n",
    "\n",
    "    tiff_sequence = tifffile.TiffSequence(tiff_files)\n",
    "\n",
    "    # Get the total number of TIFF files\n",
    "    total_files = len(tiff_files)\n",
    "\n",
    "    # Read each TIFF file and update progress\n",
    "    volume = []\n",
    "    with tqdm(total=total_files, desc=\"Progress\") as pbar:\n",
    "        for i, file_path in enumerate(tiff_files):\n",
    "            slice_data = tifffile.imread(file_path)\n",
    "            volume.append(slice_data)\n",
    "\n",
    "            # Update progress\n",
    "            pbar.update(1)\n",
    "\n",
    "    return np.array(volume)"
   ]
  },
  {
   "cell_type": "code",
   "execution_count": 3,
   "metadata": {},
   "outputs": [],
   "source": [
    "def write_sequence(folder_path, name, volume):\n",
    "    \"\"\"\n",
    "    Save a 3D volume as a sequence of TIFF files in a folder.\n",
    "\n",
    "    Args:\n",
    "    folder_path (str): Path to the folder where TIFF files will be saved.\n",
    "    name (str): Name of the TIFF files.\n",
    "    volume (numpy.ndarray): A 3D array where each slice corresponds to an image.\n",
    "    \"\"\"\n",
    "\n",
    "    folder_path = folder_path / name\n",
    "\n",
    "    # Create the folder if it doesn't exist\n",
    "    Path(folder_path).mkdir(parents=True, exist_ok=True)\n",
    "\n",
    "    # Save each slice as a TIFF file with progress bar\n",
    "    with tqdm(total=volume.shape[0], desc=\"Saving\") as pbar:\n",
    "        for i in range(volume.shape[0]):\n",
    "            tifffile.imwrite(f\"{folder_path}/{name}_{i:04d}.tif\", volume[i])\n",
    "            pbar.update(1)\n",
    "\n",
    "    print(\"Saving complete.\")"
   ]
  },
  {
   "cell_type": "code",
   "execution_count": 6,
   "metadata": {},
   "outputs": [
    {
     "name": "stderr",
     "output_type": "stream",
     "text": [
      "Progress:   0%|          | 0/350 [00:00<?, ?it/s]"
     ]
    },
    {
     "name": "stderr",
     "output_type": "stream",
     "text": [
      "Progress: 100%|██████████| 350/350 [01:03<00:00,  5.47it/s]\n"
     ]
    }
   ],
   "source": [
    "xct_folder = Path(\n",
    "    r\"Q:\\11_AIRBUS\\03_LabXCT\\Panel Pegaso\\Probetas\\1\\26\\output\\resampled_xct\"\n",
    ")\n",
    "\n",
    "xct = read_sequence(xct_folder)\n",
    "\n",
    "# xct = tifffile.imread(xct_folder / 'frontal_cropped.tif')"
   ]
  },
  {
   "cell_type": "code",
   "execution_count": 13,
   "metadata": {},
   "outputs": [
    {
     "name": "stdout",
     "output_type": "stream",
     "text": [
      "masking\n",
      "computing otsu\n",
      "thresholding with value:  108\n"
     ]
    }
   ],
   "source": [
    "from skimage import filters\n",
    "\n",
    "print(\"masking\")\n",
    "\n",
    "# Create a masked array, excluding zeros\n",
    "masked_data = np.ma.masked_equal(xct, 0)\n",
    "\n",
    "unmasked_data = masked_data.compressed()\n",
    "\n",
    "print(\"computing otsu\")\n",
    "\n",
    "# Apply Otsu thresholding on the non-zero values\n",
    "threshold_value = filters.threshold_otsu(unmasked_data)\n",
    "\n",
    "print(\"thresholding with value: \", threshold_value)\n",
    "\n",
    "binary = xct > threshold_value"
   ]
  },
  {
   "cell_type": "code",
   "execution_count": 20,
   "metadata": {},
   "outputs": [],
   "source": [
    "max_proj = np.max(binary, axis=0)\n",
    "\n",
    "labels = measure.label(max_proj)\n",
    "\n",
    "props = regionprops(labels)\n",
    "\n",
    "minr, minc, maxr, maxc = props[0].bbox\n",
    "\n",
    "# crop the volume\n",
    "\n",
    "binary_cropped = binary[:, minr:maxr, minc:maxc]"
   ]
  },
  {
   "cell_type": "code",
   "execution_count": 22,
   "metadata": {},
   "outputs": [],
   "source": [
    "import fill_voids\n",
    "\n",
    "sample_mask_cropped = fill_voids.fill(binary_cropped, in_place=False)"
   ]
  },
  {
   "cell_type": "code",
   "execution_count": 25,
   "metadata": {},
   "outputs": [],
   "source": [
    "sample_mask = np.zeros_like(binary)\n",
    "sample_mask[:, minr:maxr, minc:maxc] = sample_mask_cropped"
   ]
  },
  {
   "cell_type": "code",
   "execution_count": 26,
   "metadata": {},
   "outputs": [],
   "source": [
    "# invert binary\n",
    "binary_inverted = np.invert(binary)\n",
    "onlypores = np.logical_and(binary_inverted, sample_mask)"
   ]
  },
  {
   "cell_type": "code",
   "execution_count": 27,
   "metadata": {},
   "outputs": [
    {
     "name": "stderr",
     "output_type": "stream",
     "text": [
      "Saving: 100%|██████████| 350/350 [00:56<00:00,  6.19it/s]\n"
     ]
    },
    {
     "name": "stdout",
     "output_type": "stream",
     "text": [
      "Saving complete.\n"
     ]
    },
    {
     "name": "stderr",
     "output_type": "stream",
     "text": [
      "Saving: 100%|██████████| 350/350 [00:57<00:00,  6.12it/s]\n"
     ]
    },
    {
     "name": "stdout",
     "output_type": "stream",
     "text": [
      "Saving complete.\n"
     ]
    },
    {
     "name": "stderr",
     "output_type": "stream",
     "text": [
      "Saving: 100%|██████████| 350/350 [01:14<00:00,  4.71it/s]"
     ]
    },
    {
     "name": "stdout",
     "output_type": "stream",
     "text": [
      "Saving complete.\n"
     ]
    },
    {
     "name": "stderr",
     "output_type": "stream",
     "text": [
      "\n"
     ]
    }
   ],
   "source": [
    "output_folder = xct_folder.parent / \"segmentation\"\n",
    "\n",
    "# save the segmented volume\n",
    "write_sequence(output_folder, \"onlypores\", onlypores.astype(np.uint8) * 255)\n",
    "# save the sample mask\n",
    "write_sequence(output_folder, \"sample_mask\", sample_mask.astype(np.uint8) * 255)\n",
    "# save the segmented volume\n",
    "write_sequence(output_folder, \"binary\", binary.astype(np.uint8) * 255)"
   ]
  }
 ],
 "metadata": {
  "kernelspec": {
   "display_name": "VisionPyKernel",
   "language": "python",
   "name": "python3"
  },
  "language_info": {
   "codemirror_mode": {
    "name": "ipython",
    "version": 3
   },
   "file_extension": ".py",
   "mimetype": "text/x-python",
   "name": "python",
   "nbconvert_exporter": "python",
   "pygments_lexer": "ipython3",
   "version": "3.11.5"
  }
 },
 "nbformat": 4,
 "nbformat_minor": 2
}
