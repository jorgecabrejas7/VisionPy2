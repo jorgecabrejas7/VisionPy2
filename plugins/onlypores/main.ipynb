{
 "cells": [
  {
   "cell_type": "code",
   "execution_count": 1,
   "metadata": {},
   "outputs": [],
   "source": [
    "import tifffile\n",
    "import numpy as np\n",
    "import pandas as pd\n",
    "from pathlib import Path\n",
    "from tqdm import tqdm\n",
    "import os\n",
    "import onlypores as op\n",
    "from pathlib import Path"
   ]
  },
  {
   "cell_type": "code",
   "execution_count": 2,
   "metadata": {},
   "outputs": [],
   "source": [
    "def read_sequence(folder_path):\n",
    "    \"\"\"\n",
    "    Read a sequence of TIFF files in a folder as a 3D volume.\n",
    "    \n",
    "    Args:\n",
    "    folder_path (str): Path to the folder containing TIFF files.\n",
    "\n",
    "    Returns:\n",
    "    numpy.ndarray: A 3D array where each slice corresponds to a TIFF file.\n",
    "    \"\"\"\n",
    "\n",
    "    # List and sort the TIFF files\n",
    "    tiff_files = sorted([os.path.join(folder_path, f) for f in os.listdir(folder_path) if (f.endswith('.tiff') or f.endswith('.tif'))])\n",
    "\n",
    "    tiff_sequence = tifffile.TiffSequence(tiff_files)\n",
    "    \n",
    "    # Get the total number of TIFF files\n",
    "    total_files = len(tiff_files)\n",
    "    \n",
    "    # Read each TIFF file and update progress\n",
    "    volume = []\n",
    "    with tqdm(total=total_files, desc=\"Progress\") as pbar:\n",
    "        for i, file_path in enumerate(tiff_files):\n",
    "            slice_data = tifffile.imread(file_path)\n",
    "            volume.append(slice_data)\n",
    "            \n",
    "            # Update progress\n",
    "            pbar.update(1)\n",
    "    \n",
    "    return np.array(volume)\n",
    "\n",
    "def write_sequence(folder_path, name, volume):\n",
    "    \"\"\"\n",
    "    Save a 3D volume as a sequence of TIFF files in a folder.\n",
    "    \n",
    "    Args:\n",
    "    folder_path (str): Path to the folder where TIFF files will be saved.\n",
    "    name (str): Name of the TIFF files.\n",
    "    volume (numpy.ndarray): A 3D array where each slice corresponds to an image.\n",
    "    \"\"\"\n",
    "\n",
    "    folder_path = folder_path / name\n",
    "\n",
    "    # Create the folder if it doesn't exist\n",
    "    Path(folder_path).mkdir(parents=True, exist_ok=True)\n",
    "\n",
    "    # Save each slice as a TIFF file with progress bar\n",
    "    with tqdm(total=volume.shape[0], desc=\"Saving\") as pbar:\n",
    "        for i in range(volume.shape[0]):\n",
    "            tifffile.imwrite(f\"{folder_path}/{name}_{i:04d}.tif\", volume[i])\n",
    "            pbar.update(1)\n",
    "    \n",
    "    print(\"Saving complete.\")"
   ]
  },
  {
   "cell_type": "code",
   "execution_count": 3,
   "metadata": {},
   "outputs": [],
   "source": [
    "database = pd.read_csv(r'\\\\192.168.10.106\\imdea\\DataDriven_UT_AlbertoVicente\\11_database\\Database.csv')\n",
    "\n",
    "database = database.replace({np.nan: None})"
   ]
  },
  {
   "cell_type": "code",
   "execution_count": null,
   "metadata": {},
   "outputs": [],
   "source": [
    "database.columns"
   ]
  },
  {
   "cell_type": "code",
   "execution_count": 5,
   "metadata": {},
   "outputs": [],
   "source": [
    "ids = database['Id']\n",
    "\n",
    "paths = database['Frontal 90 Right']\n",
    "\n",
    "onlypores_paths = database['Onlypores']\n",
    "\n",
    "masks = database['Material Mask']\n",
    "\n",
    "segmenteds = database['Binary']"
   ]
  },
  {
   "cell_type": "code",
   "execution_count": 6,
   "metadata": {},
   "outputs": [],
   "source": [
    "onlypores_paths = [None,None]"
   ]
  },
  {
   "cell_type": "code",
   "execution_count": 8,
   "metadata": {},
   "outputs": [
    {
     "name": "stdout",
     "output_type": "stream",
     "text": [
      "Processing 1_26\n",
      "Processing \\\\192.168.10.106\\imdea\\DataDriven_UT_AlbertoVicente\\02_XCT_data\\Airbus\\Panel Pegaso\\Probetas\\1\\26\\frontal_90right.tif\n",
      "masking\n",
      "computing otsu\n",
      "thresholding with value:  108\n",
      "137.1868977546692\n",
      "masking\n",
      "computing otsu\n",
      "thresholding with value:  108\n",
      "125.04253196716309\n"
     ]
    }
   ],
   "source": [
    "for i in range(len(ids)):\n",
    "\n",
    "    if (paths[i] != None) and ((onlypores_paths[i] is None) or (masks[i] is None) or (segmenteds[i] is None)):    \n",
    "\n",
    "        print(f'Processing {ids[i]}')\n",
    "\n",
    "        try:\n",
    "\n",
    "            print(f'Processing {paths[i]}')\n",
    "\n",
    "            xct_folder = Path(paths[i])\n",
    "            # volume = read_sequence(xct_folder)\n",
    "            volume = tifffile.imread(xct_folder)\n",
    "            from time import time\n",
    "            start = time()\n",
    "            onlypores, sample_mask, binary = op.onlypores(volume)\n",
    "            print(time()-start)\n",
    "            start = time()\n",
    "            onlypores2, sample_mask2, binary2 = op.onlypores_parallel(volume)\n",
    "            print(time()-start)\n",
    "\n",
    "            #check if the results are the same\n",
    "            if not np.all(onlypores == onlypores2):\n",
    "                print('onlypores are different')\n",
    "                break\n",
    "\n",
    "            break\n",
    "\n",
    "            output_folder = xct_folder.parent / 'segmentation'\n",
    "\n",
    "            #save the segmented volume\n",
    "            write_sequence(output_folder, 'onlypores', onlypores.astype(np.uint8)*255)\n",
    "            #save the sample mask\n",
    "            write_sequence(output_folder, 'sample_mask', sample_mask.astype(np.uint8)*255)\n",
    "            #save the segmented volume\n",
    "            write_sequence(output_folder, 'binary', binary.astype(np.uint8)*255)\n",
    "\n",
    "            onlypores_paths[i] = str(output_folder / 'onlypores')\n",
    "            masks[i] = str(output_folder / 'sample_mask')\n",
    "            segmenteds[i] = str(output_folder / 'binary')\n",
    "        \n",
    "        except Exception as e:\n",
    "            print(f'Error processing {ids[i]}')\n",
    "            print(e)"
   ]
  },
  {
   "cell_type": "code",
   "execution_count": 7,
   "metadata": {},
   "outputs": [],
   "source": [
    "# database['Onlypores'] = onlypores_paths\n",
    "# database['Material Mask'] = masks\n",
    "# database['Binary'] = segmenteds"
   ]
  },
  {
   "cell_type": "code",
   "execution_count": 8,
   "metadata": {},
   "outputs": [],
   "source": [
    "# database.to_csv(r'\\\\192.168.10.106\\imdea\\DataDriven_UT_AlbertoVicente\\11_database\\Database.csv', index=False)"
   ]
  }
 ],
 "metadata": {
  "kernelspec": {
   "display_name": "VisionPyKernel",
   "language": "python",
   "name": "python3"
  },
  "language_info": {
   "codemirror_mode": {
    "name": "ipython",
    "version": 3
   },
   "file_extension": ".py",
   "mimetype": "text/x-python",
   "name": "python",
   "nbconvert_exporter": "python",
   "pygments_lexer": "ipython3",
   "version": "3.11.5"
  }
 },
 "nbformat": 4,
 "nbformat_minor": 2
}
