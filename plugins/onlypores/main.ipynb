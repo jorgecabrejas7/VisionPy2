{
 "cells": [
  {
   "cell_type": "code",
   "execution_count": 45,
   "metadata": {},
   "outputs": [],
   "source": [
    "import tifffile\n",
    "import numpy as np\n",
    "import pandas as pd\n",
    "from pathlib import Path\n",
    "from tqdm import tqdm\n",
    "import os\n",
    "import onlypores as op\n",
    "import openpyxl\n",
    "from pathlib import Path"
   ]
  },
  {
   "cell_type": "code",
   "execution_count": 46,
   "metadata": {},
   "outputs": [],
   "source": [
    "def read_sequence(folder_path):\n",
    "    \"\"\"\n",
    "    Read a sequence of TIFF files in a folder as a 3D volume.\n",
    "    \n",
    "    Args:\n",
    "    folder_path (str): Path to the folder containing TIFF files.\n",
    "\n",
    "    Returns:\n",
    "    numpy.ndarray: A 3D array where each slice corresponds to a TIFF file.\n",
    "    \"\"\"\n",
    "\n",
    "    # List and sort the TIFF files\n",
    "    tiff_files = sorted([os.path.join(folder_path, f) for f in os.listdir(folder_path) if (f.endswith('.tiff') or f.endswith('.tif'))])\n",
    "\n",
    "    tiff_sequence = tifffile.TiffSequence(tiff_files)\n",
    "    \n",
    "    # Get the total number of TIFF files\n",
    "    total_files = len(tiff_files)\n",
    "    \n",
    "    # Read each TIFF file and update progress\n",
    "    volume = []\n",
    "    with tqdm(total=total_files, desc=\"Progress\") as pbar:\n",
    "        for i, file_path in enumerate(tiff_files):\n",
    "            slice_data = tifffile.imread(file_path)\n",
    "            volume.append(slice_data)\n",
    "            \n",
    "            # Update progress\n",
    "            pbar.update(1)\n",
    "    \n",
    "    return np.array(volume)\n",
    "\n",
    "def write_sequence(folder_path, name, volume):\n",
    "    \"\"\"\n",
    "    Save a 3D volume as a sequence of TIFF files in a folder.\n",
    "    \n",
    "    Args:\n",
    "    folder_path (str): Path to the folder where TIFF files will be saved.\n",
    "    name (str): Name of the TIFF files.\n",
    "    volume (numpy.ndarray): A 3D array where each slice corresponds to an image.\n",
    "    \"\"\"\n",
    "\n",
    "    folder_path = folder_path / name\n",
    "\n",
    "    # Create the folder if it doesn't exist\n",
    "    Path(folder_path).mkdir(parents=True, exist_ok=True)\n",
    "\n",
    "    # Save each slice as a TIFF file with progress bar\n",
    "    with tqdm(total=volume.shape[0], desc=\"Saving\") as pbar:\n",
    "        for i in range(volume.shape[0]):\n",
    "            tifffile.imwrite(f\"{folder_path}/{name}_{i:04d}.tif\", volume[i])\n",
    "            pbar.update(1)\n",
    "    \n",
    "    print(\"Saving complete.\")"
   ]
  },
  {
   "cell_type": "code",
   "execution_count": 47,
   "metadata": {},
   "outputs": [],
   "source": [
    "wb = openpyxl.load_workbook(filename = r'Y:\\Database\\Database.xlsx')\n",
    "\n",
    "sheet = wb.active"
   ]
  },
  {
   "cell_type": "code",
   "execution_count": 48,
   "metadata": {},
   "outputs": [],
   "source": [
    "ids = [s.value for s in sheet['A'][1:]]\n",
    "\n",
    "paths  = [s.value for s in sheet['E'][1:]]\n",
    "\n",
    "paths_lentes = [s.value for s in sheet['S'][1:]]\n",
    "\n",
    "onlypores = [s.value for s in sheet['H'][1:]]\n",
    "\n",
    "masks = [s.value for s in sheet['G'][1:]]\n",
    "\n",
    "segmenteds = [s.value for s in sheet['F'][1:]]\n",
    "\n",
    "onlypores_lentes = [s.value for s in sheet['V'][1:]]\n",
    "\n",
    "masks_lentes = [s.value for s in sheet['U'][1:]]\n",
    "\n",
    "segmenteds_lentes = [s.value for s in sheet['T'][1:]]"
   ]
  },
  {
   "cell_type": "code",
   "execution_count": 49,
   "metadata": {},
   "outputs": [
    {
     "name": "stdout",
     "output_type": "stream",
     "text": [
      "Processing 1_26\n",
      "Processing 1_27\n",
      "Processing 1_28\n",
      "Processing 1_29\n",
      "Processing 1_21\n",
      "Processing 1_22\n",
      "Processing \\\\192.168.10.254\\NAS2_vol2_Main\\11_AIRBUS\\03_LabXCT\\Panel Pegaso\\Probetas\\1\\22\\registered\n"
     ]
    },
    {
     "name": "stderr",
     "output_type": "stream",
     "text": [
      "Progress: 100%|██████████| 319/319 [00:37<00:00,  8.56it/s]\n"
     ]
    },
    {
     "name": "stdout",
     "output_type": "stream",
     "text": [
      "masking\n",
      "computing otsu\n",
      "Error processing 1_22\n",
      "index 0 is out of bounds for axis 0 with size 0\n",
      "Processing 1_23\n",
      "Processing \\\\192.168.10.254\\NAS2_vol2_Main\\11_AIRBUS\\03_LabXCT\\Panel Pegaso\\Probetas\\1\\23\\registered_lente\n"
     ]
    },
    {
     "name": "stderr",
     "output_type": "stream",
     "text": [
      "Progress: 100%|██████████| 228/228 [00:28<00:00,  8.12it/s]\n"
     ]
    },
    {
     "name": "stdout",
     "output_type": "stream",
     "text": [
      "masking\n",
      "computing otsu\n",
      "Error processing 1_23\n",
      "index 0 is out of bounds for axis 0 with size 0\n",
      "Processing 1_24\n",
      "Processing \\\\192.168.10.254\\NAS2_vol2_Main\\11_AIRBUS\\03_LabXCT\\Panel Pegaso\\Probetas\\1\\24\\registered\n"
     ]
    },
    {
     "name": "stderr",
     "output_type": "stream",
     "text": [
      "Progress: 100%|██████████| 325/325 [00:37<00:00,  8.75it/s]\n"
     ]
    },
    {
     "name": "stdout",
     "output_type": "stream",
     "text": [
      "masking\n",
      "computing otsu\n",
      "Error processing 1_24\n",
      "index 0 is out of bounds for axis 0 with size 0\n",
      "Processing 1_31\n",
      "Processing 1_32\n",
      "Processing 1_33\n",
      "Processing 1_35\n",
      "Processing 1_6\n",
      "Processing 1_7\n",
      "Processing 1_8\n",
      "Processing 1_9\n",
      "Processing None\n"
     ]
    }
   ],
   "source": [
    "for i in range(len(ids)):\n",
    "\n",
    "    print(f'Processing {ids[i]}')\n",
    "\n",
    "    if (paths[i] != None) and ((onlypores[i] is None) or (masks[i] is None) or (segmenteds[i] is None)):\n",
    "\n",
    "        try:\n",
    "\n",
    "            print(f'Processing {paths[i]}')\n",
    "\n",
    "            xct_folder = Path(paths[i])\n",
    "            volume = read_sequence(xct_folder)\n",
    "            onlypores, sample_mask, binary = op.onlypores(volume)\n",
    "\n",
    "            output_folder = xct_folder.parent / 'segmentation'\n",
    "\n",
    "            #save the segmented volume\n",
    "            write_sequence(output_folder, 'onlypores', onlypores.astype(np.uint8)*255)\n",
    "            #save the sample mask\n",
    "            write_sequence(output_folder, 'sample_mask', sample_mask.astype(np.uint8)*255)\n",
    "            #save the segmented volume\n",
    "            write_sequence(output_folder, 'binary', binary.astype(np.uint8)*255)\n",
    "\n",
    "            sheet[f'H{i+2}'] = str(output_folder / 'onlypores')\n",
    "            sheet[f'G{i+2}'] = str(output_folder / 'sample_mask')\n",
    "            sheet[f'F{i+2}'] = str(output_folder / 'binary')\n",
    "        \n",
    "        except Exception as e:\n",
    "            print(f'Error processing {ids[i]}')\n",
    "            print(e)\n",
    "    \n",
    "    if (paths_lentes[i] != None) and ((onlypores_lentes[i] is None) or (masks_lentes[i] is None) or (segmenteds_lentes[i] is None)):\n",
    "\n",
    "        try:\n",
    "\n",
    "            print(f'Processing {paths_lentes[i]}')\n",
    "\n",
    "            xct_folder = Path(paths_lentes[i])\n",
    "            volume = read_sequence(xct_folder)\n",
    "            onlypores, sample_mask, binary = op.onlypores(volume)\n",
    "\n",
    "            output_folder = xct_folder.parent / 'segmentation'\n",
    "\n",
    "            #save the segmented volume\n",
    "            write_sequence(output_folder, 'onlypores_lente', onlypores.astype(np.uint8)*255)\n",
    "            #save the sample mask\n",
    "            write_sequence(output_folder, 'sample_mask_lente', sample_mask.astype(np.uint8)*255)\n",
    "            #save the segmented volume\n",
    "            write_sequence(output_folder, 'binary_lente', binary.astype(np.uint8)*255)\n",
    "\n",
    "            sheet[f'V{i+2}'] = str(output_folder / 'onlypores_lente')\n",
    "            sheet[f'U{i+2}'] = str(output_folder / 'sample_mask_lente')\n",
    "            sheet[f'T{i+2}'] = str(output_folder / 'binary_lente')\n",
    "        \n",
    "        except Exception as e:\n",
    "            print(f'Error processing {ids[i]}')\n",
    "            print(e)"
   ]
  },
  {
   "cell_type": "code",
   "execution_count": 50,
   "metadata": {},
   "outputs": [],
   "source": [
    "wb.save(r'Y:\\Database\\Database.xlsx')"
   ]
  }
 ],
 "metadata": {
  "kernelspec": {
   "display_name": "VisionPyKernel",
   "language": "python",
   "name": "python3"
  },
  "language_info": {
   "codemirror_mode": {
    "name": "ipython",
    "version": 3
   },
   "file_extension": ".py",
   "mimetype": "text/x-python",
   "name": "python",
   "nbconvert_exporter": "python",
   "pygments_lexer": "ipython3",
   "version": "3.11.5"
  }
 },
 "nbformat": 4,
 "nbformat_minor": 2
}
