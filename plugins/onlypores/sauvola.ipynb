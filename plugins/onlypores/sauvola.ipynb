{
 "cells": [
  {
   "cell_type": "code",
   "execution_count": null,
   "id": "c3d1dc2f",
   "metadata": {},
   "outputs": [],
   "source": [
    "import numpy as np\n",
    "import matplotlib.pyplot as plt\n",
    "import tifffile as tiff\n",
    "from pathlib import Path\n",
    "from tqdm import tqdm"
   ]
  },
  {
   "cell_type": "markdown",
   "id": "7501ad35",
   "metadata": {},
   "source": [
    "# Image test"
   ]
  },
  {
   "cell_type": "code",
   "execution_count": null,
   "id": "841f0bb7",
   "metadata": {},
   "outputs": [],
   "source": [
    "file_path = Path(r'\\\\192.168.10.106\\imdea\\DataDriven_UT_AlbertoVicente\\02_XCT_data\\Juan Ignacio\\probetas\\4\\prueba.tif')\n",
    "\n",
    "# Read the TIFF file\n",
    "image = tiff.imread(file_path)"
   ]
  },
  {
   "cell_type": "code",
   "execution_count": null,
   "id": "4cbd05f6",
   "metadata": {},
   "outputs": [],
   "source": [
    "plt.imshow(image, cmap='gray')"
   ]
  },
  {
   "cell_type": "code",
   "execution_count": null,
   "id": "ef677eec",
   "metadata": {},
   "outputs": [],
   "source": [
    "#sauvola thresholding\n",
    "from skimage.filters import threshold_sauvola\n",
    "\n",
    "#apply sauvola thresholding\n",
    "sauvola_threshold = threshold_sauvola(image, window_size=49, k=0.05)\n",
    "\n",
    "binary_sauvola_noisy = image < sauvola_threshold"
   ]
  },
  {
   "cell_type": "code",
   "execution_count": null,
   "id": "19611443",
   "metadata": {},
   "outputs": [],
   "source": [
    "plt.imshow(binary_sauvola_noisy, cmap='gray')"
   ]
  },
  {
   "cell_type": "code",
   "execution_count": null,
   "id": "8fee458e",
   "metadata": {},
   "outputs": [],
   "source": [
    "#binary remove small objects\n",
    "from skimage.morphology import remove_small_objects\n",
    "\n",
    "#label the image\n",
    "from skimage.measure import label\n",
    "labeled_image = label(binary_sauvola_noisy)\n",
    "\n",
    "plt.imshow(labeled_image)\n",
    "\n",
    "#remove small objects\n",
    "binary_sauvola = remove_small_objects(labeled_image, min_size=100) > 0"
   ]
  },
  {
   "cell_type": "code",
   "execution_count": null,
   "id": "5919ceec",
   "metadata": {},
   "outputs": [],
   "source": [
    "plt.imshow(binary_sauvola, cmap='gray')"
   ]
  },
  {
   "cell_type": "code",
   "execution_count": null,
   "id": "7761df62",
   "metadata": {},
   "outputs": [],
   "source": [
    "#plot the original image, the noisy sauvola image and the binary sauvola image in the same figure\n",
    "fig, ax = plt.subplots(1, 3, figsize=(15, 5))\n",
    "ax[0].imshow(image, cmap='gray')\n",
    "ax[0].set_title('Original Image')\n",
    "ax[0].axis('off')\n",
    "ax[1].imshow(binary_sauvola_noisy, cmap='gray')\n",
    "ax[1].set_title('Noisy Sauvola Image')\n",
    "ax[1].axis('off')\n",
    "ax[2].imshow(binary_sauvola, cmap='gray')\n",
    "ax[2].set_title('Binary Sauvola Image')\n",
    "ax[2].axis('off')\n",
    "plt.tight_layout()\n",
    "plt.show()\n"
   ]
  },
  {
   "cell_type": "markdown",
   "id": "f78a7e75",
   "metadata": {},
   "source": [
    "# Volume test"
   ]
  },
  {
   "cell_type": "code",
   "execution_count": null,
   "id": "f47a88ef",
   "metadata": {},
   "outputs": [],
   "source": [
    "volume_path  = Path(r'\\\\192.168.10.106\\imdea\\DataDriven_UT_AlbertoVicente\\02_XCT_data\\Juan Ignacio\\probetas\\4\\frontal_90right.tif')\n",
    "\n",
    "# Read the volume\n",
    "volume = tiff.imread(volume_path)"
   ]
  },
  {
   "cell_type": "code",
   "execution_count": 142,
   "id": "24aa35ac",
   "metadata": {},
   "outputs": [],
   "source": [
    "slide = 5"
   ]
  },
  {
   "cell_type": "code",
   "execution_count": 143,
   "id": "fa5244d8",
   "metadata": {},
   "outputs": [
    {
     "data": {
      "text/plain": [
       "<matplotlib.image.AxesImage at 0x2c0f4b203d0>"
      ]
     },
     "execution_count": 143,
     "metadata": {},
     "output_type": "execute_result"
    },
    {
     "data": {
      "image/png": "[encoded data removed]",
      "text/plain": [
       "<Figure size 640x480 with 1 Axes>"
      ]
     },
     "metadata": {},
     "output_type": "display_data"
    }
   ],
   "source": [
    "plt.imshow(volume[slide], cmap='gray')"
   ]
  },
  {
   "cell_type": "code",
   "execution_count": 144,
   "id": "585dfe97",
   "metadata": {},
   "outputs": [],
   "source": [
    "#otsu thresholding\n",
    "from skimage.filters import threshold_otsu\n",
    "\n",
    "#apply otsu thresholding\n",
    "# otsu_threshold = threshold_otsu(volume)\n",
    "\n",
    "binary_otsu = volume < otsu_threshold"
   ]
  },
  {
   "cell_type": "code",
   "execution_count": 145,
   "id": "10927bce",
   "metadata": {},
   "outputs": [
    {
     "data": {
      "text/plain": [
       "<matplotlib.image.AxesImage at 0x2c0f4b6c5d0>"
      ]
     },
     "execution_count": 145,
     "metadata": {},
     "output_type": "execute_result"
    },
    {
     "data": {
      "image/png": "[encoded data removed]",
      "text/plain": [
       "<Figure size 640x480 with 1 Axes>"
      ]
     },
     "metadata": {},
     "output_type": "display_data"
    }
   ],
   "source": [
    "plt.imshow(binary_otsu[slide], cmap='gray')"
   ]
  },
  {
   "cell_type": "code",
   "execution_count": 125,
   "id": "a783ec21",
   "metadata": {},
   "outputs": [
    {
     "name": "stderr",
     "output_type": "stream",
     "text": [
      "100%|██████████| 225/225 [00:08<00:00, 27.69it/s]\n"
     ]
    }
   ],
   "source": [
    "from joblib import Parallel, delayed\n",
    "\n",
    "def process_slice(slice_):\n",
    "    sauvola_threshold = threshold_sauvola(slice_, window_size=49, k=0.05)\n",
    "    return slice_ < sauvola_threshold\n",
    "\n",
    "# Apply Sauvola thresholding to each slice in parallel\n",
    "suavola_noisy = np.array(Parallel(n_jobs=-1)(delayed(process_slice)(volume[i]) for i in tqdm(range(volume.shape[0]))))"
   ]
  },
  {
   "cell_type": "code",
   "execution_count": 146,
   "id": "6efcb863",
   "metadata": {},
   "outputs": [
    {
     "data": {
      "text/plain": [
       "<matplotlib.image.AxesImage at 0x2c0f4bedcd0>"
      ]
     },
     "execution_count": 146,
     "metadata": {},
     "output_type": "execute_result"
    },
    {
     "data": {
      "image/png": "[encoded data removed]",
      "text/plain": [
       "<Figure size 640x480 with 1 Axes>"
      ]
     },
     "metadata": {},
     "output_type": "display_data"
    }
   ],
   "source": [
    "plt.imshow(suavola_noisy[slide], cmap='gray')"
   ]
  },
  {
   "cell_type": "code",
   "execution_count": 127,
   "id": "5f6cbd64",
   "metadata": {},
   "outputs": [
    {
     "name": "stderr",
     "output_type": "stream",
     "text": [
      "100%|██████████| 225/225 [00:01<00:00, 134.42it/s]\n"
     ]
    }
   ],
   "source": [
    "#remove small objcets \n",
    "\n",
    "def remove_small_objects_slice(slice_):\n",
    "    labeled_slice = label(slice_)\n",
    "    return remove_small_objects(labeled_slice, min_size=100) > 0\n",
    "\n",
    "# Apply small object removal to each slice in parallel\n",
    "binary_sauvola = np.array(Parallel(n_jobs=-1)(delayed(remove_small_objects_slice)(suavola_noisy[i]) for i in tqdm(range(suavola_noisy.shape[0]))))"
   ]
  },
  {
   "cell_type": "code",
   "execution_count": 135,
   "id": "af3eb4ad",
   "metadata": {},
   "outputs": [
    {
     "data": {
      "text/plain": [
       "<matplotlib.image.AxesImage at 0x2c0f1449f10>"
      ]
     },
     "execution_count": 135,
     "metadata": {},
     "output_type": "execute_result"
    },
    {
     "data": {
      "image/png": "[encoded data removed]",
      "text/plain": [
       "<Figure size 640x480 with 1 Axes>"
      ]
     },
     "metadata": {},
     "output_type": "display_data"
    }
   ],
   "source": [
    "plt.imshow(binary_sauvola[slide], cmap='gray')"
   ]
  },
  {
   "cell_type": "markdown",
   "id": "359c99ee",
   "metadata": {},
   "source": [
    "# Sauvola full function"
   ]
  },
  {
   "cell_type": "code",
   "execution_count": null,
   "id": "eef6ac30",
   "metadata": {},
   "outputs": [],
   "source": [
    "def sauvola_thresholding(volume, window_size=49, k=0.05, min_size=100):\n",
    "    \"\"\"\n",
    "    Apply Sauvola thresholding and remove small objects from a 3D volume.\n",
    "\n",
    "    Parameters:\n",
    "    - volume: 3D numpy array\n",
    "    - window_size: size of the local window for Sauvola thresholding\n",
    "    - k: parameter for Sauvola thresholding\n",
    "    - min_size: minimum size of objects to keep\n",
    "\n",
    "    Returns:\n",
    "    - binary_volume: 3D binary numpy array after Sauvola thresholding and small object removal\n",
    "    \"\"\"\n",
    "\n",
    "    def sauvola_slice(slice_):\n",
    "        sauvola_threshold = threshold_sauvola(slice_, window_size=49, k=0.05)\n",
    "        return slice_ < sauvola_threshold\n",
    "\n",
    "    def remove_small_objects_slice(slice_):\n",
    "        labeled_slice = label(slice_)\n",
    "        return remove_small_objects(labeled_slice, min_size=100) > 0\n",
    "\n",
    "    # Apply Sauvola thresholding to each slice in parallel\n",
    "    sauvola_noisy = np.array(Parallel(n_jobs=-1)(delayed(sauvola_slice)(volume[i]) for i in tqdm(range(volume.shape[0]))))\n",
    "\n",
    "    # Remove small objects from each slice in parallel\n",
    "    binary_volume = np.array(Parallel(n_jobs=-1)(delayed(remove_small_objects_slice)(sauvola_noisy[i]) for i in tqdm(range(sauvola_noisy.shape[0]))))\n",
    "\n",
    "    return binary_volume"
   ]
  }
 ],
 "metadata": {
  "kernelspec": {
   "display_name": "VisionPyKernel",
   "language": "python",
   "name": "python3"
  },
  "language_info": {
   "codemirror_mode": {
    "name": "ipython",
    "version": 3
   },
   "file_extension": ".py",
   "mimetype": "text/x-python",
   "name": "python",
   "nbconvert_exporter": "python",
   "pygments_lexer": "ipython3",
   "version": "3.11.5"
  }
 },
 "nbformat": 4,
 "nbformat_minor": 5
}
