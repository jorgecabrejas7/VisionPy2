{
 "cells": [
  {
   "cell_type": "code",
   "execution_count": 1,
   "id": "d8725eb4",
   "metadata": {},
   "outputs": [],
   "source": [
    "import numpy as np\n",
    "import matplotlib.pyplot as plt\n",
    "import tifffile \n",
    "from pathlib import Path\n",
    "import os\n",
    "from tqdm import tqdm\n",
    "import sys\n",
    "sys.path.append(r'\\\\192.168.10.106\\imdea\\DataDriven_UT_AlbertoVicente\\10_code\\UTvsXCT-preprocessing')\n",
    "from preprocess_tools import aligner,onlypores,io,pore_filtering"
   ]
  },
  {
   "cell_type": "code",
   "execution_count": 2,
   "id": "daa693be",
   "metadata": {},
   "outputs": [],
   "source": [
    "#load the onlypores to filter\n",
    "\n",
    "file_path = Path(r'\\\\192.168.10.106\\imdea\\DataDriven_UT_AlbertoVicente\\02_XCT_data\\Fabricacion Nacho\\02_Laminados_Nacho\\Probetas\\Na_01\\Na_01_bottom_2800x214x3942_reslice_top_onlypores.tif')\n",
    "\n",
    "volume = io.load_tif(file_path)"
   ]
  },
  {
   "cell_type": "markdown",
   "id": "9db2d438",
   "metadata": {},
   "source": [
    "# Full filtering in 1 step"
   ]
  },
  {
   "cell_type": "code",
   "execution_count": null,
   "id": "73b3261a",
   "metadata": {},
   "outputs": [
    {
     "name": "stderr",
     "output_type": "stream",
     "text": [
      "100%|██████████| 137206/137206 [00:02<00:00, 64633.35it/s]\n"
     ]
    }
   ],
   "source": [
    "filtered_final = pore_filtering.complete_filtering(volume)"
   ]
  },
  {
   "cell_type": "markdown",
   "id": "a630e1ec",
   "metadata": {},
   "source": [
    "# Saving"
   ]
  },
  {
   "cell_type": "code",
   "execution_count": null,
   "id": "77770863",
   "metadata": {},
   "outputs": [],
   "source": [
    "# Save the filtered volume\n",
    "output_path = file_path.parent / (file_path.stem + '_filtered.tif')\n",
    "\n",
    "io.save_tif(output_path, filtered_final)"
   ]
  }
 ],
 "metadata": {
  "kernelspec": {
   "display_name": "prepUTvsXCT",
   "language": "python",
   "name": "python3"
  },
  "language_info": {
   "codemirror_mode": {
    "name": "ipython",
    "version": 3
   },
   "file_extension": ".py",
   "mimetype": "text/x-python",
   "name": "python",
   "nbconvert_exporter": "python",
   "pygments_lexer": "ipython3",
   "version": "3.13.2"
  }
 },
 "nbformat": 4,
 "nbformat_minor": 5
}
