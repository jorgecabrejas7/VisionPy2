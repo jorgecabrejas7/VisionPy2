{
 "cells": [
  {
   "cell_type": "code",
   "execution_count": null,
   "metadata": {},
   "outputs": [],
   "source": [
    "import tifffile\n",
    "import matplotlib.pyplot as plt\n",
    "import numpy as np\n",
    "from pathlib import Path\n",
    "from tqdm import tqdm\n",
    "import os\n",
    "from skimage.measure import regionprops\n",
    "import sys\n",
    "\n",
    "# Get the parent directory\n",
    "parent_dir = os.path.abspath(os.path.join(os.getcwd(), \"..\"))\n",
    "\n",
    "# Add the parent directory to sys.path\n",
    "sys.path.append(parent_dir)"
   ]
  },
  {
   "cell_type": "markdown",
   "metadata": {},
   "source": [
    "# aux"
   ]
  },
  {
   "cell_type": "code",
   "execution_count": null,
   "metadata": {},
   "outputs": [],
   "source": [
    "def read_sequence(folder_path):\n",
    "    \"\"\"\n",
    "    Read a sequence of TIFF files in a folder as a 3D volume.\n",
    "\n",
    "    Args:\n",
    "    folder_path (str): Path to the folder containing TIFF files.\n",
    "\n",
    "    Returns:\n",
    "    numpy.ndarray: A 3D array where each slice corresponds to a TIFF file.\n",
    "    \"\"\"\n",
    "\n",
    "    # List and sort the TIFF files\n",
    "    tiff_files = sorted(\n",
    "        [\n",
    "            os.path.join(folder_path, f)\n",
    "            for f in os.listdir(folder_path)\n",
    "            if (f.endswith(\".tiff\") or f.endswith(\".tif\"))\n",
    "        ]\n",
    "    )\n",
    "\n",
    "    tiff_sequence = tifffile.TiffSequence(tiff_files)\n",
    "\n",
    "    # Get the total number of TIFF files\n",
    "    total_files = len(tiff_files)\n",
    "\n",
    "    # Read each TIFF file and update progress\n",
    "    volume = []\n",
    "    with tqdm(total=total_files, desc=\"Progress\") as pbar:\n",
    "        for i, file_path in enumerate(tiff_files):\n",
    "            slice_data = tifffile.imread(file_path)\n",
    "            volume.append(slice_data)\n",
    "\n",
    "            # Update progress\n",
    "            pbar.update(1)\n",
    "\n",
    "    return np.array(volume)"
   ]
  },
  {
   "cell_type": "markdown",
   "metadata": {},
   "source": [
    "# Main"
   ]
  },
  {
   "cell_type": "code",
   "execution_count": null,
   "metadata": {},
   "outputs": [],
   "source": [
    "volume_path = Path(\n",
    "    r\"\\\\192.168.10.106\\imdea\\DataDriven_UT_AlbertoVicente\\02_XCT_data\\Juan Ignacio\\medidas\\JI_4+5+7+8\\volumen_eq\"\n",
    ")\n",
    "\n",
    "volume = read_sequence(volume_path)\n",
    "\n",
    "print(volume.shape)"
   ]
  },
  {
   "cell_type": "code",
   "execution_count": null,
   "metadata": {},
   "outputs": [],
   "source": [
    "plt.imshow(volume[0], cmap=\"gray\")"
   ]
  },
  {
   "cell_type": "code",
   "execution_count": null,
   "metadata": {},
   "outputs": [],
   "source": [
    "n_samples = 4"
   ]
  },
  {
   "cell_type": "code",
   "execution_count": null,
   "metadata": {},
   "outputs": [],
   "source": [
    "# otsu threshold\n",
    "from skimage.filters import threshold_otsu\n",
    "\n",
    "thresh = threshold_otsu(volume)\n",
    "binary = volume > thresh\n",
    "\n",
    "plt.imshow(binary[0], cmap=\"gray\")"
   ]
  },
  {
   "cell_type": "code",
   "execution_count": null,
   "metadata": {},
   "outputs": [],
   "source": [
    "# binary fill holes\n",
    "from scipy.ndimage import binary_fill_holes\n",
    "from joblib import Parallel, delayed\n",
    "\n",
    "# Assuming binary is already defined\n",
    "filled = np.zeros_like(binary)\n",
    "\n",
    "\n",
    "def process_slice(i):\n",
    "    return binary_fill_holes(binary[i])\n",
    "\n",
    "\n",
    "# Parallel processing\n",
    "filled_slices = Parallel(n_jobs=-1)(\n",
    "    delayed(process_slice)(i) for i in tqdm(range(binary.shape[0]))\n",
    ")\n",
    "\n",
    "# Combine the results\n",
    "for i in range(binary.shape[0]):\n",
    "    filled[i] = filled_slices[i]\n",
    "\n",
    "plt.imshow(filled[0], cmap=\"gray\")"
   ]
  },
  {
   "cell_type": "code",
   "execution_count": null,
   "metadata": {},
   "outputs": [],
   "source": [
    "plt.imshow(filled.min(axis=0), cmap=\"gray\")"
   ]
  },
  {
   "cell_type": "code",
   "execution_count": null,
   "metadata": {},
   "outputs": [],
   "source": [
    "# binary dilate\n",
    "from skimage.measure import label\n",
    "\n",
    "label_image = label(filled)\n",
    "\n",
    "props = regionprops(label_image)\n",
    "\n",
    "# sort props by area\n",
    "props.sort(key=lambda x: x.area, reverse=True)"
   ]
  },
  {
   "cell_type": "code",
   "execution_count": 28,
   "metadata": {},
   "outputs": [
    {
     "name": "stderr",
     "output_type": "stream",
     "text": [
      "100%|██████████| 4/4 [00:00<00:00, 795.96it/s]\n"
     ]
    }
   ],
   "source": [
    "def process_sample(volume, label_image, label, bbox):\n",
    "    sample = volume.copy()\n",
    "    sample[label_image != label] = 0\n",
    "    sample = sample[bbox[0] : bbox[3], bbox[1] : bbox[4], bbox[2] : bbox[5]]\n",
    "    return sample\n",
    "\n",
    "\n",
    "volumes = Parallel(n_jobs=-1)(\n",
    "    delayed(process_sample)(volume, label_image, props[i].label, props[i].bbox)\n",
    "    for i in tqdm(range(n_samples))\n",
    ")"
   ]
  },
  {
   "cell_type": "code",
   "execution_count": null,
   "metadata": {},
   "outputs": [],
   "source": [
    "bboxes = [props[i].bbox for i in range(n_samples)]\n",
    "\n",
    "# order the samples by bbox[2]\n",
    "\n",
    "volumes = [v for _, v in sorted(zip(bboxes, volumes), key=lambda pair: pair[0][2])]"
   ]
  }
 ],
 "metadata": {
  "kernelspec": {
   "display_name": "VisionPyKernel",
   "language": "python",
   "name": "python3"
  },
  "language_info": {
   "codemirror_mode": {
    "name": "ipython",
    "version": 3
   },
   "file_extension": ".py",
   "mimetype": "text/x-python",
   "name": "python",
   "nbconvert_exporter": "python",
   "pygments_lexer": "ipython3",
   "version": "3.11.5"
  }
 },
 "nbformat": 4,
 "nbformat_minor": 2
}
