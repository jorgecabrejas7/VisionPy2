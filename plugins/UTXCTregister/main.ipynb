{
 "cells": [
  {
   "cell_type": "code",
   "execution_count": 1,
   "metadata": {},
   "outputs": [],
   "source": [
    "import tifffile\n",
    "import numpy as np\n",
    "import pandas as pd\n",
    "from pathlib import Path\n",
    "from tqdm import tqdm\n",
    "import os\n",
    "import UTXCTregister as reg\n",
    "import openpyxl\n",
    "from pathlib import Path"
   ]
  },
  {
   "cell_type": "code",
   "execution_count": 2,
   "metadata": {},
   "outputs": [],
   "source": [
    "def read_sequence(folder_path):\n",
    "    \"\"\"\n",
    "    Read a sequence of TIFF files in a folder as a 3D volume.\n",
    "    \n",
    "    Args:\n",
    "    folder_path (str): Path to the folder containing TIFF files.\n",
    "\n",
    "    Returns:\n",
    "    numpy.ndarray: A 3D array where each slice corresponds to a TIFF file.\n",
    "    \"\"\"\n",
    "\n",
    "    # List and sort the TIFF files\n",
    "    tiff_files = sorted([os.path.join(folder_path, f) for f in os.listdir(folder_path) if (f.endswith('.tiff') or f.endswith('.tif'))])\n",
    "\n",
    "    tiff_sequence = tifffile.TiffSequence(tiff_files)\n",
    "    \n",
    "    # Get the total number of TIFF files\n",
    "    total_files = len(tiff_files)\n",
    "    \n",
    "    # Read each TIFF file and update progress\n",
    "    volume = []\n",
    "    with tqdm(total=total_files, desc=\"Progress\") as pbar:\n",
    "        for i, file_path in enumerate(tiff_files):\n",
    "            slice_data = tifffile.imread(file_path)\n",
    "            volume.append(slice_data)\n",
    "            \n",
    "            # Update progress\n",
    "            pbar.update(1)\n",
    "    \n",
    "    return np.array(volume)\n",
    "\n",
    "def write_sequence(folder_path, name, volume):\n",
    "    \"\"\"\n",
    "    Save a 3D volume as a sequence of TIFF files in a folder.\n",
    "    \n",
    "    Args:\n",
    "    folder_path (str): Path to the folder where TIFF files will be saved.\n",
    "    name (str): Name of the TIFF files.\n",
    "    volume (numpy.ndarray): A 3D array where each slice corresponds to an image.\n",
    "    \"\"\"\n",
    "\n",
    "    folder_path = folder_path / name\n",
    "\n",
    "    # Create the folder if it doesn't exist\n",
    "    Path(folder_path).mkdir(parents=True, exist_ok=True)\n",
    "\n",
    "    # Save each slice as a TIFF file with progress bar\n",
    "    with tqdm(total=volume.shape[0], desc=\"Saving\") as pbar:\n",
    "        for i in range(volume.shape[0]):\n",
    "            tifffile.imwrite(f\"{folder_path}/{name}_{i:04d}.tif\", volume[i])\n",
    "            pbar.update(1)\n",
    "    \n",
    "    print(\"Saving complete.\")"
   ]
  },
  {
   "cell_type": "code",
   "execution_count": 3,
   "metadata": {},
   "outputs": [],
   "source": [
    "database = pd.read_csv(r'\\\\192.168.10.106\\imdea\\DataDriven_UT_AlbertoVicente\\11_database\\Database.csv')\n",
    "\n",
    "database = database.replace({np.nan: None})"
   ]
  },
  {
   "cell_type": "code",
   "execution_count": 4,
   "metadata": {},
   "outputs": [
    {
     "data": {
      "text/plain": [
       "Index(['Id', 'Original', 'Eq', 'Frontal 90 Right', 'XCT padded', 'Binary',\n",
       "       'Material Mask', 'Onlypores', 'UT', 'UT aligned', 'UT aligned amp',\n",
       "       'UT registered', 'UT lente', 'UT aligned lente', 'UT aligned amp lente',\n",
       "       'UT registered lente', 'Dataset PatchvsVolfrac 3x3',\n",
       "       'Dataset PatchvsPacth 3x3', 'Dataset PatchvsVolfrac lente 3x3',\n",
       "       'Dataset PatchvsPacth lente 3x3', 'Dataset PatchvsVolfrac 5x5',\n",
       "       'Dataset PatchvsPacth 5x5', 'Dataset PatchvsVolfrac lente 5x5',\n",
       "       'Dataset PatchvsPacth lente 5x5', 'Dataset PatchvsVolfrac 7x7',\n",
       "       'Dataset PatchvsPacth 7x7', 'Dataset PatchvsVolfrac lente 7x7',\n",
       "       'Dataset PatchvsPacth lente 7x7'],\n",
       "      dtype='object')"
      ]
     },
     "execution_count": 4,
     "metadata": {},
     "output_type": "execute_result"
    }
   ],
   "source": [
    "database.columns"
   ]
  },
  {
   "cell_type": "code",
   "execution_count": 5,
   "metadata": {},
   "outputs": [],
   "source": [
    "ids = database['Id'].values\n",
    "\n",
    "frontals  = database['Frontal 90 Right'].values\n",
    "\n",
    "xct_paddeds = database['XCT padded'].values\n",
    "\n",
    "amps = database['UT aligned amp'].values\n",
    "\n",
    "rfs = database['UT aligned'].values\n",
    "\n",
    "amps_lente = database['UT aligned amp lente'].values\n",
    "\n",
    "rfs_lente = database['UT aligned lente'].values\n",
    "\n",
    "registered_uts = database['UT registered'].values\n",
    "\n",
    "registered_uts_lente = database['UT registered lente'].values"
   ]
  },
  {
   "cell_type": "code",
   "execution_count": 9,
   "metadata": {},
   "outputs": [
    {
     "name": "stdout",
     "output_type": "stream",
     "text": [
      "Registering 1_26\n"
     ]
    },
    {
     "name": "stderr",
     "output_type": "stream",
     "text": [
      "Progress: 100%|██████████| 350/350 [00:37<00:00,  9.26it/s]\n"
     ]
    },
    {
     "name": "stdout",
     "output_type": "stream",
     "text": [
      "Preprocessing\n",
      "Not enough UT points\n",
      "Error processing 1_26\n",
      "Not enough UT points\n",
      "Registering 1_10\n",
      "Preprocessing\n",
      "Preprocessed\n",
      "Registering\n",
      "Registered\n",
      "Applying transformation\n",
      "Transformation applied\n"
     ]
    },
    {
     "name": "stderr",
     "output_type": "stream",
     "text": [
      "Saving: 100%|██████████| 242/242 [01:19<00:00,  3.04it/s]\n"
     ]
    },
    {
     "name": "stdout",
     "output_type": "stream",
     "text": [
      "Saving complete.\n",
      "Registering 1_10 lens\n"
     ]
    },
    {
     "name": "stderr",
     "output_type": "stream",
     "text": [
      "Progress: 100%|██████████| 242/242 [00:30<00:00,  7.82it/s]\n"
     ]
    },
    {
     "name": "stdout",
     "output_type": "stream",
     "text": [
      "Preprocessing\n",
      "Preprocessed\n",
      "Registering\n",
      "Registered\n",
      "Applying transformation\n",
      "Transformation applied\n",
      "Registering 1_11\n",
      "Preprocessing\n",
      "Preprocessed\n",
      "Registering\n",
      "Registered\n",
      "Applying transformation\n",
      "Transformation applied\n"
     ]
    },
    {
     "name": "stderr",
     "output_type": "stream",
     "text": [
      "Saving: 100%|██████████| 249/249 [01:32<00:00,  2.70it/s]\n"
     ]
    },
    {
     "name": "stdout",
     "output_type": "stream",
     "text": [
      "Saving complete.\n",
      "Registering 1_11 lens\n"
     ]
    },
    {
     "name": "stderr",
     "output_type": "stream",
     "text": [
      "Progress: 100%|██████████| 249/249 [00:35<00:00,  7.01it/s]\n"
     ]
    },
    {
     "name": "stdout",
     "output_type": "stream",
     "text": [
      "Preprocessing\n",
      "Preprocessed\n",
      "Registering\n",
      "Registered\n",
      "Applying transformation\n",
      "Transformation applied\n",
      "Registering 1_12\n",
      "Preprocessing\n",
      "Preprocessed\n",
      "Registering\n",
      "Registered\n",
      "Applying transformation\n",
      "Transformation applied\n"
     ]
    },
    {
     "name": "stderr",
     "output_type": "stream",
     "text": [
      "Saving: 100%|██████████| 259/259 [01:30<00:00,  2.86it/s]\n"
     ]
    },
    {
     "name": "stdout",
     "output_type": "stream",
     "text": [
      "Saving complete.\n",
      "Registering 1_12 lens\n"
     ]
    },
    {
     "name": "stderr",
     "output_type": "stream",
     "text": [
      "Progress: 100%|██████████| 259/259 [00:34<00:00,  7.45it/s]\n"
     ]
    },
    {
     "name": "stdout",
     "output_type": "stream",
     "text": [
      "Preprocessing\n",
      "Preprocessed\n",
      "Registering\n",
      "Registered\n",
      "Applying transformation\n",
      "Transformation applied\n",
      "Registering 1_13\n",
      "Preprocessing\n",
      "Preprocessed\n",
      "Registering\n",
      "Registered\n",
      "Applying transformation\n",
      "Transformation applied\n"
     ]
    },
    {
     "name": "stderr",
     "output_type": "stream",
     "text": [
      "Saving: 100%|██████████| 249/249 [01:31<00:00,  2.72it/s]\n"
     ]
    },
    {
     "name": "stdout",
     "output_type": "stream",
     "text": [
      "Saving complete.\n",
      "Registering 1_13 lens\n"
     ]
    },
    {
     "name": "stderr",
     "output_type": "stream",
     "text": [
      "Progress: 100%|██████████| 249/249 [00:35<00:00,  7.08it/s]\n"
     ]
    },
    {
     "name": "stdout",
     "output_type": "stream",
     "text": [
      "Preprocessing\n",
      "Preprocessed\n",
      "Registering\n",
      "Registered\n",
      "Applying transformation\n",
      "Transformation applied\n"
     ]
    }
   ],
   "source": [
    "for i in range(len(ids)):\n",
    "\n",
    "    #utvsxct register\n",
    "    if registered_uts[i] == None: #if is not already registered\n",
    "\n",
    "        try:\n",
    "\n",
    "            print(f'Registering {ids[i]}')\n",
    "\n",
    "            ut_file = str(rfs[i])\n",
    "\n",
    "            ut_output_file = Path(ut_file[:-4] + '_registered.tif')\n",
    "\n",
    "            ut = tifffile.imread(amps[i])\n",
    "            ut = np.swapaxes(ut, 0, 1)\n",
    "            ut = np.swapaxes(ut, 1, 2)\n",
    "\n",
    "            rf = tifffile.imread(rfs[i])\n",
    "            rf = np.swapaxes(rf, 0, 1)\n",
    "            rf = np.swapaxes(rf, 1, 2)\n",
    "\n",
    "            if xct_paddeds[i] == None: #if is not already padded, load the original xct\n",
    "\n",
    "                xct_folder = Path(frontals[i])\n",
    "\n",
    "                xct_output_folder = xct_folder.parent\n",
    "\n",
    "                xct = tifffile.imread(frontals[i])\n",
    "                xct = np.swapaxes(xct, 0, 1)\n",
    "                xct = np.swapaxes(xct, 1, 2)\n",
    "            \n",
    "            else: #if padded, load the padded xct\n",
    "\n",
    "                xct_folder = Path(xct_paddeds[i])\n",
    "\n",
    "                xct_output_folder = xct_folder.parent\n",
    "\n",
    "                xct = read_sequence(xct_paddeds[i])\n",
    "                xct = np.swapaxes(xct, 0, 1)\n",
    "                xct = np.swapaxes(xct, 1, 2)\n",
    "\n",
    "            #check if xct is padded or not\n",
    "            if xct_paddeds[i] == None: #It is not padded\n",
    "\n",
    "                registered,xct_padded = reg.main(ut,rf,xct,False)\n",
    "\n",
    "                tifffile.imwrite(ut_output_file, registered)\n",
    "\n",
    "                xct_padded = np.swapaxes(xct_padded, 1, 2)\n",
    "                xct_padded = np.swapaxes(xct_padded, 0, 1)\n",
    "\n",
    "                write_sequence(xct_output_folder, 'padded', xct_padded)\n",
    "\n",
    "                registered_uts[i] = str(ut_output_file)\n",
    "\n",
    "                xct_paddeds[i] = str(xct_output_folder / 'padded')\n",
    "            \n",
    "            else:\n",
    "\n",
    "                registered = reg.main(ut,rf,xct,True)\n",
    "\n",
    "                tifffile.imwrite(ut_output_file, registered)\n",
    "\n",
    "                registered_uts[i] = str(ut_output_file)\n",
    "\n",
    "        \n",
    "        except Exception as e:\n",
    "            print(f'Error processing {ids[i]}')\n",
    "            print(e)\n",
    "    \n",
    "    if registered_uts_lente[i] == None:\n",
    "\n",
    "        try:\n",
    "\n",
    "            print(f'Registering {ids[i]} lens')\n",
    "\n",
    "            ut_file = str(rfs_lente[i])\n",
    "\n",
    "            ut_output_file = Path(ut_file[:-4] + '_registered.tif')\n",
    "\n",
    "            ut = tifffile.imread(amps_lente[i])\n",
    "            ut = np.swapaxes(ut, 0, 1)\n",
    "            ut = np.swapaxes(ut, 1, 2)\n",
    "\n",
    "            rf = tifffile.imread(rfs_lente[i])\n",
    "            rf = np.swapaxes(rf, 0, 1)\n",
    "            rf = np.swapaxes(rf, 1, 2)\n",
    "\n",
    "            if xct_paddeds[i] == None: #if is not already padded, load the original xct\n",
    "\n",
    "                xct_folder = Path(frontals[i])\n",
    "\n",
    "                xct_output_folder = xct_folder.parent\n",
    "\n",
    "                xct = tifffile.imread(frontals[i])\n",
    "                xct = np.swapaxes(xct, 0, 1)\n",
    "                xct = np.swapaxes(xct, 1, 2)\n",
    "            \n",
    "            else: #if padded, load the padded xct\n",
    "\n",
    "                xct_folder = Path(xct_paddeds[i])\n",
    "\n",
    "                xct_output_folder = xct_folder.parent\n",
    "\n",
    "                xct = read_sequence(xct_paddeds[i])\n",
    "                xct = np.swapaxes(xct, 0, 1)\n",
    "                xct = np.swapaxes(xct, 1, 2)\n",
    "\n",
    "            #check if xct is padded or not\n",
    "            if xct_paddeds[i] == None: #It is not padded\n",
    "\n",
    "                registered,xct_padded = reg.main(ut,rf,xct,False)\n",
    "\n",
    "                tifffile.imwrite(ut_output_file, registered)\n",
    "\n",
    "                xct_padded = np.swapaxes(xct_padded, 1, 2)\n",
    "                xct_padded = np.swapaxes(xct_padded, 0, 1)\n",
    "\n",
    "                write_sequence(xct_output_folder, 'padded', xct_padded)\n",
    "\n",
    "                registered_uts_lente[i] = str(ut_output_file)\n",
    "\n",
    "                xct_paddeds[i] = str(xct_output_folder / 'padded')\n",
    "            \n",
    "            else:\n",
    "\n",
    "                registered = reg.main(ut,rf,xct,True)\n",
    "\n",
    "                tifffile.imwrite(ut_output_file, registered)\n",
    "\n",
    "                registered_uts_lente[i] = str(ut_output_file)\n",
    "        \n",
    "        except Exception as e:\n",
    "            print(f'Error processing {ids[i]}')\n",
    "            print(e)"
   ]
  },
  {
   "cell_type": "code",
   "execution_count": 10,
   "metadata": {},
   "outputs": [],
   "source": [
    "#update database\n",
    "\n",
    "database['UT registered'] = registered_uts\n",
    "\n",
    "database['UT registered lente'] = registered_uts_lente\n",
    "\n",
    "database['XCT padded'] = xct_paddeds"
   ]
  },
  {
   "cell_type": "code",
   "execution_count": 11,
   "metadata": {},
   "outputs": [],
   "source": [
    "database.to_csv(r'\\\\192.168.10.106\\imdea\\DataDriven_UT_AlbertoVicente\\11_database\\Database.csv', index=False)"
   ]
  }
 ],
 "metadata": {
  "kernelspec": {
   "display_name": "VisionPyKernel",
   "language": "python",
   "name": "python3"
  },
  "language_info": {
   "codemirror_mode": {
    "name": "ipython",
    "version": 3
   },
   "file_extension": ".py",
   "mimetype": "text/x-python",
   "name": "python",
   "nbconvert_exporter": "python",
   "pygments_lexer": "ipython3",
   "version": "3.11.5"
  }
 },
 "nbformat": 4,
 "nbformat_minor": 2
}
