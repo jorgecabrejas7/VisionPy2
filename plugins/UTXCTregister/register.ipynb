{
 "cells": [
  {
   "cell_type": "code",
   "execution_count": 2,
   "metadata": {},
   "outputs": [],
   "source": [
    "import tifffile as tiff\n",
    "import numpy as np\n",
    "from pathlib import Path\n",
    "import matplotlib.pyplot as plt\n",
    "from PIL import Image\n",
    "from scipy import ndimage\n",
    "import SimpleITK as sitk\n",
    "from scipy.ndimage import minimum_filter, label\n",
    "import cv2"
   ]
  },
  {
   "cell_type": "code",
   "execution_count": 3,
   "metadata": {},
   "outputs": [],
   "source": [
    "from tqdm import tqdm\n",
    "\n",
    "\n",
    "def write_sequence(folder_path, name, volume):\n",
    "    \"\"\"\n",
    "    Save a 3D volume as a sequence of TIFF files in a folder.\n",
    "\n",
    "    Args:\n",
    "    folder_path (str): Path to the folder where TIFF files will be saved.\n",
    "    name (str): Name of the TIFF files.\n",
    "    volume (numpy.ndarray): A 3D array where each slice corresponds to an image.\n",
    "    \"\"\"\n",
    "\n",
    "    folder_path = folder_path / name\n",
    "\n",
    "    # Create the folder if it doesn't exist\n",
    "    Path(folder_path).mkdir(parents=True, exist_ok=True)\n",
    "\n",
    "    # Save each slice as a TIFF file with progress bar\n",
    "    with tqdm(total=volume.shape[0], desc=\"Saving\") as pbar:\n",
    "        for i in range(volume.shape[0]):\n",
    "            tiff.imwrite(f\"{folder_path}/{name}_{i:04d}.tif\", volume[i])\n",
    "            pbar.update(1)\n",
    "\n",
    "    print(\"Saving complete.\")"
   ]
  },
  {
   "cell_type": "code",
   "execution_count": 56,
   "metadata": {},
   "outputs": [
    {
     "name": "stdout",
     "output_type": "stream",
     "text": [
      "(3048, 1700, 350)\n",
      "(128, 52, 505)\n"
     ]
    }
   ],
   "source": [
    "folder_xct = Path(r\"Q:\\11_AIRBUS\\03_LabXCT\\Panel Pegaso\\Probetas\\1\\26\")\n",
    "\n",
    "filename_xct = folder_xct / \"frontal_90right.tif\"\n",
    "\n",
    "output_folder = folder_xct / \"output\"\n",
    "\n",
    "output_folder.mkdir(exist_ok=True)\n",
    "\n",
    "xct = tiff.imread(filename_xct)\n",
    "xct = np.swapaxes(xct, 0, 1)\n",
    "xct = np.swapaxes(xct, 1, 2)\n",
    "\n",
    "print(xct.shape)\n",
    "\n",
    "folder_ut = Path(\n",
    "    r\"\\\\192.168.10.106\\imdea\\DataDriven_UT_AlbertoVicente\\03_UT_data\\Panel PEGASO\\probetas\\1\\26\"\n",
    ")\n",
    "\n",
    "filename_ut = folder_ut / \"26_lente_amplitude.tif\"\n",
    "\n",
    "output_folder.mkdir(exist_ok=True)\n",
    "\n",
    "ut = tiff.imread(filename_ut)\n",
    "ut = np.swapaxes(ut, 0, 1)\n",
    "ut = np.swapaxes(ut, 1, 2)\n",
    "\n",
    "print(ut.shape)"
   ]
  },
  {
   "cell_type": "code",
   "execution_count": 57,
   "metadata": {},
   "outputs": [],
   "source": [
    "def resize_image(original_image, size, show=False):\n",
    "    width, height = original_image.size\n",
    "    if show:\n",
    "        print(f\"The original image size is {width} wide x {height} tall\")\n",
    "\n",
    "    resized_image = original_image.resize(size)\n",
    "    width, height = resized_image.size\n",
    "    if show:\n",
    "        print(f\"The resized image size is {width} wide x {height} tall\")\n",
    "    return np.array(resized_image)\n",
    "\n",
    "\n",
    "def calculate_new_dimensions(original_resolution, new_resolution, original_dimensions):\n",
    "    # Calculate the original dimensions in real-world units\n",
    "    original_width, original_height = original_dimensions\n",
    "    real_world_width = original_width * original_resolution\n",
    "    real_world_height = original_height * original_resolution\n",
    "\n",
    "    # Calculate the new dimensions in pixels\n",
    "    new_width = int(real_world_width / new_resolution)\n",
    "    new_height = int(real_world_height / new_resolution)\n",
    "\n",
    "    return new_width, new_height\n",
    "\n",
    "\n",
    "def get_brightest(d):\n",
    "    data = d.copy()\n",
    "    # turn to 0 the values below 255\n",
    "    data[data < 255] = 0\n",
    "    # calculate the max of each image\n",
    "    max_values = np.sum(data, axis=(0, 1))\n",
    "\n",
    "    return np.argmax(max_values)\n",
    "\n",
    "\n",
    "def paste_image_center(img1_array, img2_array):\n",
    "    # Convert numpy arrays to PIL Images\n",
    "    img1 = Image.fromarray(img1_array)\n",
    "    img2 = Image.fromarray(img2_array)\n",
    "\n",
    "    # Create a new image of zeros with the same shape as img1\n",
    "    new_img = Image.fromarray(np.zeros_like(img1_array))\n",
    "\n",
    "    # Calculate the position for the second image\n",
    "    position = (\n",
    "        (new_img.size[0] - img2.size[0]) // 2,\n",
    "        (new_img.size[1] - img2.size[1]) // 2,\n",
    "    )\n",
    "\n",
    "    # Paste the second image onto the new image\n",
    "    new_img.paste(img2, position)\n",
    "\n",
    "    # Convert back to numpy array and return\n",
    "    return np.array(new_img)\n",
    "\n",
    "\n",
    "def label_objects(image):\n",
    "    labeled_image, num_features = label(image)\n",
    "    output_image = np.zeros_like(image)\n",
    "\n",
    "    indices = np.where(labeled_image > 0)\n",
    "    indices = list(zip(indices[0], indices[1]))\n",
    "\n",
    "    # Label the object nearest to the top edge\n",
    "    top_object = min(indices, key=lambda x: x[0])\n",
    "    output_image[top_object] = 100\n",
    "    indices.remove(top_object)\n",
    "\n",
    "    if indices:\n",
    "        # Label the object nearest to the left edge\n",
    "        left_object = min(indices, key=lambda x: x[1])\n",
    "        output_image[left_object] = 175\n",
    "        indices.remove(left_object)\n",
    "\n",
    "    # Label the remaining objects\n",
    "    for idx in indices:\n",
    "        output_image[idx] = 255\n",
    "\n",
    "    return output_image"
   ]
  },
  {
   "cell_type": "code",
   "execution_count": 58,
   "metadata": {},
   "outputs": [],
   "source": [
    "def plot_images(images, figsz=(5, 5)):\n",
    "    fig, axs = plt.subplots(1, len(images), figsize=figsz)\n",
    "    for i, img in enumerate(images):\n",
    "        axs[i].imshow(img, cmap=\"gray\")\n",
    "        axs[i].axis(\"off\")\n",
    "    plt.show()\n",
    "\n",
    "\n",
    "def circles(img):\n",
    "    # Convert binary image to grayscale\n",
    "    img = (img * 255).astype(np.uint8)\n",
    "\n",
    "    # Find contours\n",
    "    contours, _ = cv2.findContours(img, cv2.RETR_EXTERNAL, cv2.CHAIN_APPROX_SIMPLE)\n",
    "\n",
    "    # Create an empty image to draw circles on\n",
    "    circle_img = np.zeros_like(img)\n",
    "\n",
    "    # For each contour\n",
    "    for contour in contours:\n",
    "        # Find minimum enclosing circle\n",
    "        (x, y), radius = cv2.minEnclosingCircle(contour)\n",
    "        # Draw the circle\n",
    "        cv2.circle(circle_img, (int(x), int(y)), int(radius), (255, 255, 255), -1)\n",
    "\n",
    "        break\n",
    "\n",
    "    return circle_img\n",
    "\n",
    "\n",
    "def rectangles(img, thickness=2):\n",
    "    # Convert binary image to grayscale\n",
    "    img = (img * 255).astype(np.uint8)\n",
    "\n",
    "    # Find contours\n",
    "    contours, _ = cv2.findContours(img, cv2.RETR_EXTERNAL, cv2.CHAIN_APPROX_SIMPLE)\n",
    "\n",
    "    # Create an empty image to draw rectangles on\n",
    "    rectangle_img = np.zeros_like(img)\n",
    "\n",
    "    # For each contour\n",
    "    for contour in contours:\n",
    "        # Find bounding rectangle\n",
    "        x, y, w, h = cv2.boundingRect(contour)\n",
    "        # Draw the rectangle contour\n",
    "        cv2.rectangle(rectangle_img, (x, y), (x + w, y + h), (255, 255, 255), thickness)\n",
    "\n",
    "    return rectangle_img > 0\n",
    "\n",
    "\n",
    "import numpy as np\n",
    "\n",
    "\n",
    "def draw_bounding_box(image):\n",
    "    # Convert binary image to grayscale\n",
    "    image = (image * 255).astype(np.uint8)\n",
    "\n",
    "    # Create a new binary image of the same size\n",
    "    output_image = np.zeros_like(image)\n",
    "\n",
    "    # Find contours in the image\n",
    "    contours, _ = cv2.findContours(image, cv2.RETR_EXTERNAL, cv2.CHAIN_APPROX_SIMPLE)\n",
    "\n",
    "    # For each contour, draw the bounding box on the new image\n",
    "    for contour in contours:\n",
    "        x, y, w, h = cv2.boundingRect(contour)\n",
    "        cv2.rectangle(output_image, (x, y), (x + w, y + h), (255), -1)\n",
    "\n",
    "    return output_image > 0\n",
    "\n",
    "\n",
    "def find_rectangle_centers(image):\n",
    "    # Ensure the image is binary\n",
    "    assert np.array_equal(image, image.astype(bool)), \"Image must be binary\"\n",
    "\n",
    "    # Find connected components in the image\n",
    "    num_labels, labels, stats, centroids = cv2.connectedComponentsWithStats(\n",
    "        image.astype(\"uint8\")\n",
    "    )\n",
    "\n",
    "    # The first component is the background, so ignore it\n",
    "    return centroids[1:]\n",
    "\n",
    "\n",
    "def paint_points_on_image(points, image):\n",
    "    # Create a copy of the image to avoid modifying the original\n",
    "    image_copy = np.copy(image)\n",
    "\n",
    "    # Convert the image to RGB if it's grayscale\n",
    "    if len(image_copy.shape) == 2:\n",
    "        image_copy = np.stack((image_copy,) * 3, axis=-1)\n",
    "\n",
    "    # Paint each point in red\n",
    "    for point in points:\n",
    "        x, y = point\n",
    "        image_copy[int(y), int(x)] = [255, 0, 0]  # RGB for red\n",
    "\n",
    "    return image_copy\n",
    "\n",
    "\n",
    "def find_local_minima(image, size=3, threshold=50):\n",
    "    # Apply the minimum filter\n",
    "    filtered_image = minimum_filter(image, size)\n",
    "\n",
    "    # Find local minima\n",
    "    local_minima = image == filtered_image\n",
    "\n",
    "    # Apply threshold\n",
    "    local_minima = np.logical_and(local_minima, image <= threshold)\n",
    "\n",
    "    # The result is a boolean mask where True indicates local minima\n",
    "    return local_minima\n",
    "\n",
    "\n",
    "def find_brightest_ut(volume):\n",
    "    # Find the brightest slice\n",
    "    brightest_slice = np.argmax(np.sum(volume, axis=(0, 1)))\n",
    "\n",
    "    return brightest_slice\n",
    "\n",
    "\n",
    "def paint_binary_points(shape, points):\n",
    "    # Create an empty image of the specified shape\n",
    "    image = np.zeros(shape, dtype=np.uint8)\n",
    "\n",
    "    # Iterate over the points\n",
    "    for point in points:\n",
    "        # Round the coordinates to the nearest integer\n",
    "        y, x = tuple(int(round(coord)) for coord in point)\n",
    "        # cv2.circle(image, (y,x), 5, (255), -1)\n",
    "        # Draw the point on the image\n",
    "        image[x, y] = 255\n",
    "\n",
    "    return image.astype(np.uint8)\n",
    "\n",
    "\n",
    "def dilate_image(image, kernel_size=5, iterations=1):\n",
    "    \"\"\"\n",
    "    Dilates an image using a square kernel of a given size and number of iterations.\n",
    "\n",
    "    Parameters:\n",
    "    - image: Input image.\n",
    "    - kernel_size: Size of the square kernel. Default is 5.\n",
    "    - iterations: Number of times dilation is applied. Default is 1.\n",
    "\n",
    "    Returns:\n",
    "    - Dilated image.\n",
    "    \"\"\"\n",
    "    kernel = np.ones((kernel_size, kernel_size), np.uint8)\n",
    "    dilated_image = cv2.dilate(image, kernel, iterations=iterations)\n",
    "    return dilated_image"
   ]
  },
  {
   "cell_type": "code",
   "execution_count": 59,
   "metadata": {},
   "outputs": [
    {
     "name": "stdout",
     "output_type": "stream",
     "text": [
      "160\n"
     ]
    }
   ],
   "source": [
    "aligned_point = find_brightest_ut(ut)\n",
    "original_resolution = 0.025\n",
    "new_resolution = 1\n",
    "print(aligned_point)\n",
    "gate1 = (aligned_point, aligned_point + 1)"
   ]
  },
  {
   "cell_type": "code",
   "execution_count": 60,
   "metadata": {},
   "outputs": [
    {
     "name": "stdout",
     "output_type": "stream",
     "text": [
      "The new dimensions are (76, 42)\n"
     ]
    }
   ],
   "source": [
    "# id = get_brightest(xct)\n",
    "\n",
    "original_dimensions = (xct.shape[0], xct.shape[1])\n",
    "new_dimensions = calculate_new_dimensions(\n",
    "    original_resolution, new_resolution, original_dimensions\n",
    ")\n",
    "print(f\"The new dimensions are {new_dimensions}\")\n",
    "# resized = resize_image(Image.fromarray(xct[:,:,id]), new_dimensions[::-1])\n",
    "\n",
    "# resized the whole volume\n",
    "resized_xct = np.zeros(\n",
    "    (new_dimensions[0], new_dimensions[1], xct.shape[2]), dtype=np.uint8\n",
    ")\n",
    "for i in range(xct.shape[2]):\n",
    "    resized_xct[:, :, i] = resize_image(\n",
    "        Image.fromarray(xct[:, :, i]), new_dimensions[::-1]\n",
    "    )\n",
    "\n",
    "# print(resized_xct.shape)\n",
    "\n",
    "# thresh = threshold_otsu(resized)\n",
    "\n",
    "# print(thresh)\n",
    "\n",
    "# thresholded = resized > thresh\n",
    "\n",
    "# xct_centers  = find_rectangle_centers(thresholded)\n",
    "\n",
    "# centers_painted_xct = paint_binary_points(thresholded.shape, xct_centers)\n",
    "\n",
    "# xct_mask = draw_bounding_box(thresholded) * 1\n",
    "\n",
    "# plot_images([resized, thresholded, paint_points_on_image(xct_centers, resized), centers_painted_xct, xct_mask])"
   ]
  },
  {
   "cell_type": "code",
   "execution_count": 61,
   "metadata": {},
   "outputs": [
    {
     "name": "stdout",
     "output_type": "stream",
     "text": [
      "The new dimensions are (76, 42)\n",
      "[[20.25       19.75      ]\n",
      " [11.21052632 51.        ]\n",
      " [29.36842105 51.73684211]]\n"
     ]
    },
    {
     "data": {
      "image/png": "[encoded data removed]",
      "text/plain": [
       "<Figure size 500x500 with 5 Axes>"
      ]
     },
     "metadata": {},
     "output_type": "display_data"
    }
   ],
   "source": [
    "max_proj = np.max(xct, axis=2)\n",
    "\n",
    "original_dimensions = (xct.shape[0], xct.shape[1])\n",
    "new_dimensions = calculate_new_dimensions(\n",
    "    original_resolution, new_resolution, original_dimensions\n",
    ")\n",
    "print(f\"The new dimensions are {new_dimensions}\")\n",
    "resized = resize_image(Image.fromarray(max_proj), new_dimensions[::-1])\n",
    "\n",
    "# otsu threshold\n",
    "from skimage.filters import threshold_otsu\n",
    "\n",
    "thresh = threshold_otsu(max_proj)\n",
    "binary = max_proj > thresh\n",
    "\n",
    "# fill holes\n",
    "from scipy.ndimage import binary_fill_holes\n",
    "\n",
    "mask = binary_fill_holes(binary)\n",
    "\n",
    "inverted = np.invert(binary)\n",
    "\n",
    "circles = np.logical_and(mask, inverted)\n",
    "\n",
    "circles = resize_image(Image.fromarray(circles), new_dimensions[::-1])\n",
    "\n",
    "xct_centers = find_rectangle_centers(circles)\n",
    "\n",
    "print(xct_centers)\n",
    "\n",
    "centers_painted_xct = paint_binary_points(circles.shape, xct_centers)\n",
    "\n",
    "plot_images([resized, binary, mask, circles, centers_painted_xct])\n",
    "\n",
    "tiff.imwrite(output_folder / \"a.tif\", centers_painted_xct)"
   ]
  },
  {
   "cell_type": "code",
   "execution_count": 62,
   "metadata": {},
   "outputs": [
    {
     "name": "stdout",
     "output_type": "stream",
     "text": [
      "50\n"
     ]
    },
    {
     "data": {
      "image/png": "[encoded data removed]",
      "text/plain": [
       "<Figure size 500x500 with 6 Axes>"
      ]
     },
     "metadata": {},
     "output_type": "display_data"
    },
    {
     "name": "stderr",
     "output_type": "stream",
     "text": [
      "C:\\Users\\alberto.vicente\\AppData\\Local\\Temp\\ipykernel_33724\\1600684614.py:39: DeprecationWarning: <tifffile.imsave> is deprecated. Use tifffile.imwrite\n",
      "  tiff.imsave(output_folder / 'centers_painted_ut_1.tif', centers_painted_ut)\n"
     ]
    }
   ],
   "source": [
    "# get the gates\n",
    "gated_data = ut[:, :, gate1[0] : gate1[1]].reshape(ut.shape[0], ut.shape[1])\n",
    "\n",
    "# otsu threshold\n",
    "thresh = threshold_otsu(gated_data)\n",
    "\n",
    "# create a mask\n",
    "thresholded = gated_data > thresh\n",
    "\n",
    "thresholded = ndimage.binary_fill_holes(thresholded)\n",
    "\n",
    "print(thresh)\n",
    "\n",
    "minimums = find_local_minima(gated_data, size=20, threshold=1)\n",
    "\n",
    "only_minimus = minimums * thresholded\n",
    "\n",
    "centers = find_rectangle_centers(only_minimus)\n",
    "\n",
    "centers_painted_ut = paint_binary_points(gated_data.shape, centers)\n",
    "\n",
    "ut_mask = draw_bounding_box(thresholded) * 1\n",
    "\n",
    "# Assuming 'arr' is your numpy array\n",
    "rows, cols = ut_mask.shape\n",
    "\n",
    "# Calculate quarter of the rows\n",
    "quarter_rows = rows // 4\n",
    "\n",
    "# Set first and last quarter rows to 0\n",
    "ut_mask[:quarter_rows, :] = 0\n",
    "ut_mask[-quarter_rows:, :] = 0\n",
    "\n",
    "# paint the centers in the max projection\n",
    "max_projection_centers = paint_points_on_image(centers, gated_data)\n",
    "\n",
    "plot_images(\n",
    "    [\n",
    "        gated_data,\n",
    "        minimums,\n",
    "        only_minimus,\n",
    "        centers_painted_ut,\n",
    "        max_projection_centers,\n",
    "        ut_mask,\n",
    "    ]\n",
    ")\n",
    "\n",
    "tiff.imsave(output_folder / \"centers_painted_ut_1.tif\", centers_painted_ut)"
   ]
  },
  {
   "cell_type": "code",
   "execution_count": 15,
   "metadata": {},
   "outputs": [
    {
     "data": {
      "image/png": "[encoded data removed]",
      "text/plain": [
       "<Figure size 500x500 with 2 Axes>"
      ]
     },
     "metadata": {},
     "output_type": "display_data"
    }
   ],
   "source": [
    "labeled_ut = label_objects(centers_painted_ut)\n",
    "labeled_xct = label_objects(centers_painted_xct)\n",
    "\n",
    "ut_mask = dilate_image(labeled_ut, 2)\n",
    "xct_mask = dilate_image(labeled_xct, 2)\n",
    "\n",
    "\n",
    "plot_images([ut_mask, xct_mask])\n",
    "\n",
    "# #save bot as tiff\n",
    "# tiff.imsave(output_folder / 'labeled_ut.tif', labeled_ut)\n",
    "# tiff.imsave(output_folder / 'labeled_xct.tif', labeled_xct)"
   ]
  },
  {
   "cell_type": "code",
   "execution_count": 16,
   "metadata": {},
   "outputs": [],
   "source": [
    "fixed_image = sitk.GetImageFromArray(labeled_ut)\n",
    "moving_image = sitk.GetImageFromArray(labeled_xct)\n",
    "fixed_mask = sitk.GetImageFromArray(ut_mask)\n",
    "moving_mask = sitk.GetImageFromArray(xct_mask)\n",
    "\n",
    "\n",
    "# Initial alignment of the two volumes\n",
    "initial_transform = sitk.CenteredTransformInitializer(\n",
    "    fixed_image,\n",
    "    moving_image,\n",
    "    sitk.Euler2DTransform(),\n",
    "    sitk.CenteredTransformInitializerFilter.GEOMETRY,\n",
    ")\n",
    "\n",
    "# Set up the registration framework\n",
    "registration_method = sitk.ImageRegistrationMethod()\n",
    "# Similarity metric settings\n",
    "registration_method.SetMetricAsMattesMutualInformation()\n",
    "\n",
    "# registration_method.SetMetricAsMeanSquares()\n",
    "\n",
    "# add the masks\n",
    "# registration_method.SetMetricFixedMask(fixed_mask)\n",
    "# registration_method.SetMetricMovingMask(moving_mask)\n",
    "\n",
    "# Optimizer settings\n",
    "registration_method.SetOptimizerAsExhaustive(numberOfSteps=[5, 5, 5], stepLength=1.0)\n",
    "registration_method.SetOptimizerScalesFromPhysicalShift()\n",
    "\n",
    "# Setup for the multi-resolution framework\n",
    "# registration_method.SetShrinkFactorsPerLevel(shrinkFactors = [4, 2, 1])\n",
    "# registration_method.SetSmoothingSigmasPerLevel(smoothingSigmas = [2, 1, 0])\n",
    "registration_method.SmoothingSigmasAreSpecifiedInPhysicalUnitsOn()\n",
    "\n",
    "# Don't optimize in-place, we would possibly like to run this cell multiple times\n",
    "registration_method.SetInitialTransform(initial_transform, inPlace=False)"
   ]
  },
  {
   "cell_type": "code",
   "execution_count": 17,
   "metadata": {},
   "outputs": [],
   "source": [
    "# con multiresolucion\n",
    "\n",
    "# 5,5,5 50 segundos\n",
    "# 6,6,6 1:13 mins\n",
    "# 7,7,7 1:54 mins\n",
    "# 8,8,8 2:47 mins\n",
    "# 9,9,9 3:53 mins\n",
    "# 10,10,10 5:13 mins\n",
    "\n",
    "# sin multiresolucion\n",
    "\n",
    "# 5,5,5 19 segundos\n",
    "# 10,10,10 2:10 mins"
   ]
  },
  {
   "cell_type": "code",
   "execution_count": 18,
   "metadata": {},
   "outputs": [],
   "source": [
    "final_transform = registration_method.Execute(\n",
    "    sitk.Cast(fixed_image, sitk.sitkFloat32), sitk.Cast(moving_image, sitk.sitkFloat32)\n",
    ")"
   ]
  },
  {
   "cell_type": "code",
   "execution_count": 19,
   "metadata": {},
   "outputs": [
    {
     "name": "stdout",
     "output_type": "stream",
     "text": [
      "Final transformation parameters: \n",
      " (0.0, -5.5, -27.5)\n",
      "New 3D transformation parameters: \n",
      " (0.0, 0.0, 0.0, -220.0, -1100.0, 0.0)\n"
     ]
    }
   ],
   "source": [
    "print(\"Final transformation parameters: \\n\", final_transform.GetParameters())\n",
    "# Get the original parameters\n",
    "original_parameters = np.array(final_transform.GetParameters())\n",
    "\n",
    "# Compute the scaling factor\n",
    "scaling_factor = new_resolution / original_resolution\n",
    "\n",
    "# Adjust the translation parameters\n",
    "adjusted_parameters = original_parameters.copy()\n",
    "adjusted_parameters[1:] *= scaling_factor\n",
    "\n",
    "# Create a new transform of the same type\n",
    "new_transform = sitk.Euler3DTransform()\n",
    "transform_3d = sitk.Euler3DTransform()\n",
    "\n",
    "\n",
    "# Create a new set of parameters for the 3D transform\n",
    "# Set the rotation parameters to the same as the 2D transform\n",
    "# Set the translation parameters to the same as the 2D transform for x and y, and 0 for z\n",
    "params_3d = (\n",
    "    adjusted_parameters[0],\n",
    "    0,\n",
    "    0,\n",
    "    adjusted_parameters[1],\n",
    "    adjusted_parameters[2],\n",
    "    0,\n",
    ")\n",
    "params_3d2 = (\n",
    "    original_parameters[0],\n",
    "    0,\n",
    "    0,\n",
    "    original_parameters[1],\n",
    "    original_parameters[2],\n",
    "    0,\n",
    ")\n",
    "\n",
    "# Set the parameters of the 3D transform\n",
    "new_transform.SetParameters(params_3d)\n",
    "transform_3d.SetParameters(params_3d2)\n",
    "\n",
    "print(\"New 3D transformation parameters: \\n\", new_transform.GetParameters())"
   ]
  },
  {
   "cell_type": "code",
   "execution_count": 20,
   "metadata": {},
   "outputs": [
    {
     "name": "stdout",
     "output_type": "stream",
     "text": [
      "(250, 129, 53)\n"
     ]
    }
   ],
   "source": [
    "# Now, apply the transform to the top volume overlaping reggion\n",
    "resampler = sitk.ResampleImageFilter()\n",
    "resampler.SetTransform(final_transform)\n",
    "resampler.SetDefaultPixelValue(0)\n",
    "\n",
    "# Set the properties of the resampler to match the original top volume\n",
    "resampler.SetOutputSpacing(fixed_image.GetSpacing())\n",
    "resampler.SetSize(fixed_image.GetSize())\n",
    "resampler.SetOutputDirection(fixed_image.GetDirection())\n",
    "resampler.SetOutputOrigin(fixed_image.GetOrigin())\n",
    "\n",
    "# Apply the transformation\n",
    "registered = resampler.Execute(moving_image)\n",
    "\n",
    "resized_registered = resampler.Execute(sitk.GetImageFromArray(resized))\n",
    "\n",
    "# resized the whole volume\n",
    "registered_volume = np.zeros(\n",
    "    (resized_xct.shape[2], centers_painted_ut.shape[0], centers_painted_ut.shape[1]),\n",
    "    dtype=np.uint8,\n",
    ")\n",
    "print(registered_volume.shape)\n",
    "for i, img in enumerate(resized_xct):\n",
    "    a = resampler.Execute(sitk.GetImageFromArray(resized_xct[i]))\n",
    "    a = sitk.GetArrayFromImage(a)\n",
    "    registered_volume[i] = a"
   ]
  },
  {
   "cell_type": "code",
   "execution_count": 21,
   "metadata": {},
   "outputs": [
    {
     "data": {
      "image/png": "[encoded data removed]",
      "text/plain": [
       "<Figure size 500x500 with 3 Axes>"
      ]
     },
     "metadata": {},
     "output_type": "display_data"
    }
   ],
   "source": [
    "plot_images(\n",
    "    [\n",
    "        sitk.GetArrayFromImage(fixed_image),\n",
    "        sitk.GetArrayFromImage(registered),\n",
    "        sitk.GetArrayFromImage(resized_registered),\n",
    "    ]\n",
    ")"
   ]
  },
  {
   "cell_type": "code",
   "execution_count": 346,
   "metadata": {},
   "outputs": [
    {
     "name": "stdout",
     "output_type": "stream",
     "text": [
      "(350, 5640, 3000)\n"
     ]
    }
   ],
   "source": [
    "# create a npzeros array with the same shape as the ut volume converted to the new resolution\n",
    "new_shape = calculate_new_dimensions(\n",
    "    new_resolution, original_resolution, (ut.shape[0], ut.shape[1])\n",
    ")\n",
    "\n",
    "big_ut = np.zeros((xct.shape[2], new_shape[0], new_shape[1]), dtype=np.uint8)\n",
    "\n",
    "big_ut_itk = sitk.GetImageFromArray(big_ut)\n",
    "big_ut_itk.SetSpacing((original_resolution, original_resolution, original_resolution))\n",
    "\n",
    "print(big_ut.shape)"
   ]
  },
  {
   "cell_type": "code",
   "execution_count": 347,
   "metadata": {},
   "outputs": [
    {
     "name": "stdout",
     "output_type": "stream",
     "text": [
      "(350, 3048, 1700)\n"
     ]
    }
   ],
   "source": [
    "xct = np.swapaxes(xct, 2, 1)\n",
    "xct = np.swapaxes(xct, 1, 0)\n",
    "print(xct.shape)"
   ]
  },
  {
   "cell_type": "code",
   "execution_count": 348,
   "metadata": {},
   "outputs": [],
   "source": [
    "xct_itk = sitk.GetImageFromArray(xct)\n",
    "xct_itk.SetSpacing((original_resolution, original_resolution, original_resolution))"
   ]
  },
  {
   "cell_type": "code",
   "execution_count": 349,
   "metadata": {},
   "outputs": [
    {
     "name": "stdout",
     "output_type": "stream",
     "text": [
      "(1700, 3048, 350)\n",
      "(3000, 5640, 350)\n"
     ]
    }
   ],
   "source": [
    "print(xct_itk.GetSize())\n",
    "print(big_ut_itk.GetSize())"
   ]
  },
  {
   "cell_type": "code",
   "execution_count": 350,
   "metadata": {},
   "outputs": [],
   "source": [
    "resampler = sitk.ResampleImageFilter()\n",
    "resampler.SetTransform(transform_3d)\n",
    "\n",
    "resampler.SetOutputSpacing(big_ut_itk.GetSpacing())\n",
    "resampler.SetOutputOrigin(big_ut_itk.GetOrigin())\n",
    "resampler.SetOutputDirection(big_ut_itk.GetDirection())\n",
    "resampler.SetSize(big_ut_itk.GetSize())\n",
    "\n",
    "resampled_xct = resampler.Execute(xct_itk)\n",
    "\n",
    "resampled_xct = sitk.GetArrayFromImage(resampled_xct).astype(np.uint8)"
   ]
  },
  {
   "cell_type": "code",
   "execution_count": 351,
   "metadata": {},
   "outputs": [
    {
     "name": "stderr",
     "output_type": "stream",
     "text": [
      "Saving: 100%|██████████| 350/350 [01:06<00:00,  5.27it/s]"
     ]
    },
    {
     "name": "stdout",
     "output_type": "stream",
     "text": [
      "Saving complete.\n"
     ]
    },
    {
     "name": "stderr",
     "output_type": "stream",
     "text": [
      "\n"
     ]
    }
   ],
   "source": [
    "# save the resampled xct\n",
    "write_sequence(output_folder, \"resampled_xct\", resampled_xct)"
   ]
  },
  {
   "cell_type": "code",
   "execution_count": 352,
   "metadata": {},
   "outputs": [
    {
     "name": "stderr",
     "output_type": "stream",
     "text": [
      "C:\\Users\\alberto.vicente\\AppData\\Local\\Temp\\ipykernel_26396\\2280146284.py:2: DeprecationWarning: <tifffile.imsave> is deprecated. Use tifffile.imwrite\n",
      "  tiff.imsave(output_folder / 'fixed.tif', sitk.GetArrayFromImage(fixed_image))\n",
      "C:\\Users\\alberto.vicente\\AppData\\Local\\Temp\\ipykernel_26396\\2280146284.py:4: DeprecationWarning: <tifffile.imsave> is deprecated. Use tifffile.imwrite\n",
      "  tiff.imsave(output_folder / 'registered.tif', sitk.GetArrayFromImage(registered))\n",
      "C:\\Users\\alberto.vicente\\AppData\\Local\\Temp\\ipykernel_26396\\2280146284.py:6: DeprecationWarning: <tifffile.imsave> is deprecated. Use tifffile.imwrite\n",
      "  tiff.imsave(output_folder / 'resized_registered.tif', sitk.GetArrayFromImage(resized_registered))\n",
      "C:\\Users\\alberto.vicente\\AppData\\Local\\Temp\\ipykernel_26396\\2280146284.py:8: DeprecationWarning: <tifffile.imsave> is deprecated. Use tifffile.imwrite\n",
      "  tiff.imsave(output_folder / 'registered_volume.tif', registered_volume)\n",
      "C:\\Users\\alberto.vicente\\AppData\\Local\\Temp\\ipykernel_26396\\2280146284.py:12: DeprecationWarning: <tifffile.imsave> is deprecated. Use tifffile.imwrite\n",
      "  tiff.imsave(output_folder / 'centers_xct.tif', centers_painted_xct)\n"
     ]
    }
   ],
   "source": [
    "# save the fixed image\n",
    "tiff.imsave(output_folder / \"fixed.tif\", sitk.GetArrayFromImage(fixed_image))\n",
    "# save the registered image\n",
    "tiff.imsave(output_folder / \"registered.tif\", sitk.GetArrayFromImage(registered))\n",
    "# save the resized registered image\n",
    "tiff.imsave(\n",
    "    output_folder / \"resized_registered.tif\", sitk.GetArrayFromImage(resized_registered)\n",
    ")\n",
    "# save the registered volume\n",
    "tiff.imsave(output_folder / \"registered_volume.tif\", registered_volume)\n",
    "# #save the resampled xct\n",
    "# tiff.imsave(output_folder / 'resampled_xct.tif', resampled_xct)\n",
    "# save centers xct\n",
    "tiff.imsave(output_folder / \"centers_xct.tif\", centers_painted_xct)"
   ]
  }
 ],
 "metadata": {
  "kernelspec": {
   "display_name": "VisionPyKernel",
   "language": "python",
   "name": "python3"
  },
  "language_info": {
   "codemirror_mode": {
    "name": "ipython",
    "version": 3
   },
   "file_extension": ".py",
   "mimetype": "text/x-python",
   "name": "python",
   "nbconvert_exporter": "python",
   "pygments_lexer": "ipython3",
   "version": "3.11.5"
  }
 },
 "nbformat": 4,
 "nbformat_minor": 2
}
