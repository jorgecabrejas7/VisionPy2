{
 "cells": [
  {
   "cell_type": "code",
   "execution_count": 310,
   "metadata": {},
   "outputs": [],
   "source": [
    "import tifffile as tiff\n",
    "import numpy as np\n",
    "from pathlib import Path\n",
    "import matplotlib.pyplot as plt\n",
    "from PIL import Image\n",
    "from scipy import ndimage\n",
    "import SimpleITK as sitk\n",
    "from skimage.filters import threshold_otsu\n",
    "from scipy.ndimage import minimum_filter, label"
   ]
  },
  {
   "cell_type": "code",
   "execution_count": 311,
   "metadata": {},
   "outputs": [
    {
     "name": "stdout",
     "output_type": "stream",
     "text": [
      "(3282, 1900, 300)\n",
      "(146, 60, 506)\n"
     ]
    }
   ],
   "source": [
    "folder_xct = Path(r'E:\\temporal\\volumenes\\32+33+34+35\\33')\n",
    "\n",
    "filename_xct = folder_xct / 'frontal_cropped.tif'\n",
    "\n",
    "output_folder = folder_xct / 'output'\n",
    "\n",
    "output_folder.mkdir(exist_ok=True)\n",
    "\n",
    "xct = tiff.imread(filename_xct)\n",
    "xct = np.swapaxes(xct, 0, 1)\n",
    "xct = np.swapaxes(xct, 1, 2)\n",
    "\n",
    "print(xct.shape)\n",
    "\n",
    "folder_ut = Path(r'\\\\192.168.10.106\\imdea\\DataDriven_UT_AlbertoVicente\\03_UT_data\\Panel PEGASO\\Pruebas Pegatinas\\doble cara 5\\33')\n",
    "\n",
    "filename_ut = folder_ut / 'aligned.tif'\n",
    "\n",
    "output_folder.mkdir(exist_ok=True)\n",
    "\n",
    "ut = tiff.imread(filename_ut)\n",
    "ut = np.swapaxes(ut, 0, 1)\n",
    "ut = np.swapaxes(ut, 1, 2)\n",
    "\n",
    "print(ut.shape)"
   ]
  },
  {
   "cell_type": "code",
   "execution_count": 312,
   "metadata": {},
   "outputs": [],
   "source": [
    "\n",
    "def resize_image(original_image, size, show = False):\n",
    "    width, height = original_image.size\n",
    "    if show:\n",
    "        print(f\"The original image size is {width} wide x {height} tall\")\n",
    "\n",
    "    resized_image = original_image.resize(size)\n",
    "    width, height = resized_image.size\n",
    "    if show:\n",
    "        print(f\"The resized image size is {width} wide x {height} tall\")\n",
    "    return np.array(resized_image)\n",
    "\n",
    "def calculate_new_dimensions(original_resolution, new_resolution, original_dimensions):\n",
    "    # Calculate the original dimensions in real-world units\n",
    "    original_width, original_height = original_dimensions\n",
    "    real_world_width = original_width * original_resolution\n",
    "    real_world_height = original_height * original_resolution\n",
    "\n",
    "    # Calculate the new dimensions in pixels\n",
    "    new_width = int(real_world_width / new_resolution)\n",
    "    new_height = int(real_world_height / new_resolution)\n",
    "\n",
    "    return new_width, new_height\n",
    "\n",
    "def get_brightest(d):\n",
    "    data = d.copy()\n",
    "    #turn to 0 the values below 255\n",
    "    data[data < 255] = 0\n",
    "    #calculate the max of each image\n",
    "    max_values = np.sum(data, axis=(0, 1))\n",
    "    \n",
    "    return np.argmax(max_values)\n",
    "\n",
    "def paste_image_center(img1_array, img2_array):\n",
    "    # Convert numpy arrays to PIL Images\n",
    "    img1 = Image.fromarray(img1_array)\n",
    "    img2 = Image.fromarray(img2_array)\n",
    "\n",
    "    # Create a new image of zeros with the same shape as img1\n",
    "    new_img = Image.fromarray(np.zeros_like(img1_array))\n",
    "\n",
    "    # Calculate the position for the second image\n",
    "    position = ((new_img.size[0]-img2.size[0])//2, (new_img.size[1]-img2.size[1])//2)\n",
    "\n",
    "    # Paste the second image onto the new image\n",
    "    new_img.paste(img2, position)\n",
    "\n",
    "    # Convert back to numpy array and return\n",
    "    return np.array(new_img)\n",
    "\n",
    "def label_objects(image):\n",
    "    labeled_image, num_features = label(image)\n",
    "    output_image = np.zeros_like(image)\n",
    "    \n",
    "    indices = np.where(labeled_image > 0)\n",
    "    indices = list(zip(indices[0], indices[1]))\n",
    "    \n",
    "    # Label the object nearest to the top edge\n",
    "    top_object = min(indices, key=lambda x: x[0])\n",
    "    output_image[top_object] = 100\n",
    "    indices.remove(top_object)\n",
    "    \n",
    "    if indices:\n",
    "        # Label the object nearest to the left edge\n",
    "        left_object = min(indices, key=lambda x: x[1])\n",
    "        output_image[left_object] = 175\n",
    "        indices.remove(left_object)\n",
    "    \n",
    "    # Label the remaining objects\n",
    "    for idx in indices:\n",
    "        output_image[idx] = 255\n",
    "    \n",
    "    return output_image"
   ]
  },
  {
   "cell_type": "code",
   "execution_count": 313,
   "metadata": {},
   "outputs": [],
   "source": [
    "def plot_images(images, figsz = (5, 5)):\n",
    "    fig, axs = plt.subplots(1, len(images), figsize=figsz)\n",
    "    for i, img in enumerate(images):\n",
    "        axs[i].imshow(img, cmap='gray')\n",
    "        axs[i].axis('off')\n",
    "    plt.show()\n",
    "\n",
    "def circles(img):\n",
    "    # Convert binary image to grayscale\n",
    "    img = (img * 255).astype(np.uint8)\n",
    "\n",
    "    # Find contours\n",
    "    contours, _ = cv2.findContours(img, cv2.RETR_EXTERNAL, cv2.CHAIN_APPROX_SIMPLE)\n",
    "\n",
    "    # Create an empty image to draw circles on\n",
    "    circle_img = np.zeros_like(img)\n",
    "\n",
    "    # For each contour\n",
    "    for contour in contours:\n",
    "        # Find minimum enclosing circle\n",
    "        (x, y), radius = cv2.minEnclosingCircle(contour)\n",
    "        # Draw the circle\n",
    "        cv2.circle(circle_img, (int(x), int(y)), int(radius), (255, 255, 255), -1)\n",
    "\n",
    "        break\n",
    "\n",
    "    return circle_img\n",
    "\n",
    "def rectangles(img, thickness=2):\n",
    "    # Convert binary image to grayscale\n",
    "    img = (img * 255).astype(np.uint8)\n",
    "\n",
    "    # Find contours\n",
    "    contours, _ = cv2.findContours(img, cv2.RETR_EXTERNAL, cv2.CHAIN_APPROX_SIMPLE)\n",
    "\n",
    "    # Create an empty image to draw rectangles on\n",
    "    rectangle_img = np.zeros_like(img)\n",
    "\n",
    "    # For each contour\n",
    "    for contour in contours:\n",
    "        # Find bounding rectangle\n",
    "        x, y, w, h = cv2.boundingRect(contour)\n",
    "        # Draw the rectangle contour\n",
    "        cv2.rectangle(rectangle_img, (x, y), (x+w, y+h), (255, 255, 255), thickness)\n",
    "\n",
    "    return rectangle_img > 0\n",
    "\n",
    "import cv2\n",
    "import numpy as np\n",
    "\n",
    "def draw_bounding_box(image):\n",
    "\n",
    "    # Convert binary image to grayscale\n",
    "    image = (image * 255).astype(np.uint8)\n",
    "\n",
    "    # Create a new binary image of the same size\n",
    "    output_image = np.zeros_like(image)\n",
    "\n",
    "    # Find contours in the image\n",
    "    contours, _ = cv2.findContours(image, cv2.RETR_EXTERNAL, cv2.CHAIN_APPROX_SIMPLE)\n",
    "\n",
    "    # For each contour, draw the bounding box on the new image\n",
    "    for contour in contours:\n",
    "        x, y, w, h = cv2.boundingRect(contour)\n",
    "        cv2.rectangle(output_image, (x, y), (x+w, y+h), (255), -1)\n",
    "\n",
    "    return output_image > 0\n",
    "\n",
    "def find_rectangle_centers(image):\n",
    "    # Ensure the image is binary\n",
    "    assert np.array_equal(image, image.astype(bool)), \"Image must be binary\"\n",
    "\n",
    "    # Find connected components in the image\n",
    "    num_labels, labels, stats, centroids = cv2.connectedComponentsWithStats(image.astype('uint8'))\n",
    "\n",
    "    # The first component is the background, so ignore it\n",
    "    return centroids[1:]\n",
    "\n",
    "def paint_points_on_image(points, image):\n",
    "    # Create a copy of the image to avoid modifying the original\n",
    "    image_copy = np.copy(image)\n",
    "\n",
    "    # Convert the image to RGB if it's grayscale\n",
    "    if len(image_copy.shape) == 2:\n",
    "        image_copy = np.stack((image_copy,)*3, axis=-1)\n",
    "\n",
    "    # Paint each point in red\n",
    "    for point in points:\n",
    "        x, y = point\n",
    "        image_copy[int(y), int(x)] = [255, 0, 0]  # RGB for red\n",
    "\n",
    "    return image_copy\n",
    "\n",
    "def find_local_minima(image, size=3, threshold=50):\n",
    "    # Apply the minimum filter\n",
    "    filtered_image = minimum_filter(image, size)\n",
    "\n",
    "    # Find local minima\n",
    "    local_minima = image == filtered_image\n",
    "\n",
    "    # Apply threshold\n",
    "    local_minima = np.logical_and(local_minima, image <= threshold)\n",
    "\n",
    "    # The result is a boolean mask where True indicates local minima\n",
    "    return local_minima\n",
    "\n",
    "def find_brightest_ut(volume):\n",
    "    # Find the brightest slice\n",
    "    brightest_slice = np.argmax(np.sum(volume, axis=(0, 1)))\n",
    "\n",
    "    return brightest_slice\n",
    "\n",
    "def paint_binary_points(shape, points):\n",
    "    # Create an empty image of the specified shape\n",
    "    image = np.zeros(shape, dtype=np.uint8)\n",
    "\n",
    "    # Iterate over the points\n",
    "    for point in points:\n",
    "        # Round the coordinates to the nearest integer\n",
    "        y,x = tuple(int(round(coord)) for coord in point)\n",
    "        # cv2.circle(image, (y,x), 5, (255), -1)\n",
    "        # Draw the point on the image\n",
    "        image[x,y] = 255\n",
    "\n",
    "    return image.astype(np.uint8)"
   ]
  },
  {
   "cell_type": "code",
   "execution_count": 314,
   "metadata": {},
   "outputs": [
    {
     "name": "stdout",
     "output_type": "stream",
     "text": [
      "145\n"
     ]
    }
   ],
   "source": [
    "aligned_point = find_brightest_ut(ut)\n",
    "original_resolution = 0.022\n",
    "new_resolution = 1\n",
    "print(aligned_point)\n",
    "gate1 = (aligned_point, aligned_point+1)"
   ]
  },
  {
   "cell_type": "code",
   "execution_count": 315,
   "metadata": {},
   "outputs": [
    {
     "name": "stdout",
     "output_type": "stream",
     "text": [
      "The new dimensions are (72, 41)\n",
      "(72, 41, 300)\n",
      "140\n"
     ]
    },
    {
     "data": {
      "image/png": "[encoded data removed]",
      "text/plain": [
       "<Figure size 500x500 with 5 Axes>"
      ]
     },
     "metadata": {},
     "output_type": "display_data"
    }
   ],
   "source": [
    "\n",
    "id = get_brightest(xct)\n",
    "\n",
    "original_dimensions = (xct.shape[0], xct.shape[1])\n",
    "new_dimensions = calculate_new_dimensions(original_resolution, new_resolution, original_dimensions)\n",
    "print(f\"The new dimensions are {new_dimensions}\")\n",
    "resized = resize_image(Image.fromarray(xct[:,:,id]), new_dimensions[::-1])\n",
    "\n",
    "#resized the whole volume\n",
    "resized_xct = np.zeros((new_dimensions[0], new_dimensions[1], xct.shape[2]), dtype=np.uint8)\n",
    "for i in range(xct.shape[2]):\n",
    "    resized_xct[:,:,i] = resize_image(Image.fromarray(xct[:,:,i]), new_dimensions[::-1])\n",
    "\n",
    "print(resized_xct.shape)\n",
    "\n",
    "thresh = threshold_otsu(resized)\n",
    "\n",
    "print(thresh)\n",
    "\n",
    "thresholded = resized > thresh\n",
    "\n",
    "xct_centers  = find_rectangle_centers(thresholded)\n",
    "\n",
    "centers_painted_xct = paint_binary_points(thresholded.shape, xct_centers)\n",
    "\n",
    "xct_mask = draw_bounding_box(thresholded) * 1\n",
    "\n",
    "plot_images([resized, thresholded, paint_points_on_image(xct_centers, resized), centers_painted_xct, xct_mask])"
   ]
  },
  {
   "cell_type": "code",
   "execution_count": 316,
   "metadata": {},
   "outputs": [
    {
     "name": "stdout",
     "output_type": "stream",
     "text": [
      "43\n"
     ]
    },
    {
     "data": {
      "image/png": "[encoded data removed]",
      "text/plain": [
       "<Figure size 500x500 with 6 Axes>"
      ]
     },
     "metadata": {},
     "output_type": "display_data"
    }
   ],
   "source": [
    "#get the gates\n",
    "gated_data = ut[:,:,gate1[0]:gate1[1]].reshape(ut.shape[0], ut.shape[1])\n",
    "\n",
    "#otsu threshold\n",
    "thresh = threshold_otsu(gated_data)\n",
    "\n",
    "#create a mask\n",
    "thresholded = gated_data > thresh\n",
    "\n",
    "thresholded = ndimage.binary_fill_holes(thresholded)\n",
    "\n",
    "print(thresh)\n",
    "\n",
    "minimums = find_local_minima(gated_data, 10)\n",
    "\n",
    "only_minimus = minimums * thresholded\n",
    "\n",
    "centers = find_rectangle_centers(only_minimus)\n",
    "\n",
    "centers_painted_ut = paint_binary_points(gated_data.shape, centers)\n",
    "\n",
    "ut_mask = draw_bounding_box(thresholded) * 1\n",
    "\n",
    "# Assuming 'arr' is your numpy array\n",
    "rows, cols = ut_mask.shape\n",
    "\n",
    "# Calculate quarter of the rows\n",
    "quarter_rows = rows // 4\n",
    "\n",
    "# Set first and last quarter rows to 0\n",
    "ut_mask[:quarter_rows, :] = 0\n",
    "ut_mask[-quarter_rows:, :] = 0\n",
    "\n",
    "#paint the centers in the max projection\n",
    "max_projection_centers = paint_points_on_image(centers, gated_data)\n",
    "\n",
    "plot_images([gated_data, minimums, only_minimus, centers_painted_ut, max_projection_centers, ut_mask])"
   ]
  },
  {
   "cell_type": "code",
   "execution_count": 317,
   "metadata": {},
   "outputs": [
    {
     "name": "stdout",
     "output_type": "stream",
     "text": [
      "(146, 60)\n",
      "(72, 41)\n",
      "(146, 60)\n"
     ]
    },
    {
     "data": {
      "image/png": "[encoded data removed]",
      "text/plain": [
       "<Figure size 500x500 with 2 Axes>"
      ]
     },
     "metadata": {},
     "output_type": "display_data"
    }
   ],
   "source": [
    "centers_painted_xct_big = paste_image_center(centers_painted_ut, centers_painted_xct)\n",
    "\n",
    "print(centers_painted_ut.shape)\n",
    "\n",
    "print(centers_painted_xct.shape)\n",
    "\n",
    "print(centers_painted_xct_big.shape)\n",
    "\n",
    "plot_images([centers_painted_ut, centers_painted_xct_big])"
   ]
  },
  {
   "cell_type": "code",
   "execution_count": 318,
   "metadata": {},
   "outputs": [
    {
     "name": "stderr",
     "output_type": "stream",
     "text": [
      "C:\\Users\\alberto.vicente\\AppData\\Local\\Temp\\ipykernel_3604\\3028719024.py:5: DeprecationWarning: <tifffile.imsave> is deprecated. Use tifffile.imwrite\n",
      "  tiff.imsave(output_folder / 'labeled_ut.tif', labeled_ut)\n",
      "C:\\Users\\alberto.vicente\\AppData\\Local\\Temp\\ipykernel_3604\\3028719024.py:6: DeprecationWarning: <tifffile.imsave> is deprecated. Use tifffile.imwrite\n",
      "  tiff.imsave(output_folder / 'labeled_xct.tif', labeled_xct)\n"
     ]
    }
   ],
   "source": [
    "labeled_ut = label_objects(centers_painted_ut)\n",
    "labeled_xct = label_objects(centers_painted_xct)\n",
    "\n",
    "#save bot as tiff\n",
    "tiff.imsave(output_folder / 'labeled_ut.tif', labeled_ut)\n",
    "tiff.imsave(output_folder / 'labeled_xct.tif', labeled_xct)"
   ]
  },
  {
   "cell_type": "code",
   "execution_count": 319,
   "metadata": {},
   "outputs": [],
   "source": [
    "fixed_image = sitk.GetImageFromArray(labeled_ut)\n",
    "moving_image = sitk.GetImageFromArray(labeled_xct)\n",
    "fixed_mask = sitk.GetImageFromArray(ut_mask)\n",
    "moving_mask = sitk.GetImageFromArray(xct_mask)\n",
    "\n",
    "# Initial alignment of the two volumes\n",
    "initial_transform = sitk.CenteredTransformInitializer(fixed_image, \n",
    "                                                    moving_image, \n",
    "                                                    sitk.Euler2DTransform(), \n",
    "                                                    sitk.CenteredTransformInitializerFilter.GEOMETRY)\n",
    "\n",
    "# Set up the registration framework\n",
    "registration_method = sitk.ImageRegistrationMethod()\n",
    "#registration_method.SetMetricFixedMask(fixed_mask)\n",
    "#registration_method.SetMetricMovingMask(moving_mask)\n",
    "\n",
    "# Similarity metric settings\n",
    "registration_method.SetMetricAsMattesMutualInformation()\n",
    "\n",
    "# Interpolator\n",
    "# registration_method.SetInterpolator(sitk.sitkLinear)\n",
    "\n",
    "# # Optimizer settings\n",
    "# registration_method.SetOptimizerAsRegularStepGradientDescent(\n",
    "#     learningRate=1.0, \n",
    "#     minStep=1e-6,  # Decreased from 1e-5 to 1e-6\n",
    "#     numberOfIterations=1000,  # Increased from 5000 to 10000\n",
    "#     relaxationFactor=0.5, \n",
    "#     gradientMagnitudeTolerance=1e-9,  # Decreased from 1e-8 to 1e-9\n",
    "#     estimateLearningRate=registration_method.EachIteration\n",
    "# )\n",
    "# registration_method.SetOptimizerScalesFromPhysicalShift()\n",
    "\n",
    "# Optimizer settings\n",
    "registration_method.SetOptimizerAsExhaustive(numberOfSteps=[5,5,5], stepLength = 1.0)\n",
    "registration_method.SetOptimizerScalesFromPhysicalShift()\n",
    "\n",
    "# Setup for the multi-resolution framework\n",
    "registration_method.SetShrinkFactorsPerLevel(shrinkFactors = [4, 2, 1])\n",
    "registration_method.SetSmoothingSigmasPerLevel(smoothingSigmas = [2, 1, 0])\n",
    "registration_method.SmoothingSigmasAreSpecifiedInPhysicalUnitsOn()\n",
    "\n",
    "# Don't optimize in-place, we would possibly like to run this cell multiple times\n",
    "registration_method.SetInitialTransform(initial_transform, inPlace=False)\n"
   ]
  },
  {
   "cell_type": "code",
   "execution_count": 320,
   "metadata": {},
   "outputs": [],
   "source": [
    "\n",
    "final_transform = registration_method.Execute(sitk.Cast(fixed_image, sitk.sitkFloat32), \n",
    "                                                            sitk.Cast(moving_image, sitk.sitkFloat32))"
   ]
  },
  {
   "cell_type": "code",
   "execution_count": 321,
   "metadata": {},
   "outputs": [
    {
     "name": "stdout",
     "output_type": "stream",
     "text": [
      "Final transformation parameters: \n",
      " (0.0, -11.5, -37.0)\n",
      "New 3D transformation parameters: \n",
      " (0.0, 0.0, 0.0, -52.27272727272728, -168.1818181818182, 0.0)\n"
     ]
    }
   ],
   "source": [
    "print(\"Final transformation parameters: \\n\", final_transform.GetParameters())\n",
    "# Get the original parameters\n",
    "original_parameters = np.array(final_transform.GetParameters())\n",
    "\n",
    "# Compute the scaling factor\n",
    "scaling_factor = 1 / 0.22\n",
    "\n",
    "# Adjust the translation parameters\n",
    "adjusted_parameters = original_parameters.copy()\n",
    "adjusted_parameters[1:] *= scaling_factor\n",
    "\n",
    "# Create a new transform of the same type\n",
    "new_transform = sitk.Euler3DTransform()\n",
    "transform_3d = sitk.Euler3DTransform()\n",
    "\n",
    "\n",
    "# Create a new set of parameters for the 3D transform\n",
    "# Set the rotation parameters to the same as the 2D transform\n",
    "# Set the translation parameters to the same as the 2D transform for x and y, and 0 for z\n",
    "params_3d = (adjusted_parameters[0], 0, 0, adjusted_parameters[1], adjusted_parameters[2], 0)\n",
    "params_3d2 = (original_parameters[0], 0, 0, original_parameters[1], original_parameters[2], 0)\n",
    "\n",
    "# Set the parameters of the 3D transform\n",
    "new_transform.SetParameters(params_3d)\n",
    "transform_3d.SetParameters(params_3d2) \n",
    "\n",
    "print(\"New 3D transformation parameters: \\n\", new_transform.GetParameters())\n"
   ]
  },
  {
   "cell_type": "code",
   "execution_count": 322,
   "metadata": {},
   "outputs": [
    {
     "name": "stdout",
     "output_type": "stream",
     "text": [
      "(300, 146, 60)\n"
     ]
    }
   ],
   "source": [
    "# Now, apply the transform to the top volume overlaping reggion\n",
    "resampler = sitk.ResampleImageFilter()\n",
    "resampler.SetTransform(final_transform)\n",
    "resampler.SetDefaultPixelValue(0) \n",
    "\n",
    "# Set the properties of the resampler to match the original top volume\n",
    "resampler.SetOutputSpacing(fixed_image.GetSpacing())\n",
    "resampler.SetSize(fixed_image.GetSize())\n",
    "resampler.SetOutputDirection(fixed_image.GetDirection())\n",
    "resampler.SetOutputOrigin(fixed_image.GetOrigin())\n",
    "\n",
    "# Apply the transformation\n",
    "registered = resampler.Execute(moving_image)\n",
    "\n",
    "resized_registered = resampler.Execute(sitk.GetImageFromArray(resized))\n",
    "\n",
    "#resized the whole volume\n",
    "registered_volume = np.zeros((resized_xct.shape[2],centers_painted_ut.shape[0], centers_painted_ut.shape[1]), dtype=np.uint8)\n",
    "print(registered_volume.shape)\n",
    "for i, img in enumerate(resized_xct):\n",
    "    a = resampler.Execute(sitk.GetImageFromArray(resized_xct[i]))\n",
    "    a = sitk.GetArrayFromImage(a)\n",
    "    registered_volume[i] = a"
   ]
  },
  {
   "cell_type": "code",
   "execution_count": 323,
   "metadata": {},
   "outputs": [
    {
     "data": {
      "image/png": "[encoded data removed]",
      "text/plain": [
       "<Figure size 500x500 with 3 Axes>"
      ]
     },
     "metadata": {},
     "output_type": "display_data"
    }
   ],
   "source": [
    "plot_images([sitk.GetArrayFromImage(fixed_image),sitk.GetArrayFromImage(registered),sitk.GetArrayFromImage(resized_registered)])"
   ]
  },
  {
   "cell_type": "code",
   "execution_count": 324,
   "metadata": {},
   "outputs": [
    {
     "name": "stdout",
     "output_type": "stream",
     "text": [
      "(300, 6636, 2727)\n"
     ]
    }
   ],
   "source": [
    "#create a npzeros array with the same shape as the ut volume converted to the new resolution\n",
    "new_shape = calculate_new_dimensions(1, 0.022, (ut.shape[0], ut.shape[1]))\n",
    "\n",
    "big_ut = np.zeros((xct.shape[2],new_shape[0], new_shape[1]), dtype=np.uint8)\n",
    "\n",
    "big_ut_itk = sitk.GetImageFromArray(big_ut)\n",
    "big_ut_itk.SetSpacing((original_resolution, original_resolution,original_resolution))\n",
    "\n",
    "print(big_ut.shape)"
   ]
  },
  {
   "cell_type": "code",
   "execution_count": 325,
   "metadata": {},
   "outputs": [
    {
     "name": "stdout",
     "output_type": "stream",
     "text": [
      "(300, 3282, 1900)\n"
     ]
    }
   ],
   "source": [
    "xct = np.swapaxes(xct, 2, 1)\n",
    "xct = np.swapaxes(xct, 1, 0)\n",
    "print(xct.shape)"
   ]
  },
  {
   "cell_type": "code",
   "execution_count": 326,
   "metadata": {},
   "outputs": [],
   "source": [
    "xct_itk = sitk.GetImageFromArray(xct)\n",
    "xct_itk.SetSpacing((original_resolution, original_resolution,original_resolution))"
   ]
  },
  {
   "cell_type": "code",
   "execution_count": 327,
   "metadata": {},
   "outputs": [
    {
     "name": "stdout",
     "output_type": "stream",
     "text": [
      "(1900, 3282, 300)\n",
      "(2727, 6636, 300)\n"
     ]
    }
   ],
   "source": [
    "print(xct_itk.GetSize())\n",
    "print(big_ut_itk.GetSize())"
   ]
  },
  {
   "cell_type": "code",
   "execution_count": 328,
   "metadata": {},
   "outputs": [],
   "source": [
    "resampler = sitk.ResampleImageFilter()\n",
    "resampler.SetTransform(transform_3d)\n",
    "\n",
    "resampler.SetOutputSpacing(big_ut_itk.GetSpacing())\n",
    "resampler.SetOutputOrigin(big_ut_itk.GetOrigin())\n",
    "resampler.SetOutputDirection(big_ut_itk.GetDirection())\n",
    "resampler.SetSize(big_ut_itk.GetSize())\n",
    "\n",
    "resampled_xct = resampler.Execute(xct_itk)\n",
    "\n",
    "resampled_xct = sitk.GetArrayFromImage(resampled_xct).astype(np.uint8)"
   ]
  },
  {
   "cell_type": "code",
   "execution_count": 329,
   "metadata": {},
   "outputs": [
    {
     "data": {
      "image/png": "[encoded data removed]",
      "text/plain": [
       "<Figure size 500x500 with 2 Axes>"
      ]
     },
     "metadata": {},
     "output_type": "display_data"
    }
   ],
   "source": [
    "plot_images([xct[id], resampled_xct[id]])"
   ]
  },
  {
   "cell_type": "code",
   "execution_count": 330,
   "metadata": {},
   "outputs": [],
   "source": [
    "#save the resampled xct\n",
    "tiff.imwrite(output_folder / 'resampled_xct.tif', resampled_xct[id])"
   ]
  },
  {
   "cell_type": "code",
   "execution_count": 331,
   "metadata": {},
   "outputs": [
    {
     "name": "stderr",
     "output_type": "stream",
     "text": [
      "C:\\Users\\alberto.vicente\\AppData\\Local\\Temp\\ipykernel_3604\\2280146284.py:2: DeprecationWarning: <tifffile.imsave> is deprecated. Use tifffile.imwrite\n",
      "  tiff.imsave(output_folder / 'fixed.tif', sitk.GetArrayFromImage(fixed_image))\n",
      "C:\\Users\\alberto.vicente\\AppData\\Local\\Temp\\ipykernel_3604\\2280146284.py:4: DeprecationWarning: <tifffile.imsave> is deprecated. Use tifffile.imwrite\n",
      "  tiff.imsave(output_folder / 'registered.tif', sitk.GetArrayFromImage(registered))\n",
      "C:\\Users\\alberto.vicente\\AppData\\Local\\Temp\\ipykernel_3604\\2280146284.py:6: DeprecationWarning: <tifffile.imsave> is deprecated. Use tifffile.imwrite\n",
      "  tiff.imsave(output_folder / 'resized_registered.tif', sitk.GetArrayFromImage(resized_registered))\n",
      "C:\\Users\\alberto.vicente\\AppData\\Local\\Temp\\ipykernel_3604\\2280146284.py:8: DeprecationWarning: <tifffile.imsave> is deprecated. Use tifffile.imwrite\n",
      "  tiff.imsave(output_folder / 'registered_volume.tif', registered_volume)\n",
      "C:\\Users\\alberto.vicente\\AppData\\Local\\Temp\\ipykernel_3604\\2280146284.py:12: DeprecationWarning: <tifffile.imsave> is deprecated. Use tifffile.imwrite\n",
      "  tiff.imsave(output_folder / 'centers_xct.tif', centers_painted_xct)\n"
     ]
    }
   ],
   "source": [
    "#save the fixed image\n",
    "tiff.imsave(output_folder / 'fixed.tif', sitk.GetArrayFromImage(fixed_image))\n",
    "#save the registered image\n",
    "tiff.imsave(output_folder / 'registered.tif', sitk.GetArrayFromImage(registered))\n",
    "#save the resized registered image\n",
    "tiff.imsave(output_folder / 'resized_registered.tif', sitk.GetArrayFromImage(resized_registered))\n",
    "#save the registered volume\n",
    "tiff.imsave(output_folder / 'registered_volume.tif', registered_volume)\n",
    "# #save the resampled xct\n",
    "# tiff.imsave(output_folder / 'resampled_xct.tif', resampled_xct)\n",
    "#save centers xct\n",
    "tiff.imsave(output_folder / 'centers_xct.tif', centers_painted_xct)"
   ]
  },
  {
   "cell_type": "markdown",
   "metadata": {},
   "source": [
    "Mañana tienes que leer lo del correo de Fede.\n",
    "Despues probar la robustez de los cuadrados.\n",
    "Despues hacer lo de el punto medio en vez del local minima porque pinta que eso no va a funcionar"
   ]
  }
 ],
 "metadata": {
  "kernelspec": {
   "display_name": "VisionPyKernel",
   "language": "python",
   "name": "python3"
  },
  "language_info": {
   "codemirror_mode": {
    "name": "ipython",
    "version": 3
   },
   "file_extension": ".py",
   "mimetype": "text/x-python",
   "name": "python",
   "nbconvert_exporter": "python",
   "pygments_lexer": "ipython3",
   "version": "3.11.5"
  }
 },
 "nbformat": 4,
 "nbformat_minor": 2
}
