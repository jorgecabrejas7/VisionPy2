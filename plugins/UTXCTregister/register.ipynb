{
 "cells": [
  {
   "cell_type": "code",
   "execution_count": 2,
   "metadata": {},
   "outputs": [],
   "source": [
    "import tifffile as tiff\n",
    "import numpy as np\n",
    "from pathlib import Path\n",
    "import matplotlib.pyplot as plt\n",
    "from PIL import Image\n",
    "from scipy import ndimage\n",
    "import SimpleITK as sitk\n",
    "from skimage.filters import threshold_otsu\n",
    "from skimage import measure\n",
    "from scipy.ndimage import minimum_filter"
   ]
  },
  {
   "cell_type": "code",
   "execution_count": 3,
   "metadata": {},
   "outputs": [
    {
     "name": "stdout",
     "output_type": "stream",
     "text": [
      "(300, 2752, 1900)\n",
      "(145, 65, 506)\n"
     ]
    }
   ],
   "source": [
    "folder_xct = Path(r'E:\\temporal\\volumenes\\pegatinas_1_31')\n",
    "\n",
    "filename_xct = folder_xct / 'frontal_cropped.tif'\n",
    "\n",
    "output_folder = folder_xct / 'output'\n",
    "\n",
    "output_folder.mkdir(exist_ok=True)\n",
    "\n",
    "xct = tiff.imread(filename_xct)\n",
    "\n",
    "print(xct.shape)\n",
    "\n",
    "folder_ut = Path(r'\\\\192.168.10.106\\imdea\\DataDriven_UT_AlbertoVicente\\03_UT_data\\Panel PEGASO\\Pruebas Pegatinas\\doble cara 5')\n",
    "\n",
    "filename_ut = folder_ut / '32.tif'\n",
    "\n",
    "output_folder.mkdir(exist_ok=True)\n",
    "\n",
    "ut = tiff.imread(filename_ut)\n",
    "ut = np.swapaxes(ut, 0, 1)\n",
    "ut = np.swapaxes(ut, 1, 2)\n",
    "\n",
    "print(ut.shape)"
   ]
  },
  {
   "cell_type": "code",
   "execution_count": 4,
   "metadata": {},
   "outputs": [],
   "source": [
    "\n",
    "def resize_image(original_image, size, show = False):\n",
    "    width, height = original_image.size\n",
    "    if show:\n",
    "        print(f\"The original image size is {width} wide x {height} tall\")\n",
    "\n",
    "    resized_image = original_image.resize(size)\n",
    "    width, height = resized_image.size\n",
    "    if show:\n",
    "        print(f\"The resized image size is {width} wide x {height} tall\")\n",
    "    return np.array(resized_image)\n",
    "\n",
    "def calculate_new_dimensions(original_resolution, new_resolution, original_dimensions):\n",
    "    # Calculate the original dimensions in real-world units\n",
    "    original_width, original_height = original_dimensions\n",
    "    real_world_width = original_width * original_resolution\n",
    "    real_world_height = original_height * original_resolution\n",
    "\n",
    "    # Calculate the new dimensions in pixels\n",
    "    new_width = int(real_world_width / new_resolution)\n",
    "    new_height = int(real_world_height / new_resolution)\n",
    "\n",
    "    return new_width, new_height\n",
    "\n",
    "def get_brightest(d):\n",
    "    data = d.copy()\n",
    "    #turn to 0 the values below 255\n",
    "    data[data < 255] = 0\n",
    "    #calculate the max of each image\n",
    "    max_values = np.sum(data, axis=(1, 2))\n",
    "    \n",
    "    return np.argmax(max_values)\n",
    "\n"
   ]
  },
  {
   "cell_type": "code",
   "execution_count": 5,
   "metadata": {},
   "outputs": [],
   "source": [
    "def plot_images(images, figsz = (5, 5)):\n",
    "    fig, axs = plt.subplots(1, len(images), figsize=figsz)\n",
    "    for i, img in enumerate(images):\n",
    "        axs[i].imshow(img, cmap='gray')\n",
    "        axs[i].axis('off')\n",
    "    plt.show()\n",
    "\n",
    "def circles(img):\n",
    "    # Convert binary image to grayscale\n",
    "    img = (img * 255).astype(np.uint8)\n",
    "\n",
    "    # Find contours\n",
    "    contours, _ = cv2.findContours(img, cv2.RETR_EXTERNAL, cv2.CHAIN_APPROX_SIMPLE)\n",
    "\n",
    "    # Create an empty image to draw circles on\n",
    "    circle_img = np.zeros_like(img)\n",
    "\n",
    "    # For each contour\n",
    "    for contour in contours:\n",
    "        # Find minimum enclosing circle\n",
    "        (x, y), radius = cv2.minEnclosingCircle(contour)\n",
    "        # Draw the circle\n",
    "        cv2.circle(circle_img, (int(x), int(y)), int(radius), (255, 255, 255), -1)\n",
    "\n",
    "        break\n",
    "\n",
    "    return circle_img\n",
    "\n",
    "def rectangles(img, thickness=2):\n",
    "    # Convert binary image to grayscale\n",
    "    img = (img * 255).astype(np.uint8)\n",
    "\n",
    "    # Find contours\n",
    "    contours, _ = cv2.findContours(img, cv2.RETR_EXTERNAL, cv2.CHAIN_APPROX_SIMPLE)\n",
    "\n",
    "    # Create an empty image to draw rectangles on\n",
    "    rectangle_img = np.zeros_like(img)\n",
    "\n",
    "    # For each contour\n",
    "    for contour in contours:\n",
    "        # Find bounding rectangle\n",
    "        x, y, w, h = cv2.boundingRect(contour)\n",
    "        # Draw the rectangle contour\n",
    "        cv2.rectangle(rectangle_img, (x, y), (x+w, y+h), (255, 255, 255), thickness)\n",
    "\n",
    "    return rectangle_img > 0\n",
    "\n",
    "import cv2\n",
    "import numpy as np\n",
    "\n",
    "def draw_bounding_box(image):\n",
    "\n",
    "    # Convert binary image to grayscale\n",
    "    image = (image * 255).astype(np.uint8)\n",
    "\n",
    "    # Create a new binary image of the same size\n",
    "    output_image = np.zeros_like(image)\n",
    "\n",
    "    # Find contours in the image\n",
    "    contours, _ = cv2.findContours(image, cv2.RETR_EXTERNAL, cv2.CHAIN_APPROX_SIMPLE)\n",
    "\n",
    "    # For each contour, draw the bounding box on the new image\n",
    "    for contour in contours:\n",
    "        x, y, w, h = cv2.boundingRect(contour)\n",
    "        cv2.rectangle(output_image, (x, y), (x+w, y+h), (255), -1)\n",
    "\n",
    "    return output_image > 0\n",
    "\n",
    "def find_rectangle_centers(image):\n",
    "    # Ensure the image is binary\n",
    "    assert np.array_equal(image, image.astype(bool)), \"Image must be binary\"\n",
    "\n",
    "    # Find connected components in the image\n",
    "    num_labels, labels, stats, centroids = cv2.connectedComponentsWithStats(image.astype('uint8'))\n",
    "\n",
    "    # The first component is the background, so ignore it\n",
    "    return centroids[1:]\n",
    "\n",
    "def paint_points_on_image(points, image):\n",
    "    # Create a copy of the image to avoid modifying the original\n",
    "    image_copy = np.copy(image)\n",
    "\n",
    "    # Convert the image to RGB if it's grayscale\n",
    "    if len(image_copy.shape) == 2:\n",
    "        image_copy = np.stack((image_copy,)*3, axis=-1)\n",
    "\n",
    "    # Paint each point in red\n",
    "    for point in points:\n",
    "        x, y = point\n",
    "        image_copy[int(y), int(x)] = [255, 0, 0]  # RGB for red\n",
    "\n",
    "    return image_copy\n",
    "\n",
    "def find_local_minima(image, size=3, threshold=50):\n",
    "    # Apply the minimum filter\n",
    "    filtered_image = minimum_filter(image, size)\n",
    "\n",
    "    # Find local minima\n",
    "    local_minima = image == filtered_image\n",
    "\n",
    "    # Apply threshold\n",
    "    local_minima = np.logical_and(local_minima, image <= threshold)\n",
    "\n",
    "    # The result is a boolean mask where True indicates local minima\n",
    "    return local_minima\n",
    "\n",
    "def find_brightest_ut(volume):\n",
    "    # Find the brightest slice\n",
    "    brightest_slice = np.argmax(np.sum(volume, axis=(0, 1)))\n",
    "\n",
    "    return brightest_slice\n",
    "\n",
    "def paint_binary_points(shape, points):\n",
    "    # Create an empty image of the specified shape\n",
    "    image = np.zeros(shape, dtype=np.uint8)\n",
    "\n",
    "    # Iterate over the points\n",
    "    for point in points:\n",
    "        # Round the coordinates to the nearest integer\n",
    "        y,x = tuple(int(round(coord)) for coord in point)\n",
    "        # cv2.circle(image, (y,x), 5, (255), -1)\n",
    "        # Draw the point on the image\n",
    "        image[x,y] = 255\n",
    "\n",
    "    return image.astype(np.uint8)"
   ]
  },
  {
   "cell_type": "code",
   "execution_count": 6,
   "metadata": {},
   "outputs": [
    {
     "name": "stdout",
     "output_type": "stream",
     "text": [
      "147\n"
     ]
    }
   ],
   "source": [
    "aligned_point = find_brightest_ut(ut)\n",
    "original_resolution = 0.022\n",
    "new_resolution = 1\n",
    "print(aligned_point)\n",
    "gate1 = (aligned_point-1, aligned_point+1)"
   ]
  },
  {
   "cell_type": "code",
   "execution_count": 82,
   "metadata": {},
   "outputs": [
    {
     "name": "stdout",
     "output_type": "stream",
     "text": [
      "The new dimensions are (41, 60)\n",
      "(300, 60, 41)\n"
     ]
    },
    {
     "data": {
      "image/png": "[encoded data removed]",
      "text/plain": [
       "<Figure size 500x500 with 5 Axes>"
      ]
     },
     "metadata": {},
     "output_type": "display_data"
    }
   ],
   "source": [
    "\n",
    "id = get_brightest(xct)\n",
    "\n",
    "original_dimensions = (xct.shape[2], xct.shape[1])\n",
    "new_dimensions = calculate_new_dimensions(original_resolution, new_resolution, original_dimensions)\n",
    "print(f\"The new dimensions are {new_dimensions}\")\n",
    "resized = resize_image(Image.fromarray(xct[id]), new_dimensions)\n",
    "\n",
    "#resized the whole volume\n",
    "resized_xct = np.zeros((xct.shape[0], new_dimensions[1], new_dimensions[0]), dtype=np.uint8)\n",
    "for i, img in enumerate(xct):\n",
    "    resized_xct[i] = resize_image(Image.fromarray(img), new_dimensions)\n",
    "\n",
    "print(resized_xct.shape)\n",
    "\n",
    "thresh = threshold_otsu(resized)\n",
    "\n",
    "thresholded = resized > thresh\n",
    "\n",
    "#delete smallest region\n",
    "\n",
    "# Label all distinct regions in the binary image\n",
    "labels = measure.label(thresholded)\n",
    "\n",
    "# Get properties of each region\n",
    "regions = measure.regionprops(labels)\n",
    "\n",
    "# Find the smallest region by area\n",
    "min_region = min(regions, key=lambda region: region.area)\n",
    "\n",
    "# Set all pixels in the smallest region to 0\n",
    "thresholded[labels == min_region.label] = 0\n",
    "\n",
    "thresholded[labels == 1] = 0\n",
    "thresholded[labels == 2] = 0\n",
    "thresholded[labels == 3] = 0\n",
    "thresholded[labels == 5] = 0\n",
    "thresholded[labels == 8] = 0\n",
    "thresholded[labels == 9] = 0\n",
    "thresholded[labels == 10] = 0\n",
    "thresholded[labels == 11] = 0\n",
    "\n",
    "xct_boxes = (draw_bounding_box(thresholded)*255)\n",
    "\n",
    "xct_centers  = find_rectangle_centers(thresholded)\n",
    "\n",
    "centers_painted_xct = paint_binary_points(thresholded.shape, xct_centers)\n",
    "\n",
    "plot_images([resized, thresholded, xct_boxes, paint_points_on_image(xct_centers, resized), centers_painted_xct])"
   ]
  },
  {
   "cell_type": "code",
   "execution_count": 83,
   "metadata": {},
   "outputs": [
    {
     "data": {
      "image/png": "[encoded data removed]",
      "text/plain": [
       "<Figure size 500x500 with 7 Axes>"
      ]
     },
     "metadata": {},
     "output_type": "display_data"
    },
    {
     "name": "stderr",
     "output_type": "stream",
     "text": [
      "C:\\Users\\alberto.vicente\\AppData\\Local\\Temp\\ipykernel_15628\\3007187827.py:54: DeprecationWarning: <tifffile.imsave> is deprecated. Use tifffile.imwrite\n",
      "  tiff.imsave(output_folder / 'max_projection_centers.tif', max_projection_centers)\n"
     ]
    }
   ],
   "source": [
    "#get the gates\n",
    "gated_data = ut[:,:,gate1[0]:gate1[1]]\n",
    "\n",
    "#get the max projection of gated 1 data\n",
    "max_projection = np.max(gated_data, axis=2)\n",
    "\n",
    "#apply canny edge detection\n",
    "edges = cv2.Canny(max_projection, 50, 150)\n",
    "\n",
    "minimums = find_local_minima(max_projection, 10)\n",
    "\n",
    "rectangle = rectangles(edges,1)\n",
    "\n",
    "#fillholes in the rectangle\n",
    "rectangle_fill = ndimage.binary_fill_holes(rectangle)\n",
    "\n",
    "only_minimus = np.logical_and(minimums,rectangle_fill)\n",
    "\n",
    "# Label all distinct regions in the binary image\n",
    "labels = measure.label(only_minimus)\n",
    "\n",
    "# Get properties of each region\n",
    "regions = measure.regionprops(labels)\n",
    "\n",
    "# Find the smallest region by area\n",
    "min_region = min(regions, key=lambda region: region.area)\n",
    "\n",
    "# Set all pixels in the smallest region to 0\n",
    "only_minimus[labels == min_region.label] = 0\n",
    "\n",
    "only_minimus[labels == 1] = 0\n",
    "only_minimus[labels == 2] = 0\n",
    "only_minimus[labels == 3] = 0\n",
    "only_minimus[labels == 4] = 0\n",
    "only_minimus[labels == 5] = 0\n",
    "only_minimus[labels == 6] = 0\n",
    "only_minimus[labels == 10] = 0\n",
    "only_minimus[labels == 11] = 0\n",
    "only_minimus[labels == 12] = 0\n",
    "only_minimus[labels == 13] = 0\n",
    "only_minimus[labels == 14] = 0\n",
    "only_minimus[labels == 15] = 0\n",
    "\n",
    "centers = find_rectangle_centers(only_minimus)\n",
    "\n",
    "centers_painted_ut = paint_binary_points(max_projection.shape, centers)\n",
    "\n",
    "#paint the centers in the max projection\n",
    "max_projection_centers = paint_points_on_image(centers, max_projection)\n",
    "\n",
    "plot_images([max_projection, minimums,rectangle_fill,squares, only_minimus,max_projection_centers,centers_painted_ut])\n",
    "\n",
    "#save the max projection with the centers\n",
    "tiff.imsave(output_folder / 'max_projection_centers.tif', max_projection_centers)"
   ]
  },
  {
   "cell_type": "code",
   "execution_count": 84,
   "metadata": {},
   "outputs": [],
   "source": [
    "fixed_image = sitk.GetImageFromArray(centers_painted_ut)\n",
    "moving_image = sitk.GetImageFromArray(centers_painted_xct)\n",
    "\n",
    "# Initial alignment of the two volumes\n",
    "initial_transform = sitk.CenteredTransformInitializer(fixed_image, \n",
    "                                                    moving_image, \n",
    "                                                    sitk.Euler2DTransform(), \n",
    "                                                    sitk.CenteredTransformInitializerFilter.GEOMETRY)\n",
    "\n",
    "# Set up the registration framework\n",
    "registration_method = sitk.ImageRegistrationMethod()\n",
    "\n",
    "# Assuming fixed_mask and moving_mask are binary images representing your masks\n",
    "registration_method.SetMetricFixedMask(fixed_mask)\n",
    "registration_method.SetMetricMovingMask(moving_mask)\n",
    "\n",
    "# Similarity metric settings\n",
    "registration_method.SetMetricAsMattesMutualInformation()\n",
    "\n",
    "# Interpolator\n",
    "registration_method.SetInterpolator(sitk.sitkLinear)\n",
    "\n",
    "# # Optimizer settings\n",
    "# registration_method.SetOptimizerAsRegularStepGradientDescent(learningRate=1.0, minStep=1e-5, numberOfIterations=5000, relaxationFactor=0.5, gradientMagnitudeTolerance=1e-8, estimateLearningRate=registration_method.EachIteration)\n",
    "# registration_method.SetOptimizerScalesFromPhysicalShift()\n",
    "\n",
    "# Optimizer settings\n",
    "registration_method.SetOptimizerAsExhaustive(numberOfSteps=[4,4,4], stepLength = 1.0)\n",
    "registration_method.SetOptimizerScalesFromPhysicalShift()\n",
    "\n",
    "# Setup for the multi-resolution framework\n",
    "registration_method.SetShrinkFactorsPerLevel(shrinkFactors = [4, 2, 1])\n",
    "registration_method.SetSmoothingSigmasPerLevel(smoothingSigmas = [2, 1, 0])\n",
    "registration_method.SmoothingSigmasAreSpecifiedInPhysicalUnitsOn()\n",
    "\n",
    "# Don't optimize in-place, we would possibly like to run this cell multiple times\n",
    "registration_method.SetInitialTransform(initial_transform, inPlace=False)\n"
   ]
  },
  {
   "cell_type": "code",
   "execution_count": 85,
   "metadata": {},
   "outputs": [
    {
     "ename": "RuntimeError",
     "evalue": "Exception thrown in SimpleITK ImageRegistrationMethod_Execute: D:\\a\\1\\sitk-build\\ITK-prefix\\include\\ITK-5.3\\itkMattesMutualInformationImageToImageMetricv4.hxx:311:\nITK ERROR: MattesMutualInformationImageToImageMetricv4(00000171008237D0): All samples map outside moving image buffer. The images do not sufficiently overlap. They need to be initialized to have more overlap before this metric will work. For instance, you can align the image centers by translation.\n",
     "output_type": "error",
     "traceback": [
      "\u001b[1;31m---------------------------------------------------------------------------\u001b[0m",
      "\u001b[1;31mRuntimeError\u001b[0m                              Traceback (most recent call last)",
      "\u001b[1;32m~\\AppData\\Local\\Temp\\ipykernel_15628\\3170480732.py\u001b[0m in \u001b[0;36m?\u001b[1;34m()\u001b[0m\n\u001b[1;32m----> 1\u001b[1;33m final_transform = registration_method.Execute(sitk.Cast(fixed_image, sitk.sitkFloat32), \n\u001b[0m\u001b[0;32m      2\u001b[0m                                                             sitk.Cast(moving_image, sitk.sitkFloat32))\n",
      "\u001b[1;32mc:\\Users\\alberto.vicente\\.conda\\envs\\VisionPyKernel\\Lib\\site-packages\\SimpleITK\\SimpleITK.py\u001b[0m in \u001b[0;36m?\u001b[1;34m(self, fixed, moving)\u001b[0m\n\u001b[0;32m  10848\u001b[0m         \u001b[0mOptimize\u001b[0m \u001b[0mthe\u001b[0m \u001b[0mconfigured\u001b[0m \u001b[0mregistration\u001b[0m \u001b[0mproblem\u001b[0m\u001b[1;33m.\u001b[0m\u001b[1;33m\u001b[0m\u001b[1;33m\u001b[0m\u001b[0m\n\u001b[0;32m  10849\u001b[0m \u001b[1;33m\u001b[0m\u001b[0m\n\u001b[0;32m  10850\u001b[0m \u001b[1;33m\u001b[0m\u001b[0m\n\u001b[0;32m  10851\u001b[0m         \"\"\"\n\u001b[1;32m> 10852\u001b[1;33m         \u001b[0mval\u001b[0m \u001b[1;33m=\u001b[0m \u001b[0m_SimpleITK\u001b[0m\u001b[1;33m.\u001b[0m\u001b[0mImageRegistrationMethod_Execute\u001b[0m\u001b[1;33m(\u001b[0m\u001b[0mself\u001b[0m\u001b[1;33m,\u001b[0m \u001b[0mfixed\u001b[0m\u001b[1;33m,\u001b[0m \u001b[0mmoving\u001b[0m\u001b[1;33m)\u001b[0m\u001b[1;33m\u001b[0m\u001b[1;33m\u001b[0m\u001b[0m\n\u001b[0m\u001b[0;32m  10853\u001b[0m \u001b[1;33m\u001b[0m\u001b[0m\n\u001b[0;32m  10854\u001b[0m         \u001b[0mval\u001b[0m \u001b[1;33m=\u001b[0m \u001b[0mval\u001b[0m\u001b[1;33m.\u001b[0m\u001b[0mDowncast\u001b[0m\u001b[1;33m(\u001b[0m\u001b[1;33m)\u001b[0m\u001b[1;33m\u001b[0m\u001b[1;33m\u001b[0m\u001b[0m\n\u001b[0;32m  10855\u001b[0m \u001b[1;33m\u001b[0m\u001b[0m\n",
      "\u001b[1;31mRuntimeError\u001b[0m: Exception thrown in SimpleITK ImageRegistrationMethod_Execute: D:\\a\\1\\sitk-build\\ITK-prefix\\include\\ITK-5.3\\itkMattesMutualInformationImageToImageMetricv4.hxx:311:\nITK ERROR: MattesMutualInformationImageToImageMetricv4(00000171008237D0): All samples map outside moving image buffer. The images do not sufficiently overlap. They need to be initialized to have more overlap before this metric will work. For instance, you can align the image centers by translation.\n"
     ]
    }
   ],
   "source": [
    "\n",
    "final_transform = registration_method.Execute(sitk.Cast(fixed_image, sitk.sitkFloat32), \n",
    "                                                            sitk.Cast(moving_image, sitk.sitkFloat32))"
   ]
  },
  {
   "cell_type": "code",
   "execution_count": null,
   "metadata": {},
   "outputs": [
    {
     "name": "stdout",
     "output_type": "stream",
     "text": [
      "(300, 135, 50)\n"
     ]
    }
   ],
   "source": [
    "# Now, apply the transform to the top volume overlaping reggion\n",
    "resampler = sitk.ResampleImageFilter()\n",
    "resampler.SetTransform(final_transform)\n",
    "resampler.SetDefaultPixelValue(0)  \n",
    "\n",
    "# Set the properties of the resampler to match the original top volume\n",
    "resampler.SetOutputSpacing(fixed_image.GetSpacing())\n",
    "resampler.SetSize(fixed_image.GetSize())\n",
    "resampler.SetOutputDirection(fixed_image.GetDirection())\n",
    "resampler.SetOutputOrigin(fixed_image.GetOrigin())\n",
    "resampler.SetDefaultPixelValue(fixed_image.GetPixelIDValue())\n",
    "\n",
    "# Apply the transformation\n",
    "registered = resampler.Execute(moving_image)\n",
    "\n",
    "resized_registered = resampler.Execute(sitk.GetImageFromArray(resized))\n",
    "\n",
    "#resized the whole volume\n",
    "registered_volume = np.zeros((resized_xct.shape[0],centers_painted_ut.shape[0], centers_painted_ut.shape[1]), dtype=np.uint8)\n",
    "print(registered_volume.shape)\n",
    "for i, img in enumerate(resized_xct):\n",
    "    a = resampler.Execute(sitk.GetImageFromArray(resized_xct[i]))\n",
    "    a = sitk.GetArrayFromImage(a)\n",
    "    registered_volume[i] = a"
   ]
  },
  {
   "cell_type": "code",
   "execution_count": null,
   "metadata": {},
   "outputs": [
    {
     "data": {
      "image/png": "[encoded data removed]",
      "text/plain": [
       "<Figure size 500x500 with 3 Axes>"
      ]
     },
     "metadata": {},
     "output_type": "display_data"
    }
   ],
   "source": [
    "plot_images([sitk.GetArrayFromImage(fixed_image),sitk.GetArrayFromImage(registered),sitk.GetArrayFromImage(resized_registered)])"
   ]
  },
  {
   "cell_type": "code",
   "execution_count": null,
   "metadata": {},
   "outputs": [
    {
     "name": "stderr",
     "output_type": "stream",
     "text": [
      "C:\\Users\\alberto.vicente\\AppData\\Local\\Temp\\ipykernel_15628\\436565323.py:2: DeprecationWarning: <tifffile.imsave> is deprecated. Use tifffile.imwrite\n",
      "  tiff.imsave(output_folder / 'fixed.tif', sitk.GetArrayFromImage(fixed_image))\n",
      "C:\\Users\\alberto.vicente\\AppData\\Local\\Temp\\ipykernel_15628\\436565323.py:4: DeprecationWarning: <tifffile.imsave> is deprecated. Use tifffile.imwrite\n",
      "  tiff.imsave(output_folder / 'registered.tif', sitk.GetArrayFromImage(registered))\n",
      "C:\\Users\\alberto.vicente\\AppData\\Local\\Temp\\ipykernel_15628\\436565323.py:6: DeprecationWarning: <tifffile.imsave> is deprecated. Use tifffile.imwrite\n",
      "  tiff.imsave(output_folder / 'resized_registered.tif', sitk.GetArrayFromImage(resized_registered))\n",
      "C:\\Users\\alberto.vicente\\AppData\\Local\\Temp\\ipykernel_15628\\436565323.py:8: DeprecationWarning: <tifffile.imsave> is deprecated. Use tifffile.imwrite\n",
      "  tiff.imsave(output_folder / 'registered_volume.tif', registered_volume)\n"
     ]
    }
   ],
   "source": [
    "#save the fixed image\n",
    "tiff.imsave(output_folder / 'fixed.tif', sitk.GetArrayFromImage(fixed_image))\n",
    "#save the registered image\n",
    "tiff.imsave(output_folder / 'registered.tif', sitk.GetArrayFromImage(registered))\n",
    "#save the resized registered image\n",
    "tiff.imsave(output_folder / 'resized_registered.tif', sitk.GetArrayFromImage(resized_registered))\n",
    "#save the registered volume\n",
    "tiff.imsave(output_folder / 'registered_volume.tif', registered_volume)"
   ]
  },
  {
   "cell_type": "markdown",
   "metadata": {},
   "source": [
    "Mañana tienes que leer lo del correo de Fede.\n",
    "Despues probar la robustez de los cuadrados.\n",
    "Despues hacer lo de el punto medio en vez del local minima porque pinta que eso no va a funcionar"
   ]
  }
 ],
 "metadata": {
  "kernelspec": {
   "display_name": "VisionPyKernel",
   "language": "python",
   "name": "python3"
  },
  "language_info": {
   "codemirror_mode": {
    "name": "ipython",
    "version": 3
   },
   "file_extension": ".py",
   "mimetype": "text/x-python",
   "name": "python",
   "nbconvert_exporter": "python",
   "pygments_lexer": "ipython3",
   "version": "3.11.5"
  }
 },
 "nbformat": 4,
 "nbformat_minor": 2
}
