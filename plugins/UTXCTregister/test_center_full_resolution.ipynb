{
 "cells": [
  {
   "cell_type": "code",
   "execution_count": 1,
   "metadata": {},
   "outputs": [],
   "source": [
    "import tifffile as tiff\n",
    "import numpy as np\n",
    "from pathlib import Path\n",
    "import matplotlib.pyplot as plt\n",
    "from PIL import Image\n",
    "from scipy import ndimage\n",
    "import SimpleITK as sitk\n",
    "from skimage.filters import threshold_otsu\n",
    "from scipy.ndimage import minimum_filter, label"
   ]
  },
  {
   "cell_type": "code",
   "execution_count": 2,
   "metadata": {},
   "outputs": [
    {
     "name": "stdout",
     "output_type": "stream",
     "text": [
      "(3282, 1900, 300)\n"
     ]
    }
   ],
   "source": [
    "folder_xct = Path(r'E:\\temporal\\volumenes\\32+33+34+35\\33')\n",
    "\n",
    "filename_xct = folder_xct / 'frontal_cropped.tif'\n",
    "\n",
    "output_folder = folder_xct / 'output'\n",
    "\n",
    "output_folder.mkdir(exist_ok=True)\n",
    "\n",
    "xct = tiff.imread(filename_xct)\n",
    "xct = np.swapaxes(xct, 0, 1)\n",
    "xct = np.swapaxes(xct, 1, 2)\n",
    "\n",
    "print(xct.shape)"
   ]
  },
  {
   "cell_type": "code",
   "execution_count": 19,
   "metadata": {},
   "outputs": [],
   "source": [
    "\n",
    "def resize_image(original_image, size, show = False):\n",
    "    width, height = original_image.size\n",
    "    if show:\n",
    "        print(f\"The original image size is {width} wide x {height} tall\")\n",
    "\n",
    "    resized_image = original_image.resize(size)\n",
    "    width, height = resized_image.size\n",
    "    if show:\n",
    "        print(f\"The resized image size is {width} wide x {height} tall\")\n",
    "    return np.array(resized_image)\n",
    "\n",
    "def calculate_new_dimensions(original_resolution, new_resolution, original_dimensions):\n",
    "    # Calculate the original dimensions in real-world units\n",
    "    original_width, original_height = original_dimensions\n",
    "    real_world_width = original_width * original_resolution\n",
    "    real_world_height = original_height * original_resolution\n",
    "\n",
    "    # Calculate the new dimensions in pixels\n",
    "    new_width = int(real_world_width / new_resolution)\n",
    "    new_height = int(real_world_height / new_resolution)\n",
    "\n",
    "    return new_width, new_height\n",
    "\n",
    "def get_brightest(d):\n",
    "    data = d.copy()\n",
    "    #turn to 0 the values below 255\n",
    "    data[data < 255] = 0\n",
    "    #calculate the max of each image\n",
    "    max_values = np.sum(data, axis=(0, 1))\n",
    "    \n",
    "    return np.argmax(max_values)\n",
    "\n",
    "def paste_image_center(img1_array, img2_array):\n",
    "    # Convert numpy arrays to PIL Images\n",
    "    img1 = Image.fromarray(img1_array)\n",
    "    img2 = Image.fromarray(img2_array)\n",
    "\n",
    "    # Create a new image of zeros with the same shape as img1\n",
    "    new_img = Image.fromarray(np.zeros_like(img1_array))\n",
    "\n",
    "    # Calculate the position for the second image\n",
    "    position = ((new_img.size[0]-img2.size[0])//2, (new_img.size[1]-img2.size[1])//2)\n",
    "\n",
    "    # Paste the second image onto the new image\n",
    "    new_img.paste(img2, position)\n",
    "\n",
    "    # Convert back to numpy array and return\n",
    "    return np.array(new_img)\n",
    "\n",
    "def label_objects(image):\n",
    "    labeled_image, num_features = label(image)\n",
    "    output_image = np.zeros_like(image)\n",
    "    \n",
    "    indices = np.where(labeled_image > 0)\n",
    "    indices = list(zip(indices[0], indices[1]))\n",
    "    \n",
    "    # Label the object nearest to the top edge\n",
    "    top_object = min(indices, key=lambda x: x[0])\n",
    "    output_image[top_object] = 100\n",
    "    indices.remove(top_object)\n",
    "    \n",
    "    if indices:\n",
    "        # Label the object nearest to the left edge\n",
    "        left_object = min(indices, key=lambda x: x[1])\n",
    "        output_image[left_object] = 175\n",
    "        indices.remove(left_object)\n",
    "    \n",
    "    # Label the remaining objects\n",
    "    for idx in indices:\n",
    "        output_image[idx] = 255\n",
    "    \n",
    "    return output_image\n",
    "\n",
    "def plot_images(images, figsz = (5, 5)):\n",
    "    fig, axs = plt.subplots(1, len(images), figsize=figsz)\n",
    "    for i, img in enumerate(images):\n",
    "        axs[i].imshow(img, cmap='gray')\n",
    "        axs[i].axis('off')\n",
    "    plt.show()\n",
    "\n",
    "def circles(img):\n",
    "    # Convert binary image to grayscale\n",
    "    img = (img * 255).astype(np.uint8)\n",
    "\n",
    "    # Find contours\n",
    "    contours, _ = cv2.findContours(img, cv2.RETR_EXTERNAL, cv2.CHAIN_APPROX_SIMPLE)\n",
    "\n",
    "    # Create an empty image to draw circles on\n",
    "    circle_img = np.zeros_like(img)\n",
    "\n",
    "    # For each contour\n",
    "    for contour in contours:\n",
    "        # Find minimum enclosing circle\n",
    "        (x, y), radius = cv2.minEnclosingCircle(contour)\n",
    "        # Draw the circle\n",
    "        cv2.circle(circle_img, (int(x), int(y)), int(radius), (255, 255, 255), -1)\n",
    "\n",
    "        break\n",
    "\n",
    "    return circle_img\n",
    "\n",
    "def rectangles(img, thickness=2):\n",
    "    # Convert binary image to grayscale\n",
    "    img = (img * 255).astype(np.uint8)\n",
    "\n",
    "    # Find contours\n",
    "    contours, _ = cv2.findContours(img, cv2.RETR_EXTERNAL, cv2.CHAIN_APPROX_SIMPLE)\n",
    "\n",
    "    # Create an empty image to draw rectangles on\n",
    "    rectangle_img = np.zeros_like(img)\n",
    "\n",
    "    # For each contour\n",
    "    for contour in contours:\n",
    "        # Find bounding rectangle\n",
    "        x, y, w, h = cv2.boundingRect(contour)\n",
    "        # Draw the rectangle contour\n",
    "        cv2.rectangle(rectangle_img, (x, y), (x+w, y+h), (255, 255, 255), thickness)\n",
    "\n",
    "    return rectangle_img > 0\n",
    "\n",
    "import cv2\n",
    "import numpy as np\n",
    "\n",
    "def draw_bounding_box(image):\n",
    "\n",
    "    # Convert binary image to grayscale\n",
    "    image = (image * 255).astype(np.uint8)\n",
    "\n",
    "    # Create a new binary image of the same size\n",
    "    output_image = np.zeros_like(image)\n",
    "\n",
    "    # Find contours in the image\n",
    "    contours, _ = cv2.findContours(image, cv2.RETR_EXTERNAL, cv2.CHAIN_APPROX_SIMPLE)\n",
    "\n",
    "    # For each contour, draw the bounding box on the new image\n",
    "    for contour in contours:\n",
    "        x, y, w, h = cv2.boundingRect(contour)\n",
    "        cv2.rectangle(output_image, (x, y), (x+w, y+h), (255), -1)\n",
    "\n",
    "    return output_image > 0\n",
    "\n",
    "def find_rectangle_centers(image):\n",
    "    # Ensure the image is binary\n",
    "    assert np.array_equal(image, image.astype(bool)), \"Image must be binary\"\n",
    "\n",
    "    # Find connected components in the image\n",
    "    num_labels, labels, stats, centroids = cv2.connectedComponentsWithStats(image.astype('uint8'))\n",
    "\n",
    "    # The first component is the background, so ignore it\n",
    "    return centroids[1:]\n",
    "\n",
    "def paint_points_on_image(points, image):\n",
    "    # Create a copy of the image to avoid modifying the original\n",
    "    image_copy = np.copy(image)\n",
    "\n",
    "    # Convert the image to RGB if it's grayscale\n",
    "    if len(image_copy.shape) == 2:\n",
    "        image_copy = np.stack((image_copy,)*3, axis=-1)\n",
    "\n",
    "    # Paint each point in red\n",
    "    for point in points:\n",
    "        x, y = point\n",
    "        image_copy[int(y), int(x)] = [255, 0, 0]  # RGB for red\n",
    "\n",
    "    return image_copy\n",
    "\n",
    "def find_local_minima(image, size=3, threshold=50):\n",
    "    # Apply the minimum filter\n",
    "    filtered_image = minimum_filter(image, size)\n",
    "\n",
    "    # Find local minima\n",
    "    local_minima = image == filtered_image\n",
    "\n",
    "    # Apply threshold\n",
    "    local_minima = np.logical_and(local_minima, image <= threshold)\n",
    "\n",
    "    # The result is a boolean mask where True indicates local minima\n",
    "    return local_minima\n",
    "\n",
    "def find_brightest_ut(volume):\n",
    "    # Find the brightest slice\n",
    "    brightest_slice = np.argmax(np.sum(volume, axis=(0, 1)))\n",
    "\n",
    "    return brightest_slice\n",
    "\n",
    "def paint_binary_points(shape, points):\n",
    "    # Create an empty image of the specified shape\n",
    "    image = np.zeros(shape, dtype=np.uint8)\n",
    "\n",
    "    # Iterate over the points\n",
    "    for point in points:\n",
    "        # Round the coordinates to the nearest integer\n",
    "        y,x = tuple(int(round(coord)) for coord in point)\n",
    "        # cv2.circle(image, (y,x), 5, (255), -1)\n",
    "        # Draw the point on the image\n",
    "        image[x,y] = 255\n",
    "\n",
    "    return image.astype(np.uint8)"
   ]
  },
  {
   "cell_type": "code",
   "execution_count": 58,
   "metadata": {},
   "outputs": [],
   "source": [
    "import cv2\n",
    "\n",
    "def paint_binary_points(shape, points):\n",
    "    # Create an empty image of the specified shape\n",
    "    image = np.zeros(shape, dtype=np.uint8)\n",
    "\n",
    "    # Iterate over the points\n",
    "    for point in points:\n",
    "        # Round the coordinates to the nearest integer\n",
    "        y,x = tuple(int(round(coord)) for coord in point)\n",
    "        # Draw a circle of radius 50 on the image\n",
    "        cv2.circle(image, (y,x), 100, (255), -1)\n",
    "\n",
    "    return image.astype(np.uint8)"
   ]
  },
  {
   "cell_type": "code",
   "execution_count": 59,
   "metadata": {},
   "outputs": [
    {
     "name": "stdout",
     "output_type": "stream",
     "text": [
      "(3282, 1900)\n",
      "150\n"
     ]
    }
   ],
   "source": [
    "id = get_brightest(xct)\n",
    "\n",
    "image = xct[:,:,id]\n",
    "\n",
    "print(image.shape)\n",
    "\n",
    "thresh = threshold_otsu(image)\n",
    "\n",
    "print(thresh)\n",
    "\n",
    "thresholded = image > thresh\n",
    "\n",
    "#fill holes\n",
    "thresholded = ndimage.binary_fill_holes(thresholded)\n",
    "\n",
    "xct_centers  = find_rectangle_centers(thresholded)\n"
   ]
  },
  {
   "cell_type": "code",
   "execution_count": 60,
   "metadata": {},
   "outputs": [
    {
     "name": "stdout",
     "output_type": "stream",
     "text": [
      "(3, 2)\n"
     ]
    },
    {
     "data": {
      "image/png": "[encoded data removed]",
      "text/plain": [
       "<Figure size 500x500 with 5 Axes>"
      ]
     },
     "metadata": {},
     "output_type": "display_data"
    }
   ],
   "source": [
    "# To delete the element at index 1 along axis 0\n",
    "xct_centers = np.delete(xct_centers, 3, axis=0)\n",
    "\n",
    "print(xct_centers.shape)\n",
    "\n",
    "centers_painted_xct = paint_binary_points(thresholded.shape, xct_centers)\n",
    "\n",
    "xct_mask = draw_bounding_box(thresholded) * 1\n",
    "\n",
    "plot_images([image, thresholded, paint_points_on_image(xct_centers, image), centers_painted_xct, xct_mask])"
   ]
  },
  {
   "cell_type": "code",
   "execution_count": 61,
   "metadata": {},
   "outputs": [
    {
     "name": "stdout",
     "output_type": "stream",
     "text": [
      "The new dimensions are (72, 41)\n",
      "(72, 41)\n"
     ]
    }
   ],
   "source": [
    "original_dimensions = (xct.shape[0], xct.shape[1])\n",
    "new_dimensions = calculate_new_dimensions(0.022, 1, original_dimensions)\n",
    "print(f\"The new dimensions are {new_dimensions}\")\n",
    "resized = resize_image(Image.fromarray(centers_painted_xct), new_dimensions[::-1])\n",
    "\n",
    "print(resized.shape)"
   ]
  },
  {
   "cell_type": "code",
   "execution_count": 62,
   "metadata": {},
   "outputs": [
    {
     "name": "stderr",
     "output_type": "stream",
     "text": [
      "C:\\Users\\alberto.vicente\\AppData\\Local\\Temp\\ipykernel_20548\\1150160756.py:2: DeprecationWarning: <tifffile.imsave> is deprecated. Use tifffile.imwrite\n",
      "  tiff.imsave(output_folder / 'centers_2.tif', resized)\n"
     ]
    }
   ],
   "source": [
    "#save as tiff\n",
    "tiff.imsave(output_folder / 'centers_2.tif', resized)"
   ]
  },
  {
   "cell_type": "code",
   "execution_count": 63,
   "metadata": {},
   "outputs": [
    {
     "data": {
      "text/plain": [
       "<matplotlib.image.AxesImage at 0x2404660e810>"
      ]
     },
     "execution_count": 63,
     "metadata": {},
     "output_type": "execute_result"
    },
    {
     "data": {
      "image/png": "[encoded data removed]",
      "text/plain": [
       "<Figure size 640x480 with 1 Axes>"
      ]
     },
     "metadata": {},
     "output_type": "display_data"
    }
   ],
   "source": [
    "plt.imshow(thresholded, cmap='gray')"
   ]
  },
  {
   "cell_type": "code",
   "execution_count": null,
   "metadata": {},
   "outputs": [],
   "source": []
  }
 ],
 "metadata": {
  "kernelspec": {
   "display_name": "VisionPyKernel",
   "language": "python",
   "name": "python3"
  },
  "language_info": {
   "codemirror_mode": {
    "name": "ipython",
    "version": 3
   },
   "file_extension": ".py",
   "mimetype": "text/x-python",
   "name": "python",
   "nbconvert_exporter": "python",
   "pygments_lexer": "ipython3",
   "version": "3.11.5"
  }
 },
 "nbformat": 4,
 "nbformat_minor": 2
}
