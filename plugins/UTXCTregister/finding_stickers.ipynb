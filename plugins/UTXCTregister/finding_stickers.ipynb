{
 "cells": [
  {
   "cell_type": "code",
   "execution_count": 1,
   "metadata": {},
   "outputs": [],
   "source": [
    "import tifffile as tiff\n",
    "import numpy as np\n",
    "from pathlib import Path\n",
    "import matplotlib.pyplot as plt"
   ]
  },
  {
   "cell_type": "code",
   "execution_count": 2,
   "metadata": {},
   "outputs": [
    {
     "name": "stdout",
     "output_type": "stream",
     "text": [
      "(300, 1969, 1900)\n"
     ]
    }
   ],
   "source": [
    "folder = Path(r'E:\\temporal\\volumenes\\2+3+4+5\\pegatinas')\n",
    "\n",
    "filename = folder / 'frontal_90right.tif'\n",
    "\n",
    "output_folder = folder / 'output'\n",
    "\n",
    "output_folder.mkdir(exist_ok=True)\n",
    "\n",
    "data = tiff.imread(filename)\n",
    "\n",
    "print(data.shape)"
   ]
  },
  {
   "cell_type": "code",
   "execution_count": 12,
   "metadata": {},
   "outputs": [],
   "source": [
    "def get_brightest(d):\n",
    "    data = d.copy()\n",
    "    #turn to 0 the values below 255\n",
    "    data[data < 255] = 0\n",
    "    #calculate the max of each image\n",
    "    max_values = np.sum(data, axis=(1, 2))\n",
    "    \n",
    "    return np.argmax(max_values)\n"
   ]
  },
  {
   "cell_type": "code",
   "execution_count": 13,
   "metadata": {},
   "outputs": [
    {
     "data": {
      "text/plain": [
       "26"
      ]
     },
     "execution_count": 13,
     "metadata": {},
     "output_type": "execute_result"
    }
   ],
   "source": [
    "get_brightest(data)"
   ]
  }
 ],
 "metadata": {
  "kernelspec": {
   "display_name": "VisionPyKernel",
   "language": "python",
   "name": "python3"
  },
  "language_info": {
   "codemirror_mode": {
    "name": "ipython",
    "version": 3
   },
   "file_extension": ".py",
   "mimetype": "text/x-python",
   "name": "python",
   "nbconvert_exporter": "python",
   "pygments_lexer": "ipython3",
   "version": "3.11.5"
  }
 },
 "nbformat": 4,
 "nbformat_minor": 2
}
