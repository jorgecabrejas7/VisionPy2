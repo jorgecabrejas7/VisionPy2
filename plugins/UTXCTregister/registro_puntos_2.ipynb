{
 "cells": [
  {
   "cell_type": "code",
   "execution_count": 70,
   "metadata": {},
   "outputs": [],
   "source": [
    "import tifffile as tiff\n",
    "import numpy as np\n",
    "from pathlib import Path\n",
    "import matplotlib.pyplot as plt\n",
    "import UTXCTregister as reg\n",
    "import scipy.ndimage"
   ]
  },
  {
   "cell_type": "code",
   "execution_count": 71,
   "metadata": {},
   "outputs": [],
   "source": [
    "from tqdm import tqdm\n",
    "def write_sequence(folder_path, name, volume):\n",
    "    \"\"\"\n",
    "    Save a 3D volume as a sequence of TIFF files in a folder.\n",
    "    \n",
    "    Args:\n",
    "    folder_path (str): Path to the folder where TIFF files will be saved.\n",
    "    name (str): Name of the TIFF files.\n",
    "    volume (numpy.ndarray): A 3D array where each slice corresponds to an image.\n",
    "    \"\"\"\n",
    "\n",
    "    folder_path = folder_path / name\n",
    "\n",
    "    # Create the folder if it doesn't exist\n",
    "    Path(folder_path).mkdir(parents=True, exist_ok=True)\n",
    "\n",
    "    # Save each slice as a TIFF file with progress bar\n",
    "    with tqdm(total=volume.shape[0], desc=\"Saving\") as pbar:\n",
    "        for i in range(volume.shape[0]):\n",
    "            tiff.imwrite(f\"{folder_path}/{name}_{i:04d}.tif\", volume[i])\n",
    "            pbar.update(1)\n",
    "    \n",
    "    print(\"Saving complete.\")\n"
   ]
  },
  {
   "cell_type": "code",
   "execution_count": 89,
   "metadata": {},
   "outputs": [],
   "source": [
    "folder = Path(r'\\\\192.168.10.106\\imdea\\DataDriven_UT_AlbertoVicente\\02_XCT_data\\Airbus\\Panel Pegaso\\Probetas\\1\\26\\registration_auxiliary_files')\n",
    "\n",
    "ut = tiff.imread(Path(r'\\\\192.168.10.106\\imdea\\DataDriven_UT_AlbertoVicente\\03_UT_data\\Panel PEGASO\\probetas\\1\\26\\26_lente_amplitude.tif'))\n",
    "\n",
    "xct = tiff.imread(Path(r'\\\\192.168.10.106\\imdea\\DataDriven_UT_AlbertoVicente\\02_XCT_data\\Airbus\\Panel Pegaso\\Probetas\\1\\26\\frontal_90right.tif'))\n",
    "\n",
    "xct = np.swapaxes(xct, 0, 1)\n",
    "xct = np.swapaxes(xct, 1, 2)\n",
    "\n",
    "ut = np.swapaxes(ut, 0, 1)\n",
    "ut = np.swapaxes(ut, 1, 2)"
   ]
  },
  {
   "cell_type": "code",
   "execution_count": 90,
   "metadata": {},
   "outputs": [
    {
     "name": "stdout",
     "output_type": "stream",
     "text": [
      "(3048, 1700, 350)\n",
      "(2072, 380)\n",
      "(5120, 2080, 350)\n"
     ]
    }
   ],
   "source": [
    "print(xct.shape)\n",
    "\n",
    "pad_shape = (int(ut.shape[0]/0.025), int(ut.shape[1]/0.025))\n",
    "\n",
    "pad_diff = (pad_shape[0] - xct.shape[0], pad_shape[1] - xct.shape[1])\n",
    "\n",
    "print(pad_diff)\n",
    "\n",
    "xct_pad = np.pad(xct, ((pad_diff[0]//2, pad_diff[0]-pad_diff[0]//2), (pad_diff[1]//2, pad_diff[1]-pad_diff[1]//2), (0, 0)), mode='constant', constant_values=0)\n",
    "\n",
    "print(xct_pad.shape)"
   ]
  },
  {
   "cell_type": "code",
   "execution_count": 91,
   "metadata": {},
   "outputs": [],
   "source": [
    "ut_centers = reg.label_objects(reg.ut_preprocessing(ut))\n",
    "\n",
    "xct_centers = reg.label_objects(reg.xct_preprocessing(xct_pad))"
   ]
  },
  {
   "cell_type": "code",
   "execution_count": 92,
   "metadata": {},
   "outputs": [],
   "source": [
    "\n",
    "def paste_on_canvas(image, shape):\n",
    "    \"\"\"\n",
    "    Paste an image on a canvas of a given shape, centered.\n",
    "    \n",
    "    Args:\n",
    "    image (numpy.ndarray): A 2D array representing an image.\n",
    "    shape (tuple): Shape of the canvas.\n",
    "    \n",
    "    Returns:\n",
    "    numpy.ndarray: A 2D array representing the canvas with the image pasted on it.\n",
    "    \"\"\"\n",
    "    \n",
    "    canvas = np.zeros(shape, dtype=image.dtype)\n",
    "    \n",
    "    # Calculate the starting indices to center the image\n",
    "    start_row = (shape[0] - image.shape[0]) // 2\n",
    "    start_col = (shape[1] - image.shape[1]) // 2\n",
    "    \n",
    "    # Paste the image onto the canvas\n",
    "    canvas[start_row:start_row + image.shape[0], start_col:start_col + image.shape[1]] = image\n",
    "    \n",
    "    return canvas\n",
    "\n",
    "def extract_points(image): #given a points image, returns the list of points in it x,y,value\n",
    "    points = []\n",
    "    for i in range(image.shape[0]):\n",
    "        for j in range(image.shape[1]):\n",
    "            if image[i,j] > 0:\n",
    "                points.append([i,j,image[i,j]])\n",
    "    return np.array(points)"
   ]
  },
  {
   "cell_type": "code",
   "execution_count": 93,
   "metadata": {},
   "outputs": [
    {
     "data": {
      "image/png": "[encoded data removed]",
      "text/plain": [
       "<Figure size 1000x1000 with 2 Axes>"
      ]
     },
     "metadata": {},
     "output_type": "display_data"
    },
    {
     "name": "stdout",
     "output_type": "stream",
     "text": [
      "Ut_points: [[ 45  25 100]\n",
      " [ 77  16 175]\n",
      " [ 78  34 255]]\n",
      "Xct_points: [[ 46  25 100]\n",
      " [ 77  16 175]\n",
      " [ 78  35 255]]\n"
     ]
    }
   ],
   "source": [
    "#extract the points from the images\n",
    "ut_points = extract_points(ut_centers)\n",
    "xct_points = extract_points(xct_centers)\n",
    "\n",
    "sorted_indices_ut = np.argsort(ut_points[:, -1])\n",
    "sorted_indices_xct = np.argsort(xct_points[:, -1])\n",
    "\n",
    "# Use these indices to sort the original array\n",
    "sorted_ut_points = ut_points[sorted_indices_ut]\n",
    "sorted_xct_points = xct_points[sorted_indices_xct]\n",
    "\n",
    "plt.figure(figsize=(10, 10))\n",
    "\n",
    "plt.subplot(1, 2, 1)\n",
    "plt.imshow(ut_centers, cmap='gray')\n",
    "plt.scatter(sorted_ut_points[:, 1], sorted_ut_points[:, 0], c='r', s=5)\n",
    "plt.title('UT')\n",
    "\n",
    "plt.subplot(1, 2, 2)\n",
    "plt.imshow(xct_centers, cmap='gray')\n",
    "plt.scatter(sorted_xct_points[:, 1], sorted_xct_points[:, 0], c='r', s=5)\n",
    "plt.title('XCT')\n",
    "\n",
    "plt.show()\n",
    "\n",
    "print('Ut_points:', sorted_ut_points)\n",
    "print('Xct_points:', sorted_xct_points)"
   ]
  },
  {
   "cell_type": "code",
   "execution_count": 94,
   "metadata": {},
   "outputs": [],
   "source": [
    "#check if there are at least 2 points\n",
    "if len(sorted_ut_points) < 2 or len(sorted_xct_points) < 2:\n",
    "    print('Not enough points')\n",
    "    #aqui ira un raise error en la funcion\n",
    "\n",
    "#check if there are the same number of points\n",
    "if len(sorted_ut_points) != len(sorted_xct_points):\n",
    "    print('Different number of points')\n",
    "    #aqui ira un raise error en la funcion"
   ]
  },
  {
   "cell_type": "code",
   "execution_count": 95,
   "metadata": {},
   "outputs": [
    {
     "name": "stdout",
     "output_type": "stream",
     "text": [
      "Transformation matrix: [[ 0.99991195  0.01326971 -0.6636003 ]\n",
      " [-0.01326971  0.99991195  0.55796799]\n",
      " [ 0.          0.          1.        ]]\n",
      "Scaled transformation matrix: [[ 0.99991195  0.01326971 -0.01659001]\n",
      " [-0.01326971  0.99991195  0.0139492 ]\n",
      " [ 0.          0.          1.        ]]\n",
      "Transformation matrix 3D: [[ 0.99991195  0.01326971  0.         -0.01659001]\n",
      " [-0.01326971  0.99991195  0.          0.0139492 ]\n",
      " [ 0.          0.          1.          0.        ]\n",
      " [ 0.          0.          0.          1.        ]]\n"
     ]
    }
   ],
   "source": [
    "import numpy as np\n",
    "\n",
    "def get_rotation_angle(transformation_matrix):\n",
    "    \"\"\"\n",
    "    Extract the rotation angle from the transformation matrix.\n",
    "    \n",
    "    Args:\n",
    "    transformation_matrix (numpy.ndarray): A 3x3 transformation matrix.\n",
    "    \n",
    "    Returns:\n",
    "    float: The rotation angle in radians.\n",
    "    \"\"\"\n",
    "    R = transformation_matrix[:2, :2]\n",
    "    angle = np.arctan2(R[1, 0], R[0, 0])\n",
    "    return angle\n",
    "\n",
    "def rigid_body_transformation_matrix(points_A, points_B):\n",
    "    \"\"\"\n",
    "    Calculate the rigid body transformation matrix to convert points_B to points_A.\n",
    "    \n",
    "    Args:\n",
    "    points_A (numpy.ndarray): A Nx2 array of points.\n",
    "    points_B (numpy.ndarray): A Nx2 array of points.\n",
    "    \n",
    "    Returns:\n",
    "    numpy.ndarray: A 3x3 transformation matrix.\n",
    "    \"\"\"\n",
    "    \n",
    "    # Compute the centroids of both sets of points\n",
    "    centroid_A = np.mean(points_A, axis=0)\n",
    "    centroid_B = np.mean(points_B, axis=0)\n",
    "    \n",
    "    # Center the points by subtracting the centroids\n",
    "    centered_A = points_A - centroid_A\n",
    "    centered_B = points_B - centroid_B\n",
    "    \n",
    "    # Compute the covariance matrix\n",
    "    H = np.dot(centered_B.T, centered_A)\n",
    "    \n",
    "    # Perform Singular Value Decomposition (SVD)\n",
    "    U, S, Vt = np.linalg.svd(H)\n",
    "    \n",
    "    # Compute the rotation matrix\n",
    "    R = np.dot(Vt.T, U.T)\n",
    "    \n",
    "    # Ensure a right-handed coordinate system\n",
    "    if np.linalg.det(R) < 0:\n",
    "        Vt[-1, :] *= -1\n",
    "        R = np.dot(Vt.T, U.T)\n",
    "    \n",
    "    # Compute the translation vector\n",
    "    t = centroid_A - np.dot(R, centroid_B)\n",
    "    \n",
    "    # Construct the transformation matrix\n",
    "    transformation_matrix = np.eye(3)\n",
    "    transformation_matrix[:2, :2] = R\n",
    "    transformation_matrix[:2, 2] = t\n",
    "    \n",
    "    return transformation_matrix\n",
    "\n",
    "def scale_transformation_matrix(transformation_matrix, scale_factor):\n",
    "    \"\"\"\n",
    "    Scale a 2D rigid body transformation matrix.\n",
    "    \n",
    "    Args:\n",
    "    transformation_matrix (numpy.ndarray): A 3x3 transformation matrix.\n",
    "    scale_factor (float): Scaling factor.\n",
    "    \n",
    "    Returns:\n",
    "    numpy.ndarray: A 3x3 scaled transformation matrix.\n",
    "    \"\"\"\n",
    "    \n",
    "    # Construct the scaling matrix\n",
    "    scaled_transformation_matrix = transformation_matrix.copy()\n",
    "\n",
    "    scaled_transformation_matrix[:2,2] *= scale_factor\n",
    "\n",
    "\n",
    "    return scaled_transformation_matrix\n",
    "\n",
    "def convert_2d_to_3d(transformation_matrix_2d):\n",
    "    \"\"\"\n",
    "    Convert a 2D transformation matrix to a 3D transformation matrix.\n",
    "    \n",
    "    Args:\n",
    "    transformation_matrix_2d (numpy.ndarray): A 3x3 2D transformation matrix.\n",
    "    \n",
    "    Returns:\n",
    "    numpy.ndarray: A 4x4 3D transformation matrix.\n",
    "    \"\"\"\n",
    "    # Initialize a 4x4 identity matrix\n",
    "    transformation_matrix_3d = np.eye(4)\n",
    "    \n",
    "    # Copy the 2D transformation matrix into the 3D transformation matrix\n",
    "    transformation_matrix_3d[:2, :2] = transformation_matrix_2d[:2, :2]\n",
    "    transformation_matrix_3d[:2, 3] = transformation_matrix_2d[:2, 2]\n",
    "    \n",
    "    return transformation_matrix_3d\n",
    "\n",
    "    \n",
    "    # Apply the\n",
    "\n",
    "transformation_matrix = rigid_body_transformation_matrix(sorted_ut_points[:,:2],sorted_xct_points[:,:2])\n",
    "scaled_transformation_matrix = scale_transformation_matrix(transformation_matrix, 0.025/1)\n",
    "transformation_matrix_3d = convert_2d_to_3d(scaled_transformation_matrix)\n",
    "print('Transformation matrix:', transformation_matrix)\n",
    "print('Scaled transformation matrix:', scaled_transformation_matrix)\n",
    "print('Transformation matrix 3D:', transformation_matrix_3d)"
   ]
  },
  {
   "cell_type": "code",
   "execution_count": 96,
   "metadata": {},
   "outputs": [],
   "source": [
    "# Apply the affine transformation\n",
    "transformed_image = scipy.ndimage.affine_transform(ut_centers, transformation_matrix[:2,:], output_shape=xct_centers.shape)"
   ]
  },
  {
   "cell_type": "code",
   "execution_count": 103,
   "metadata": {},
   "outputs": [
    {
     "name": "stderr",
     "output_type": "stream",
     "text": [
      "100%|██████████| 505/505 [00:00<00:00, 1579.25it/s]\n"
     ]
    }
   ],
   "source": [
    "transformed_volume = []\n",
    "\n",
    "for i in tqdm(range(ut.shape[2])):\n",
    "    transformed_volume.append(scipy.ndimage.affine_transform(ut[:,:,i], transformation_matrix[:2,:], output_shape=xct_centers.shape))\n",
    "\n",
    "transformed_volume = np.array(transformed_volume)"
   ]
  },
  {
   "cell_type": "code",
   "execution_count": 98,
   "metadata": {},
   "outputs": [],
   "source": [
    "# big_shape = reg.calculate_new_dimensions(1,0.025,ut_centers.shape)\n",
    "\n",
    "# proj_a = np.max(xct, axis=2)\n",
    "\n",
    "# proj_b = scipy.ndimage.affine_transform(proj_a, scaled_transformation_matrix[:2,:], output_shape=big_shape)\n",
    "\n",
    "# plt.figure(figsize=(10, 10))\n",
    "\n",
    "# plt.subplot(1, 2, 1)\n",
    "# plt.imshow(proj_a, cmap='gray')\n",
    "# plt.title('UT')\n",
    "\n",
    "# plt.subplot(1, 2, 2)\n",
    "# plt.imshow(proj_b, cmap='gray')\n",
    "# plt.title('XCT')\n",
    "\n",
    "# plt.show()"
   ]
  },
  {
   "cell_type": "code",
   "execution_count": 99,
   "metadata": {},
   "outputs": [
    {
     "data": {
      "image/png": "[encoded data removed]",
      "text/plain": [
       "<Figure size 1000x1000 with 2 Axes>"
      ]
     },
     "metadata": {},
     "output_type": "display_data"
    }
   ],
   "source": [
    "plt.figure(figsize=(10, 10))\n",
    "\n",
    "plt.subplot(1, 2, 1)\n",
    "plt.imshow(xct_centers, cmap='gray')\n",
    "plt.scatter(xct_points[:, 1], xct_points[:, 0], c='r', s=5)\n",
    "plt.title('UT')\n",
    "\n",
    "plt.subplot(1, 2, 2)\n",
    "plt.imshow(transformed_image, cmap='gray')\n",
    "plt.scatter(xct_points[:, 1], xct_points[:, 0], c='r', s=5)\n",
    "plt.title('XCT')\n",
    "\n",
    "plt.show()"
   ]
  },
  {
   "cell_type": "code",
   "execution_count": 100,
   "metadata": {},
   "outputs": [],
   "source": [
    "xct_pad = np.swapaxes(xct_pad, 1, 2)\n",
    "xct_pad = np.swapaxes(xct_pad, 0, 1)"
   ]
  },
  {
   "cell_type": "code",
   "execution_count": 101,
   "metadata": {},
   "outputs": [
    {
     "data": {
      "text/plain": [
       "(350, 5120, 2080)"
      ]
     },
     "execution_count": 101,
     "metadata": {},
     "output_type": "execute_result"
    }
   ],
   "source": [
    "xct_pad.shape"
   ]
  },
  {
   "cell_type": "code",
   "execution_count": 104,
   "metadata": {},
   "outputs": [],
   "source": [
    "#save the transformed volume\n",
    "# write_sequence(folder, 'xct_padded', xct_pad)\n",
    "\n",
    "#save the padded xct\n",
    "tiff.imwrite(folder / 'ut_transformed.tif', transformed_volume)"
   ]
  }
 ],
 "metadata": {
  "kernelspec": {
   "display_name": "VisionPyKernel",
   "language": "python",
   "name": "python3"
  },
  "language_info": {
   "codemirror_mode": {
    "name": "ipython",
    "version": 3
   },
   "file_extension": ".py",
   "mimetype": "text/x-python",
   "name": "python",
   "nbconvert_exporter": "python",
   "pygments_lexer": "ipython3",
   "version": "3.11.5"
  }
 },
 "nbformat": 4,
 "nbformat_minor": 2
}
