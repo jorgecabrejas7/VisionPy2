{
 "cells": [
  {
   "cell_type": "code",
   "execution_count": 80,
   "metadata": {},
   "outputs": [],
   "source": [
    "import numpy as np\n",
    "import tifffile as tiff\n",
    "from matplotlib import pyplot as plt\n",
    "from pathlib import Path"
   ]
  },
  {
   "cell_type": "code",
   "execution_count": 81,
   "metadata": {},
   "outputs": [],
   "source": [
    "ut_path = Path(\n",
    "    r\"Q:\\11_AIRBUS\\03_LabXCT\\Panel Pegaso\\Probetas\\1\\27\\registration_auxiliary_files\\ut_centers_original.tif\"\n",
    ")\n",
    "xct_path = Path(\n",
    "    r\"Q:\\11_AIRBUS\\03_LabXCT\\Panel Pegaso\\Probetas\\1\\27\\registration_auxiliary_files\\xct_centers_original.tif\"\n",
    ")\n",
    "\n",
    "ut = tiff.imread(ut_path)\n",
    "xct = tiff.imread(xct_path)"
   ]
  },
  {
   "cell_type": "code",
   "execution_count": 82,
   "metadata": {},
   "outputs": [
    {
     "data": {
      "image/png": "[encoded data removed]",
      "text/plain": [
       "<Figure size 640x480 with 2 Axes>"
      ]
     },
     "metadata": {},
     "output_type": "display_data"
    }
   ],
   "source": [
    "# Assuming ut and xct are already loaded as numpy arrays\n",
    "# Step 1: Determine the size difference\n",
    "height_diff = ut.shape[0] - xct.shape[0]\n",
    "width_diff = ut.shape[1] - xct.shape[1]\n",
    "\n",
    "# Step 2: Calculate padding sizes\n",
    "top_pad = bottom_pad = height_diff // 2\n",
    "left_pad = right_pad = width_diff // 2\n",
    "\n",
    "# If the difference is odd, add the extra padding to the bottom/right\n",
    "if height_diff % 2 != 0:\n",
    "    bottom_pad += 1\n",
    "if width_diff % 2 != 0:\n",
    "    right_pad += 1\n",
    "\n",
    "# Step 3: Pad the xct image\n",
    "padded_xct = np.pad(\n",
    "    xct,\n",
    "    ((top_pad, bottom_pad), (left_pad, right_pad)),\n",
    "    mode=\"constant\",\n",
    "    constant_values=0,\n",
    ")\n",
    "\n",
    "# Step 4: Display the images\n",
    "fig, ax = plt.subplots(1, 2)\n",
    "ax[0].imshow(ut, cmap=\"gray\")\n",
    "ax[0].set_title(\"UT\")\n",
    "ax[1].imshow(padded_xct, cmap=\"gray\")\n",
    "ax[1].set_title(\"XCT\")\n",
    "plt.show()"
   ]
  },
  {
   "cell_type": "code",
   "execution_count": 86,
   "metadata": {},
   "outputs": [
    {
     "name": "stdout",
     "output_type": "stream",
     "text": [
      "[[54 29]\n",
      " [88 20]\n",
      " [87 39]]\n",
      "[[53 28]\n",
      " [86 18]\n",
      " [86 37]]\n"
     ]
    }
   ],
   "source": [
    "points1 = np.array(\n",
    "    [np.where(ut == 100), np.where(ut == 175), np.where(ut == 255)]\n",
    ").reshape((3, 2))\n",
    "\n",
    "points2 = np.array(\n",
    "    [\n",
    "        np.where(padded_xct == 100),\n",
    "        np.where(padded_xct == 175),\n",
    "        np.where(padded_xct == 255),\n",
    "    ]\n",
    ").reshape((3, 2))\n",
    "\n",
    "print(points1)\n",
    "print(points2)"
   ]
  },
  {
   "cell_type": "code",
   "execution_count": 87,
   "metadata": {},
   "outputs": [
    {
     "name": "stdout",
     "output_type": "stream",
     "text": [
      "Translation: (1, 1)\n",
      "Rotation Angle: 2.031918797382692\n",
      "Transformed Points: [(54.0, 29.0), (87.33381298496187, 20.176343621627794), (86.66014442490855, 39.16439698871089)]\n"
     ]
    }
   ],
   "source": [
    "import numpy as np\n",
    "\n",
    "\n",
    "def calculate_centroid(points):\n",
    "    x_coords = [p[0] for p in points]\n",
    "    y_coords = [p[1] for p in points]\n",
    "    centroid = (sum(x_coords) / len(points), sum(y_coords) / len(points))\n",
    "    return centroid\n",
    "\n",
    "\n",
    "def translate_points(points, translation):\n",
    "    return [(p[0] + translation[0], p[1] + translation[1]) for p in points]\n",
    "\n",
    "\n",
    "def calculate_rotation_angle(p1, p2):\n",
    "    vector1 = (p1[0][0] - p1[1][0], p1[0][1] - p1[1][1])\n",
    "    vector2 = (p2[0][0] - p2[1][0], p2[0][1] - p2[1][1])\n",
    "\n",
    "    unit_vector1 = vector1 / np.linalg.norm(vector1)\n",
    "    unit_vector2 = vector2 / np.linalg.norm(vector2)\n",
    "    dot_product = np.dot(unit_vector1, unit_vector2)\n",
    "    angle = np.arccos(dot_product)\n",
    "    return np.degrees(angle)\n",
    "\n",
    "\n",
    "def rotate_points(points, angle, pivot):\n",
    "    angle_rad = np.radians(angle)\n",
    "    cos_angle = np.cos(angle_rad)\n",
    "    sin_angle = np.sin(angle_rad)\n",
    "    return [\n",
    "        (\n",
    "            (cos_angle * (p[0] - pivot[0]) - sin_angle * (p[1] - pivot[1]) + pivot[0]),\n",
    "            (sin_angle * (p[0] - pivot[0]) + cos_angle * (p[1] - pivot[1]) + pivot[1]),\n",
    "        )\n",
    "        for p in points\n",
    "    ]\n",
    "\n",
    "\n",
    "# # Example usage\n",
    "# points1 = [(1, 2), (3, 4), (5, 6)]\n",
    "# points2 = [(2, 3), (4, 5), (6, 7)]\n",
    "\n",
    "centroid1 = calculate_centroid(points1)\n",
    "centroid2 = calculate_centroid(points2)\n",
    "\n",
    "translation = (points1[0, 0] - points2[0, 0], points1[0, 1] - points2[0, 1])\n",
    "translated_points2 = translate_points(points2, translation)\n",
    "\n",
    "rotation_angle = calculate_rotation_angle(\n",
    "    [points1[0], points1[1]], [translated_points2[0], translated_points2[1]]\n",
    ")\n",
    "rotated_translated_points2 = rotate_points(\n",
    "    translated_points2, rotation_angle, translated_points2[0]\n",
    ")\n",
    "\n",
    "print(\"Translation:\", translation)\n",
    "print(\"Rotation Angle:\", rotation_angle)\n",
    "print(\"Transformed Points:\", rotated_translated_points2)"
   ]
  },
  {
   "cell_type": "code",
   "execution_count": 98,
   "metadata": {},
   "outputs": [
    {
     "data": {
      "image/png": "[encoded data removed]",
      "text/plain": [
       "<Figure size 640x480 with 3 Axes>"
      ]
     },
     "metadata": {},
     "output_type": "display_data"
    }
   ],
   "source": [
    "import cv2\n",
    "\n",
    "# Load your image\n",
    "image = padded_xct\n",
    "\n",
    "# Assuming translation and rotation_angle are calculated as shown previously\n",
    "translation = translation  # Replace tx, ty with your calculated values\n",
    "rotation_angle = rotation_angle  # Replace calculated_angle with your calculated value\n",
    "centroid = (\n",
    "    float(translated_points2[0][0]),\n",
    "    float(translated_points2[0][1]),\n",
    ")  # Replace calculated_centroid with your calculated centroid after translation\n",
    "\n",
    "# Create the translation matrix\n",
    "translation_matrix = np.float32([[1, 0, translation[0]], [0, 1, translation[1]]])\n",
    "# Apply the translation\n",
    "translated_image = cv2.warpAffine(\n",
    "    image, translation_matrix, (image.shape[1], image.shape[0])\n",
    ")\n",
    "\n",
    "# Create the rotation matrix\n",
    "rotation_matrix = cv2.getRotationMatrix2D(centroid, rotation_angle, 1.0)\n",
    "# Apply the rotation\n",
    "transformed_image = cv2.warpAffine(\n",
    "    translated_image, rotation_matrix, (image.shape[1], image.shape[0])\n",
    ")\n",
    "\n",
    "# Step 4: Display the images\n",
    "fig, ax = plt.subplots(1, 3)\n",
    "ax[0].imshow(ut, cmap=\"gray\")\n",
    "ax[0].set_title(\"UT\")\n",
    "ax[1].imshow(padded_xct, cmap=\"gray\")\n",
    "ax[1].set_title(\"XCT\")\n",
    "ax[2].imshow(transformed_image, cmap=\"gray\")\n",
    "ax[2].set_title(\"Transformed XCT\")\n",
    "plt.show()"
   ]
  },
  {
   "cell_type": "code",
   "execution_count": 99,
   "metadata": {},
   "outputs": [
    {
     "name": "stderr",
     "output_type": "stream",
     "text": [
      "C:\\Users\\alberto.vicente\\AppData\\Local\\Temp\\ipykernel_29576\\1749279842.py:3: DeprecationWarning: <tifffile.imsave> is deprecated. Use tifffile.imwrite\n",
      "  tiff.imsave(r'Q:\\11_AIRBUS\\03_LabXCT\\Panel Pegaso\\Probetas\\1\\27\\registration_auxiliary_files\\transformed_image.tif', transformed_image)\n"
     ]
    }
   ],
   "source": [
    "# save the transformed image\n",
    "\n",
    "tiff.imsave(\n",
    "    r\"Q:\\11_AIRBUS\\03_LabXCT\\Panel Pegaso\\Probetas\\1\\27\\registration_auxiliary_files\\transformed_image.tif\",\n",
    "    transformed_image,\n",
    ")"
   ]
  }
 ],
 "metadata": {
  "kernelspec": {
   "display_name": "VisionPyKernel",
   "language": "python",
   "name": "python3"
  },
  "language_info": {
   "codemirror_mode": {
    "name": "ipython",
    "version": 3
   },
   "file_extension": ".py",
   "mimetype": "text/x-python",
   "name": "python",
   "nbconvert_exporter": "python",
   "pygments_lexer": "ipython3",
   "version": "3.11.5"
  }
 },
 "nbformat": 4,
 "nbformat_minor": 2
}
