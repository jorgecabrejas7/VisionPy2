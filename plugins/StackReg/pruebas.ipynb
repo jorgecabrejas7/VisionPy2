{
 "cells": [
  {
   "cell_type": "code",
   "execution_count": 3,
   "metadata": {},
   "outputs": [
    {
     "name": "stderr",
     "output_type": "stream",
     "text": [
      "c:\\Users\\alberto.vicente\\Documents\\lunas\\.conda\\lib\\site-packages\\numpy\\_distributor_init.py:30: UserWarning: loaded more than 1 DLL from .libs:\n",
      "c:\\Users\\alberto.vicente\\Documents\\lunas\\.conda\\lib\\site-packages\\numpy\\.libs\\libopenblas64__v0.3.21-gcc_10_3_0.dll\n",
      "c:\\Users\\alberto.vicente\\Documents\\lunas\\.conda\\lib\\site-packages\\numpy\\.libs\\libopenblas64__v0.3.23-gcc_10_3_0.dll\n",
      "  warnings.warn(\"loaded more than 1 DLL from .libs:\"\n"
     ]
    }
   ],
   "source": [
    "import os\n",
    "import numpy as np\n",
    "import tifffile\n",
    "from tqdm import tqdm\n",
    "\n",
    "\n",
    "def read_sequence(folder_path):\n",
    "    \"\"\"\n",
    "    Read a sequence of TIFF files in a folder as a 3D volume.\n",
    "\n",
    "    Args:\n",
    "    folder_path (str): Path to the folder containing TIFF files.\n",
    "\n",
    "    Returns:\n",
    "    numpy.ndarray: A 3D array where each slice corresponds to a TIFF file.\n",
    "    \"\"\"\n",
    "\n",
    "    # List and sort the TIFF files\n",
    "    tiff_files = sorted(\n",
    "        [\n",
    "            os.path.join(folder_path, f)\n",
    "            for f in os.listdir(folder_path)\n",
    "            if (f.endswith(\".tiff\") or f.endswith(\".tif\"))\n",
    "        ]\n",
    "    )\n",
    "\n",
    "    tiff_sequence = tifffile.TiffSequence(tiff_files)\n",
    "\n",
    "    # Get the total number of TIFF files\n",
    "    total_files = len(tiff_files)\n",
    "\n",
    "    # Read each TIFF file and update progress\n",
    "    volume = []\n",
    "    with tqdm(total=total_files, desc=\"Progress\") as pbar:\n",
    "        for i, file_path in enumerate(tiff_files):\n",
    "            slice_data = tifffile.imread(file_path)\n",
    "            volume.append(slice_data)\n",
    "\n",
    "            # Update progress\n",
    "            pbar.update(1)\n",
    "\n",
    "    return np.array(volume)"
   ]
  },
  {
   "cell_type": "code",
   "execution_count": 4,
   "metadata": {},
   "outputs": [],
   "source": [
    "def write_sequence(folder_path, name, volume):\n",
    "    \"\"\"\n",
    "    Save a 3D volume as a sequence of TIFF files in a folder.\n",
    "\n",
    "    Args:\n",
    "    folder_path (str): Path to the folder where TIFF files will be saved.\n",
    "    name (str): Name of the TIFF files.\n",
    "    volume (numpy.ndarray): A 3D array where each slice corresponds to an image.\n",
    "    \"\"\"\n",
    "\n",
    "    folder_path = folder_path / name\n",
    "\n",
    "    # Create the folder if it doesn't exist\n",
    "    Path(folder_path).mkdir(parents=True, exist_ok=True)\n",
    "\n",
    "    # Save each slice as a TIFF file with progress bar\n",
    "    with tqdm(total=volume.shape[0], desc=\"Saving\") as pbar:\n",
    "        for i in range(volume.shape[0]):\n",
    "            tifffile.imwrite(f\"{folder_path}/{name}_{i:04d}.tif\", volume[i])\n",
    "            pbar.update(1)\n",
    "\n",
    "    print(\"Saving complete.\")"
   ]
  },
  {
   "cell_type": "code",
   "execution_count": 5,
   "metadata": {},
   "outputs": [
    {
     "name": "stderr",
     "output_type": "stream",
     "text": [
      "Progress: 100%|██████████| 4425/4425 [00:07<00:00, 576.94it/s]\n"
     ]
    }
   ],
   "source": [
    "from pathlib import Path\n",
    "\n",
    "folder1 = Path(\"C:/Users/alberto.vicente/Documents/temporal/volumenes/2/bot_eq\")\n",
    "\n",
    "bot = read_sequence(folder1)"
   ]
  },
  {
   "cell_type": "code",
   "execution_count": 10,
   "metadata": {},
   "outputs": [],
   "source": [
    "from pystackreg import StackReg\n",
    "\n",
    "\n",
    "# Create a functiont that given two slices, registers them and returns the registered slice\n",
    "def register_slices(args):\n",
    "    \"\"\"\n",
    "    Register two slices using the OpenCV phase correlation method.\n",
    "\n",
    "    Args:\n",
    "    slice1 (numpy.ndarray): A 2D array corresponding to a slice.\n",
    "    slice2 (numpy.ndarray): A 2D array corresponding to a slice.\n",
    "\n",
    "    Returns:\n",
    "    numpy.ndarray: A 2D array corresponding to the registered slice.\n",
    "    \"\"\"\n",
    "    print(\"0\")\n",
    "    slice1, slice2 = args\n",
    "\n",
    "    return slice2\n",
    "    t = slice1.dtype\n",
    "    sr = StackReg(StackReg.TRANSLATION)\n",
    "    out = sr.register_transform(slice1, slice2).astype(t)\n",
    "\n",
    "    return out\n",
    "\n",
    "\n",
    "def stackreg(volume):\n",
    "    # get middle slice index\n",
    "    middle = volume.shape[0] // 2\n",
    "\n",
    "    # Create a list of indexes in pairs\n",
    "    indexes = [(middle, i + 1) for i in range(volume.shape[0] - 1)]\n",
    "\n",
    "    volume_reg = np.zeros_like(volume)\n",
    "\n",
    "    # firslice is the same in both volumes\n",
    "    volume_reg[0] = volume[0]\n",
    "\n",
    "    for idx in tqdm(indexes):\n",
    "        # Register the slices\n",
    "        slice2_reg = register_slices((volume[idx[0]], volume[idx[1]]))\n",
    "        # Add the registered slice to the registered volume\n",
    "        volume_reg[idx[1]] = slice2_reg\n",
    "\n",
    "    return volume_reg"
   ]
  },
  {
   "cell_type": "code",
   "execution_count": 21,
   "metadata": {},
   "outputs": [],
   "source": [
    "from concurrent.futures import ProcessPoolExecutor, as_completed\n",
    "\n",
    "\n",
    "def stackreg_concurrent(volume, n_chunks=5):\n",
    "    # get middle slice index\n",
    "    middle = volume.shape[0] // 2\n",
    "\n",
    "    # Create a list of indexes in pairs\n",
    "    indexes = [(middle, i + 1) for i in range(volume.shape[0] - 1)]\n",
    "\n",
    "    volume_reg = np.zeros_like(volume)\n",
    "\n",
    "    # firslice is the same in both volumes\n",
    "    volume_reg[0] = volume[0]\n",
    "\n",
    "    # Split the indexes in chunks\n",
    "    chunks = np.array_split(indexes, n_chunks)\n",
    "\n",
    "    # Create a thread pool\n",
    "    with ProcessPoolExecutor(max_workers=1) as executor:\n",
    "        counter = 1\n",
    "        for chunk in chunks:\n",
    "            print(\"Registering chunk: \", counter, \" of \", n_chunks)\n",
    "            args = [\n",
    "                (volume[idx[0]], volume[idx[1]])\n",
    "                for idx in tqdm(chunk, desc=\"Creating arguments\")\n",
    "            ]\n",
    "            # Add the registered slice to the registered volume\n",
    "            futures = [executor.submit(register_slices, arg) for arg in args]\n",
    "            result_slices = []\n",
    "            # Use tqdm for progress bar\n",
    "            for future in tqdm(as_completed(futures), total=len(futures)):\n",
    "                result_slices.append(future.result())\n",
    "\n",
    "    return volume_reg"
   ]
  },
  {
   "cell_type": "code",
   "execution_count": 22,
   "metadata": {},
   "outputs": [
    {
     "name": "stderr",
     "output_type": "stream",
     "text": [
      "100%|██████████| 9/9 [00:00<00:00, 4500.33it/s]\n"
     ]
    },
    {
     "name": "stdout",
     "output_type": "stream",
     "text": [
      "0\n",
      "0\n",
      "0\n",
      "0\n",
      "0\n",
      "0\n",
      "0\n",
      "0\n",
      "0\n",
      "Registering chunk:  1  of  1\n"
     ]
    },
    {
     "name": "stderr",
     "output_type": "stream",
     "text": [
      "Creating arguments: 100%|██████████| 9/9 [00:00<?, ?it/s]\n",
      "  0%|          | 0/9 [00:00<?, ?it/s]\n"
     ]
    }
   ],
   "source": [
    "# compare both methods to check which one is faster\n",
    "import time\n",
    "\n",
    "start = time.time()\n",
    "bot_reg = stackreg(bot[:10])\n",
    "end = time.time()\n",
    "first = end - start\n",
    "\n",
    "start = time.time()\n",
    "bot_reg = stackreg_concurrent(bot[:10], 1)\n",
    "end = time.time()\n",
    "second = end - start"
   ]
  },
  {
   "cell_type": "code",
   "execution_count": null,
   "metadata": {},
   "outputs": [
    {
     "name": "stdout",
     "output_type": "stream",
     "text": [
      "First method: 84.90281629562378 seconds\n",
      "Second method: 95.37798285484314 seconds\n"
     ]
    }
   ],
   "source": [
    "# print both times\n",
    "print(f\"First method: {first} seconds\")\n",
    "print(f\"Second method: {second} seconds\")"
   ]
  },
  {
   "cell_type": "code",
   "execution_count": 10,
   "metadata": {},
   "outputs": [
    {
     "name": "stderr",
     "output_type": "stream",
     "text": [
      "Saving: 100%|██████████| 4425/4425 [00:13<00:00, 335.89it/s]"
     ]
    },
    {
     "name": "stdout",
     "output_type": "stream",
     "text": [
      "Saving complete.\n"
     ]
    },
    {
     "name": "stderr",
     "output_type": "stream",
     "text": [
      "\n"
     ]
    }
   ],
   "source": [
    "# save the registered stack in a folder\n",
    "folder3 = Path(\"C:/Users/alberto.vicente/Documents/temporal/volumenes/2\")\n",
    "write_sequence(folder3, \"bot_eq_reg\", bot_reg)"
   ]
  },
  {
   "cell_type": "code",
   "execution_count": 20,
   "metadata": {},
   "outputs": [],
   "source": [
    "# Save the three images in a folder using tifffile\n",
    "folder2 = Path(\"C:/Users/alberto.vicente/Documents/temporal/volumenes/2\")\n",
    "import tifffile as tiff\n",
    "\n",
    "tiff.imwrite(folder2 / \"img1.tif\", img1)\n",
    "tiff.imwrite(folder2 / \"img2.tif\", img2)\n",
    "tiff.imwrite(folder2 / \"out.tif\", out)"
   ]
  }
 ],
 "metadata": {
  "kernelspec": {
   "display_name": "Python 3",
   "language": "python",
   "name": "python3"
  },
  "language_info": {
   "codemirror_mode": {
    "name": "ipython",
    "version": 3
   },
   "file_extension": ".py",
   "mimetype": "text/x-python",
   "name": "python",
   "nbconvert_exporter": "python",
   "pygments_lexer": "ipython3",
   "version": "3.10.11"
  }
 },
 "nbformat": 4,
 "nbformat_minor": 2
}
