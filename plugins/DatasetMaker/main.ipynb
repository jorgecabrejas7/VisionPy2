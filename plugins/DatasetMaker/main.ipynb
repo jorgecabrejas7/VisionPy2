{
 "cells": [
  {
   "cell_type": "code",
   "execution_count": 1,
   "metadata": {},
   "outputs": [],
   "source": [
    "import datasetmaker\n",
    "import tifffile\n",
    "import numpy as np\n",
    "from tqdm import tqdm\n",
    "from pathlib import Path\n",
    "import os\n",
    "import pandas as pd"
   ]
  },
  {
   "cell_type": "code",
   "execution_count": 2,
   "metadata": {},
   "outputs": [],
   "source": [
    "def read_sequence(folder_path):\n",
    "    \"\"\"\n",
    "    Read a sequence of TIFF files in a folder as a 3D volume.\n",
    "    \n",
    "    Args:\n",
    "    folder_path (str): Path to the folder containing TIFF files.\n",
    "\n",
    "    Returns:\n",
    "    numpy.ndarray: A 3D array where each slice corresponds to a TIFF file.\n",
    "    \"\"\"\n",
    "\n",
    "    # List and sort the TIFF files\n",
    "    tiff_files = sorted([os.path.join(folder_path, f) for f in os.listdir(folder_path) if (f.endswith('.tiff') or f.endswith('.tif'))])\n",
    "\n",
    "    tiff_sequence = tifffile.TiffSequence(tiff_files)\n",
    "    \n",
    "    # Get the total number of TIFF files\n",
    "    total_files = len(tiff_files)\n",
    "    \n",
    "    # Read each TIFF file and update progress\n",
    "    volume = []\n",
    "    with tqdm(total=total_files, desc=\"Progress\") as pbar:\n",
    "        for i, file_path in enumerate(tiff_files):\n",
    "            slice_data = tifffile.imread(file_path)\n",
    "            volume.append(slice_data)\n",
    "            \n",
    "            # Update progress\n",
    "            pbar.update(1)\n",
    "    \n",
    "    return np.array(volume)\n",
    "\n",
    "def write_sequence(folder_path, name, volume):\n",
    "    \"\"\"\n",
    "    Save a 3D volume as a sequence of TIFF files in a folder.\n",
    "    \n",
    "    Args:\n",
    "    folder_path (str): Path to the folder where TIFF files will be saved.\n",
    "    name (str): Name of the TIFF files.\n",
    "    volume (numpy.ndarray): A 3D array where each slice corresponds to an image.\n",
    "    \"\"\"\n",
    "\n",
    "    folder_path = folder_path / name\n",
    "\n",
    "    # Create the folder if it doesn't exist\n",
    "    Path(folder_path).mkdir(parents=True, exist_ok=True)\n",
    "\n",
    "    # Save each slice as a TIFF file with progress bar\n",
    "    with tqdm(total=volume.shape[0], desc=\"Saving\") as pbar:\n",
    "        for i in range(volume.shape[0]):\n",
    "            tifffile.imwrite(f\"{folder_path}/{name}_{i:04d}.tif\", volume[i])\n",
    "            pbar.update(1)\n",
    "    \n",
    "    print(\"Saving complete.\")"
   ]
  },
  {
   "cell_type": "code",
   "execution_count": 3,
   "metadata": {},
   "outputs": [],
   "source": [
    "database = pd.read_csv(r'\\\\192.168.10.106\\imdea\\DataDriven_UT_AlbertoVicente\\11_database\\Database.csv')\n",
    "\n",
    "database = database.replace({np.nan: None})"
   ]
  },
  {
   "cell_type": "code",
   "execution_count": 4,
   "metadata": {},
   "outputs": [
    {
     "data": {
      "text/plain": [
       "Index(['Id', 'Original', 'Eq', 'Frontal 90 Right', 'XCT padded', 'Binary',\n",
       "       'Material Mask', 'Onlypores', 'UT', 'UT aligned', 'UT aligned amp',\n",
       "       'UT registered', 'UT lente', 'UT aligned lente', 'UT aligned amp lente',\n",
       "       'UT registered lente', 'Dataset PatchvsVolfrac 3x3',\n",
       "       'Dataset PatchvsPacth 3x3', 'Dataset PatchvsVolfrac lente 3x3',\n",
       "       'Dataset PatchvsPacth lente 3x3', 'Dataset PatchvsVolfrac 5x5',\n",
       "       'Dataset PatchvsPacth 5x5', 'Dataset PatchvsVolfrac lente 5x5',\n",
       "       'Dataset PatchvsPacth lente 5x5', 'Dataset PatchvsVolfrac 7x7',\n",
       "       'Dataset PatchvsPacth 7x7', 'Dataset PatchvsVolfrac lente 7x7',\n",
       "       'Dataset PatchvsPacth lente 7x7'],\n",
       "      dtype='object')"
      ]
     },
     "execution_count": 4,
     "metadata": {},
     "output_type": "execute_result"
    }
   ],
   "source": [
    "database.columns"
   ]
  },
  {
   "cell_type": "code",
   "execution_count": null,
   "metadata": {},
   "outputs": [],
   "source": [
    "DatasetsFolder = Path(r'\\\\192.168.10.106\\imdea\\DataDriven_UT_AlbertoVicente\\04_ML_data\\Airbus\\Panel Pegaso')"
   ]
  },
  {
   "cell_type": "code",
   "execution_count": 5,
   "metadata": {},
   "outputs": [],
   "source": [
    "ids = database['Id']\n",
    "\n",
    "onlypores_paths = database['Onlypores']\n",
    "\n",
    "masks = database['Material Mask']\n",
    "\n",
    "datasets1x3 = database['Dataset PatchvsVolfrac 3x3']\n",
    "\n",
    "datasets2x3 = database['Dataset PatchvsPacth 3x3']\n",
    "\n",
    "datasets1x5 = database['Dataset PatchvsVolfrac 5x5']\n",
    "\n",
    "datasets2x5 = database['Dataset PatchvsPacth 5x5']\n",
    "\n",
    "datasets1x7 = database['Dataset PatchvsVolfrac 7x7']\n",
    "\n",
    "datasets2x7 = database['Dataset PatchvsPacth 7x7']\n",
    "\n",
    "datasets1x3_lente = database['Dataset PatchvsVolfrac lente 3x3']\n",
    "\n",
    "datasets2x3_lente = database['Dataset PatchvsPacth lente 3x3']\n",
    "\n",
    "datasets1x5_lente = database['Dataset PatchvsVolfrac lente 5x5']\n",
    "\n",
    "datasets2x5_lente = database['Dataset PatchvsPacth lente 5x5']\n",
    "\n",
    "datasets1x7_lente = database['Dataset PatchvsVolfrac lente 7x7']\n",
    "\n",
    "datasets2x7_lente = database['Dataset PatchvsPacth lente 7x7']\n",
    "\n",
    "rfs = database['UT registered']\n",
    "\n",
    "rfs_lente = database['UT registered lente']"
   ]
  },
  {
   "cell_type": "code",
   "execution_count": 6,
   "metadata": {},
   "outputs": [
    {
     "name": "stdout",
     "output_type": "stream",
     "text": [
      "Processing 1_26 lente\n",
      "Loading: \\\\192.168.10.106\\imdea\\DataDriven_UT_AlbertoVicente\\02_XCT_data\\Airbus\\Panel Pegaso\\Probetas\\1\\26\\segmentation\\onlypores\n"
     ]
    },
    {
     "name": "stderr",
     "output_type": "stream",
     "text": [
      "Progress: 100%|██████████| 350/350 [00:41<00:00,  8.46it/s]\n"
     ]
    },
    {
     "name": "stdout",
     "output_type": "stream",
     "text": [
      "Loading: \\\\192.168.10.106\\imdea\\DataDriven_UT_AlbertoVicente\\02_XCT_data\\Airbus\\Panel Pegaso\\Probetas\\1\\26\\segmentation\\sample_mask\n"
     ]
    },
    {
     "name": "stderr",
     "output_type": "stream",
     "text": [
      "Progress: 100%|██████████| 350/350 [00:41<00:00,  8.34it/s]\n"
     ]
    },
    {
     "name": "stdout",
     "output_type": "stream",
     "text": [
      "Loading: \\\\192.168.10.106\\imdea\\DataDriven_UT_AlbertoVicente\\03_UT_data\\Panel PEGASO\\probetas\\1\\26\\26_lente_aligned_registered.tif\n",
      "Processing 3x3\n",
      "Preprocessing and patching the images...\n",
      "Patching the images...\n",
      "2701 2701\n",
      "Creating the datasets...\n",
      "Processing 5x5\n",
      "Preprocessing and patching the images...\n",
      "Patching the images...\n",
      "2701 2701\n",
      "Creating the datasets...\n",
      "Processing 7x7\n",
      "Preprocessing and patching the images...\n",
      "Patching the images...\n",
      "2701 2701\n",
      "Creating the datasets...\n",
      "Processing 1_27\n",
      "Loading: \\\\192.168.10.106\\imdea\\DataDriven_UT_AlbertoVicente\\02_XCT_data\\Airbus\\Panel Pegaso\\Probetas\\1\\27\\segmentation\\onlypores\n"
     ]
    },
    {
     "name": "stderr",
     "output_type": "stream",
     "text": [
      "Progress: 100%|██████████| 350/350 [00:37<00:00,  9.35it/s]\n"
     ]
    },
    {
     "name": "stdout",
     "output_type": "stream",
     "text": [
      "Loading: \\\\192.168.10.106\\imdea\\DataDriven_UT_AlbertoVicente\\02_XCT_data\\Airbus\\Panel Pegaso\\Probetas\\1\\27\\segmentation\\sample_mask\n"
     ]
    },
    {
     "name": "stderr",
     "output_type": "stream",
     "text": [
      "Progress: 100%|██████████| 350/350 [00:37<00:00,  9.27it/s]\n"
     ]
    },
    {
     "name": "stdout",
     "output_type": "stream",
     "text": [
      "Loading: \\\\192.168.10.106\\imdea\\DataDriven_UT_AlbertoVicente\\03_UT_data\\Panel PEGASO\\probetas\\1\\27\\27_aligned_registered.tif\n",
      "Processing 3x3\n",
      "Preprocessing and patching the images...\n",
      "Patching the images...\n",
      "2701 2701\n",
      "Creating the datasets...\n",
      "Processing 5x5\n",
      "Preprocessing and patching the images...\n",
      "Patching the images...\n",
      "2701 2701\n",
      "Creating the datasets...\n",
      "Processing 7x7\n",
      "Preprocessing and patching the images...\n",
      "Patching the images...\n",
      "2701 2701\n",
      "Creating the datasets...\n",
      "Processing 1_27 lente\n",
      "Loading: \\\\192.168.10.106\\imdea\\DataDriven_UT_AlbertoVicente\\02_XCT_data\\Airbus\\Panel Pegaso\\Probetas\\1\\27\\segmentation\\onlypores\n"
     ]
    },
    {
     "name": "stderr",
     "output_type": "stream",
     "text": [
      "Progress: 100%|██████████| 350/350 [00:37<00:00,  9.24it/s]\n"
     ]
    },
    {
     "name": "stdout",
     "output_type": "stream",
     "text": [
      "Loading: \\\\192.168.10.106\\imdea\\DataDriven_UT_AlbertoVicente\\02_XCT_data\\Airbus\\Panel Pegaso\\Probetas\\1\\27\\segmentation\\sample_mask\n"
     ]
    },
    {
     "name": "stderr",
     "output_type": "stream",
     "text": [
      "Progress: 100%|██████████| 350/350 [00:38<00:00,  9.17it/s]\n"
     ]
    },
    {
     "name": "stdout",
     "output_type": "stream",
     "text": [
      "Loading: \\\\192.168.10.106\\imdea\\DataDriven_UT_AlbertoVicente\\03_UT_data\\Panel PEGASO\\probetas\\1\\27\\27_lente_aligned_registered.tif\n",
      "Processing 3x3\n",
      "Preprocessing and patching the images...\n",
      "Patching the images...\n",
      "2701 2701\n",
      "Creating the datasets...\n",
      "Processing 5x5\n",
      "Preprocessing and patching the images...\n",
      "Patching the images...\n",
      "2701 2701\n",
      "Creating the datasets...\n",
      "Processing 7x7\n",
      "Preprocessing and patching the images...\n",
      "Patching the images...\n",
      "2701 2701\n",
      "Creating the datasets...\n",
      "Processing 1_28\n",
      "Loading: \\\\192.168.10.106\\imdea\\DataDriven_UT_AlbertoVicente\\02_XCT_data\\Airbus\\Panel Pegaso\\Probetas\\1\\28\\segmentation\\onlypores\n"
     ]
    },
    {
     "name": "stderr",
     "output_type": "stream",
     "text": [
      "Progress: 100%|██████████| 250/250 [00:30<00:00,  8.26it/s]\n"
     ]
    },
    {
     "name": "stdout",
     "output_type": "stream",
     "text": [
      "Loading: \\\\192.168.10.106\\imdea\\DataDriven_UT_AlbertoVicente\\02_XCT_data\\Airbus\\Panel Pegaso\\Probetas\\1\\28\\segmentation\\sample_mask\n"
     ]
    },
    {
     "name": "stderr",
     "output_type": "stream",
     "text": [
      "Progress: 100%|██████████| 250/250 [00:30<00:00,  8.16it/s]\n"
     ]
    },
    {
     "name": "stdout",
     "output_type": "stream",
     "text": [
      "Loading: \\\\192.168.10.106\\imdea\\DataDriven_UT_AlbertoVicente\\03_UT_data\\Panel PEGASO\\probetas\\1\\28\\28_aligned_registered.tif\n",
      "Processing 3x3\n",
      "Preprocessing and patching the images...\n",
      "Patching the images...\n",
      "2590 2590\n",
      "Creating the datasets...\n",
      "Processing 5x5\n",
      "Preprocessing and patching the images...\n",
      "Patching the images...\n",
      "2590 2590\n",
      "Creating the datasets...\n",
      "Processing 7x7\n",
      "Preprocessing and patching the images...\n",
      "Patching the images...\n",
      "2590 2590\n",
      "Creating the datasets...\n",
      "Processing 1_28 lente\n",
      "Loading: \\\\192.168.10.106\\imdea\\DataDriven_UT_AlbertoVicente\\02_XCT_data\\Airbus\\Panel Pegaso\\Probetas\\1\\28\\segmentation\\onlypores\n"
     ]
    },
    {
     "name": "stderr",
     "output_type": "stream",
     "text": [
      "Progress: 100%|██████████| 250/250 [00:30<00:00,  8.29it/s]\n"
     ]
    },
    {
     "name": "stdout",
     "output_type": "stream",
     "text": [
      "Loading: \\\\192.168.10.106\\imdea\\DataDriven_UT_AlbertoVicente\\02_XCT_data\\Airbus\\Panel Pegaso\\Probetas\\1\\28\\segmentation\\sample_mask\n"
     ]
    },
    {
     "name": "stderr",
     "output_type": "stream",
     "text": [
      "Progress: 100%|██████████| 250/250 [00:30<00:00,  8.22it/s]\n"
     ]
    },
    {
     "name": "stdout",
     "output_type": "stream",
     "text": [
      "Loading: \\\\192.168.10.106\\imdea\\DataDriven_UT_AlbertoVicente\\03_UT_data\\Panel PEGASO\\probetas\\1\\28\\28_lente_aligned_registered.tif\n",
      "Processing 3x3\n",
      "Preprocessing and patching the images...\n",
      "Patching the images...\n",
      "2590 2590\n",
      "Creating the datasets...\n",
      "Processing 5x5\n",
      "Preprocessing and patching the images...\n",
      "Patching the images...\n",
      "2590 2590\n",
      "Creating the datasets...\n",
      "Processing 7x7\n",
      "Preprocessing and patching the images...\n",
      "Patching the images...\n",
      "2590 2590\n",
      "Creating the datasets...\n",
      "Processing 1_29\n",
      "Loading: \\\\192.168.10.106\\imdea\\DataDriven_UT_AlbertoVicente\\02_XCT_data\\Airbus\\Panel Pegaso\\Probetas\\1\\29\\segmentation\\onlypores\n"
     ]
    },
    {
     "name": "stderr",
     "output_type": "stream",
     "text": [
      "Progress: 100%|██████████| 300/300 [00:35<00:00,  8.50it/s]\n"
     ]
    },
    {
     "name": "stdout",
     "output_type": "stream",
     "text": [
      "Loading: \\\\192.168.10.106\\imdea\\DataDriven_UT_AlbertoVicente\\02_XCT_data\\Airbus\\Panel Pegaso\\Probetas\\1\\29\\segmentation\\sample_mask\n"
     ]
    },
    {
     "name": "stderr",
     "output_type": "stream",
     "text": [
      "Progress: 100%|██████████| 300/300 [00:35<00:00,  8.38it/s]\n"
     ]
    },
    {
     "name": "stdout",
     "output_type": "stream",
     "text": [
      "Loading: \\\\192.168.10.106\\imdea\\DataDriven_UT_AlbertoVicente\\03_UT_data\\Panel PEGASO\\probetas\\1\\29\\29_aligned_registered.tif\n",
      "Processing 3x3\n",
      "Preprocessing and patching the images...\n",
      "Patching the images...\n",
      "2590 2590\n",
      "Creating the datasets...\n",
      "Processing 5x5\n",
      "Preprocessing and patching the images...\n",
      "Patching the images...\n",
      "2590 2590\n",
      "Creating the datasets...\n",
      "Processing 7x7\n",
      "Preprocessing and patching the images...\n",
      "Patching the images...\n",
      "2590 2590\n",
      "Creating the datasets...\n",
      "Processing 1_29 lente\n",
      "Loading: \\\\192.168.10.106\\imdea\\DataDriven_UT_AlbertoVicente\\02_XCT_data\\Airbus\\Panel Pegaso\\Probetas\\1\\29\\segmentation\\onlypores\n"
     ]
    },
    {
     "name": "stderr",
     "output_type": "stream",
     "text": [
      "Progress: 100%|██████████| 300/300 [00:35<00:00,  8.45it/s]\n"
     ]
    },
    {
     "name": "stdout",
     "output_type": "stream",
     "text": [
      "Loading: \\\\192.168.10.106\\imdea\\DataDriven_UT_AlbertoVicente\\02_XCT_data\\Airbus\\Panel Pegaso\\Probetas\\1\\29\\segmentation\\sample_mask\n"
     ]
    },
    {
     "name": "stderr",
     "output_type": "stream",
     "text": [
      "Progress: 100%|██████████| 300/300 [00:35<00:00,  8.53it/s]\n"
     ]
    },
    {
     "name": "stdout",
     "output_type": "stream",
     "text": [
      "Loading: \\\\192.168.10.106\\imdea\\DataDriven_UT_AlbertoVicente\\03_UT_data\\Panel PEGASO\\probetas\\1\\29\\29_lente_aligned_registered.tif\n",
      "Processing 3x3\n",
      "Preprocessing and patching the images...\n",
      "Patching the images...\n",
      "2590 2590\n",
      "Creating the datasets...\n",
      "Processing 5x5\n",
      "Preprocessing and patching the images...\n",
      "Patching the images...\n",
      "2590 2590\n",
      "Creating the datasets...\n",
      "Processing 7x7\n",
      "Preprocessing and patching the images...\n",
      "Patching the images...\n",
      "2590 2590\n",
      "Creating the datasets...\n",
      "Processing 1_21\n",
      "All datasets already processed\n",
      "Processing 1_21 lente\n",
      "All datasets already processed\n",
      "Processing 1_22\n",
      "All datasets already processed\n",
      "Processing 1_22 lente\n",
      "All datasets already processed\n",
      "Processing 1_23\n",
      "All datasets already processed\n",
      "Processing 1_23 lente\n",
      "All datasets already processed\n",
      "Processing 1_24\n",
      "All datasets already processed\n",
      "Processing 1_24 lente\n",
      "All datasets already processed\n",
      "Processing 1_31\n",
      "All datasets already processed\n",
      "Processing 1_31 lente\n",
      "All datasets already processed\n",
      "Processing 1_32\n",
      "All datasets already processed\n",
      "Processing 1_32 lente\n",
      "All datasets already processed\n",
      "Processing 1_33\n",
      "All datasets already processed\n",
      "Processing 1_33 lente\n",
      "All datasets already processed\n",
      "Processing 1_35\n",
      "All datasets already processed\n",
      "Processing 1_35 lente\n",
      "All datasets already processed\n",
      "Processing 1_6\n",
      "All datasets already processed\n",
      "Processing 1_6 lente\n",
      "All datasets already processed\n",
      "Processing 1_7\n",
      "All datasets already processed\n",
      "Processing 1_7 lente\n",
      "All datasets already processed\n",
      "Processing 1_8\n",
      "All datasets already processed\n",
      "Processing 1_8 lente\n",
      "All datasets already processed\n",
      "Processing 1_9\n",
      "All datasets already processed\n",
      "Processing 1_9 lente\n",
      "All datasets already processed\n",
      "Processing 1_10\n",
      "Loading: \\\\192.168.10.106\\imdea\\DataDriven_UT_AlbertoVicente\\02_XCT_data\\Airbus\\Panel Pegaso\\Probetas\\1\\10\\segmentation\\onlypores\n"
     ]
    },
    {
     "name": "stderr",
     "output_type": "stream",
     "text": [
      "Progress: 100%|██████████| 242/242 [00:33<00:00,  7.24it/s]\n"
     ]
    },
    {
     "name": "stdout",
     "output_type": "stream",
     "text": [
      "Loading: \\\\192.168.10.106\\imdea\\DataDriven_UT_AlbertoVicente\\02_XCT_data\\Airbus\\Panel Pegaso\\Probetas\\1\\10\\segmentation\\sample_mask\n"
     ]
    },
    {
     "name": "stderr",
     "output_type": "stream",
     "text": [
      "Progress: 100%|██████████| 242/242 [00:33<00:00,  7.18it/s]\n"
     ]
    },
    {
     "name": "stdout",
     "output_type": "stream",
     "text": [
      "Loading: \\\\192.168.10.106\\imdea\\DataDriven_UT_AlbertoVicente\\03_UT_data\\Panel PEGASO\\probetas\\1\\10\\10_aligned_registered.tif\n",
      "Processing 3x3\n",
      "Preprocessing and patching the images...\n",
      "Patching the images...\n",
      "2812 2812\n",
      "Creating the datasets...\n",
      "Processing 5x5\n",
      "Preprocessing and patching the images...\n",
      "Patching the images...\n",
      "2812 2812\n",
      "Creating the datasets...\n",
      "Processing 7x7\n",
      "Preprocessing and patching the images...\n",
      "Patching the images...\n",
      "2812 2812\n",
      "Creating the datasets...\n",
      "Processing 1_10 lente\n",
      "Loading: \\\\192.168.10.106\\imdea\\DataDriven_UT_AlbertoVicente\\02_XCT_data\\Airbus\\Panel Pegaso\\Probetas\\1\\10\\segmentation\\onlypores\n"
     ]
    },
    {
     "name": "stderr",
     "output_type": "stream",
     "text": [
      "Progress: 100%|██████████| 242/242 [00:33<00:00,  7.20it/s]\n"
     ]
    },
    {
     "name": "stdout",
     "output_type": "stream",
     "text": [
      "Loading: \\\\192.168.10.106\\imdea\\DataDriven_UT_AlbertoVicente\\02_XCT_data\\Airbus\\Panel Pegaso\\Probetas\\1\\10\\segmentation\\sample_mask\n"
     ]
    },
    {
     "name": "stderr",
     "output_type": "stream",
     "text": [
      "Progress: 100%|██████████| 242/242 [00:33<00:00,  7.24it/s]\n"
     ]
    },
    {
     "name": "stdout",
     "output_type": "stream",
     "text": [
      "Loading: \\\\192.168.10.106\\imdea\\DataDriven_UT_AlbertoVicente\\03_UT_data\\Panel PEGASO\\probetas\\1\\10\\10_lente_aligned_registered.tif\n",
      "Processing 3x3\n",
      "Preprocessing and patching the images...\n",
      "Patching the images...\n",
      "2812 2812\n",
      "Creating the datasets...\n",
      "Processing 5x5\n",
      "Preprocessing and patching the images...\n",
      "Patching the images...\n",
      "2812 2812\n",
      "Creating the datasets...\n",
      "Processing 7x7\n",
      "Preprocessing and patching the images...\n",
      "Patching the images...\n",
      "2812 2812\n",
      "Creating the datasets...\n",
      "Processing 1_11\n",
      "Loading: \\\\192.168.10.106\\imdea\\DataDriven_UT_AlbertoVicente\\02_XCT_data\\Airbus\\Panel Pegaso\\Probetas\\1\\11\\segmentation\\onlypores\n"
     ]
    },
    {
     "name": "stderr",
     "output_type": "stream",
     "text": [
      "Progress: 100%|██████████| 249/249 [00:38<00:00,  6.53it/s]\n"
     ]
    },
    {
     "name": "stdout",
     "output_type": "stream",
     "text": [
      "Loading: \\\\192.168.10.106\\imdea\\DataDriven_UT_AlbertoVicente\\02_XCT_data\\Airbus\\Panel Pegaso\\Probetas\\1\\11\\segmentation\\sample_mask\n"
     ]
    },
    {
     "name": "stderr",
     "output_type": "stream",
     "text": [
      "Progress: 100%|██████████| 249/249 [00:38<00:00,  6.49it/s]\n"
     ]
    },
    {
     "name": "stdout",
     "output_type": "stream",
     "text": [
      "Loading: \\\\192.168.10.106\\imdea\\DataDriven_UT_AlbertoVicente\\03_UT_data\\Panel PEGASO\\probetas\\1\\11\\11_aligned_registered.tif\n",
      "Processing 3x3\n",
      "Preprocessing and patching the images...\n",
      "Patching the images...\n",
      "2812 2812\n",
      "Creating the datasets...\n",
      "Processing 5x5\n",
      "Preprocessing and patching the images...\n",
      "Patching the images...\n",
      "2812 2812\n",
      "Creating the datasets...\n",
      "Processing 7x7\n",
      "Preprocessing and patching the images...\n",
      "Patching the images...\n",
      "2812 2812\n",
      "Creating the datasets...\n",
      "Processing 1_11 lente\n",
      "Loading: \\\\192.168.10.106\\imdea\\DataDriven_UT_AlbertoVicente\\02_XCT_data\\Airbus\\Panel Pegaso\\Probetas\\1\\11\\segmentation\\onlypores\n"
     ]
    },
    {
     "name": "stderr",
     "output_type": "stream",
     "text": [
      "Progress: 100%|██████████| 249/249 [00:37<00:00,  6.56it/s]\n"
     ]
    },
    {
     "name": "stdout",
     "output_type": "stream",
     "text": [
      "Loading: \\\\192.168.10.106\\imdea\\DataDriven_UT_AlbertoVicente\\02_XCT_data\\Airbus\\Panel Pegaso\\Probetas\\1\\11\\segmentation\\sample_mask\n"
     ]
    },
    {
     "name": "stderr",
     "output_type": "stream",
     "text": [
      "Progress: 100%|██████████| 249/249 [00:38<00:00,  6.46it/s]\n"
     ]
    },
    {
     "name": "stdout",
     "output_type": "stream",
     "text": [
      "Loading: \\\\192.168.10.106\\imdea\\DataDriven_UT_AlbertoVicente\\03_UT_data\\Panel PEGASO\\probetas\\1\\11\\11_lente_aligned_registered.tif\n",
      "Processing 3x3\n",
      "Preprocessing and patching the images...\n",
      "Patching the images...\n",
      "2812 2812\n",
      "Creating the datasets...\n",
      "Processing 5x5\n",
      "Preprocessing and patching the images...\n",
      "Patching the images...\n",
      "2812 2812\n",
      "Creating the datasets...\n",
      "Processing 7x7\n",
      "Preprocessing and patching the images...\n",
      "Patching the images...\n",
      "2812 2812\n",
      "Creating the datasets...\n",
      "Processing 1_12\n",
      "Loading: \\\\192.168.10.106\\imdea\\DataDriven_UT_AlbertoVicente\\02_XCT_data\\Airbus\\Panel Pegaso\\Probetas\\1\\12\\segmentation\\onlypores\n"
     ]
    },
    {
     "name": "stderr",
     "output_type": "stream",
     "text": [
      "Progress: 100%|██████████| 259/259 [00:36<00:00,  7.06it/s]\n"
     ]
    },
    {
     "name": "stdout",
     "output_type": "stream",
     "text": [
      "Loading: \\\\192.168.10.106\\imdea\\DataDriven_UT_AlbertoVicente\\02_XCT_data\\Airbus\\Panel Pegaso\\Probetas\\1\\12\\segmentation\\sample_mask\n"
     ]
    },
    {
     "name": "stderr",
     "output_type": "stream",
     "text": [
      "Progress: 100%|██████████| 259/259 [00:37<00:00,  6.92it/s]\n"
     ]
    },
    {
     "name": "stdout",
     "output_type": "stream",
     "text": [
      "Loading: \\\\192.168.10.106\\imdea\\DataDriven_UT_AlbertoVicente\\03_UT_data\\Panel PEGASO\\probetas\\1\\12\\12_aligned_registered.tif\n",
      "Processing 3x3\n",
      "Preprocessing and patching the images...\n",
      "Patching the images...\n",
      "2812 2812\n",
      "Creating the datasets...\n",
      "Processing 5x5\n",
      "Preprocessing and patching the images...\n",
      "Patching the images...\n",
      "2812 2812\n",
      "Creating the datasets...\n",
      "Processing 7x7\n",
      "Preprocessing and patching the images...\n",
      "Patching the images...\n",
      "2812 2812\n",
      "Creating the datasets...\n",
      "Processing 1_12 lente\n",
      "Loading: \\\\192.168.10.106\\imdea\\DataDriven_UT_AlbertoVicente\\02_XCT_data\\Airbus\\Panel Pegaso\\Probetas\\1\\12\\segmentation\\onlypores\n"
     ]
    },
    {
     "name": "stderr",
     "output_type": "stream",
     "text": [
      "Progress: 100%|██████████| 259/259 [00:36<00:00,  7.00it/s]\n"
     ]
    },
    {
     "name": "stdout",
     "output_type": "stream",
     "text": [
      "Loading: \\\\192.168.10.106\\imdea\\DataDriven_UT_AlbertoVicente\\02_XCT_data\\Airbus\\Panel Pegaso\\Probetas\\1\\12\\segmentation\\sample_mask\n"
     ]
    },
    {
     "name": "stderr",
     "output_type": "stream",
     "text": [
      "Progress: 100%|██████████| 259/259 [00:37<00:00,  6.91it/s]\n"
     ]
    },
    {
     "name": "stdout",
     "output_type": "stream",
     "text": [
      "Loading: \\\\192.168.10.106\\imdea\\DataDriven_UT_AlbertoVicente\\03_UT_data\\Panel PEGASO\\probetas\\1\\12\\12_lente_aligned_registered.tif\n",
      "Processing 3x3\n",
      "Preprocessing and patching the images...\n",
      "Patching the images...\n",
      "2812 2812\n",
      "Creating the datasets...\n",
      "Processing 5x5\n",
      "Preprocessing and patching the images...\n",
      "Patching the images...\n",
      "2812 2812\n",
      "Creating the datasets...\n",
      "Processing 7x7\n",
      "Preprocessing and patching the images...\n",
      "Patching the images...\n",
      "2812 2812\n",
      "Creating the datasets...\n",
      "Processing 1_13\n",
      "Loading: \\\\192.168.10.106\\imdea\\DataDriven_UT_AlbertoVicente\\02_XCT_data\\Airbus\\Panel Pegaso\\Probetas\\1\\13\\segmentation\\onlypores\n"
     ]
    },
    {
     "name": "stderr",
     "output_type": "stream",
     "text": [
      "Progress: 100%|██████████| 249/249 [00:38<00:00,  6.51it/s]\n"
     ]
    },
    {
     "name": "stdout",
     "output_type": "stream",
     "text": [
      "Loading: \\\\192.168.10.106\\imdea\\DataDriven_UT_AlbertoVicente\\02_XCT_data\\Airbus\\Panel Pegaso\\Probetas\\1\\13\\segmentation\\sample_mask\n"
     ]
    },
    {
     "name": "stderr",
     "output_type": "stream",
     "text": [
      "Progress: 100%|██████████| 249/249 [00:37<00:00,  6.59it/s]\n"
     ]
    },
    {
     "name": "stdout",
     "output_type": "stream",
     "text": [
      "Loading: \\\\192.168.10.106\\imdea\\DataDriven_UT_AlbertoVicente\\03_UT_data\\Panel PEGASO\\probetas\\1\\13\\13_aligned_registered.tif\n",
      "Processing 3x3\n",
      "Preprocessing and patching the images...\n",
      "Patching the images...\n",
      "2812 2812\n",
      "Creating the datasets...\n",
      "Processing 5x5\n",
      "Preprocessing and patching the images...\n",
      "Patching the images...\n",
      "2812 2812\n",
      "Creating the datasets...\n",
      "Processing 7x7\n",
      "Preprocessing and patching the images...\n",
      "Patching the images...\n",
      "2812 2812\n",
      "Creating the datasets...\n",
      "Processing 1_13 lente\n",
      "Loading: \\\\192.168.10.106\\imdea\\DataDriven_UT_AlbertoVicente\\02_XCT_data\\Airbus\\Panel Pegaso\\Probetas\\1\\13\\segmentation\\onlypores\n"
     ]
    },
    {
     "name": "stderr",
     "output_type": "stream",
     "text": [
      "Progress: 100%|██████████| 249/249 [00:37<00:00,  6.65it/s]\n"
     ]
    },
    {
     "name": "stdout",
     "output_type": "stream",
     "text": [
      "Loading: \\\\192.168.10.106\\imdea\\DataDriven_UT_AlbertoVicente\\02_XCT_data\\Airbus\\Panel Pegaso\\Probetas\\1\\13\\segmentation\\sample_mask\n"
     ]
    },
    {
     "name": "stderr",
     "output_type": "stream",
     "text": [
      "Progress: 100%|██████████| 249/249 [00:38<00:00,  6.50it/s]\n"
     ]
    },
    {
     "name": "stdout",
     "output_type": "stream",
     "text": [
      "Loading: \\\\192.168.10.106\\imdea\\DataDriven_UT_AlbertoVicente\\03_UT_data\\Panel PEGASO\\probetas\\1\\13\\13_lente_aligned_registered.tif\n",
      "Processing 3x3\n",
      "Preprocessing and patching the images...\n",
      "Patching the images...\n",
      "2812 2812\n",
      "Creating the datasets...\n",
      "Processing 5x5\n",
      "Preprocessing and patching the images...\n",
      "Patching the images...\n",
      "2812 2812\n",
      "Creating the datasets...\n",
      "Processing 7x7\n",
      "Preprocessing and patching the images...\n",
      "Patching the images...\n",
      "2812 2812\n",
      "Creating the datasets...\n"
     ]
    }
   ],
   "source": [
    "for i in range(len(ids)):\n",
    "\n",
    "    if (onlypores_paths[i] != None) and (masks[i] != None) and (rfs[i] != None):\n",
    "        print(f\"Processing {ids[i]}\")\n",
    "        try:\n",
    "            #Check if is there a remaining dataset to be processed\n",
    "            if(datasets1x3[i]==None) or (datasets2x3[i]==None) or (datasets1x5[i]==None) or (datasets2x5[i]==None) or (datasets1x7[i]==None) or (datasets2x7[i]==None):\n",
    "\n",
    "                print('Loading:',onlypores_paths[i])\n",
    "                onlypores = read_sequence(onlypores_paths[i])\n",
    "                print('Loading:',masks[i])\n",
    "                mask = read_sequence(masks[i])\n",
    "                print('Loading:',rfs[i])\n",
    "                rf = tifffile.imread(rfs[i])\n",
    "\n",
    "                output_folder = DatasetsFolder / str(ids[i])\n",
    "\n",
    "                if output_folder.exists() == False:\n",
    "                    output_folder.mkdir()\n",
    "                \n",
    "                output_folder = output_folder / 'MonoElement'\n",
    "\n",
    "                if output_folder.exists() == False:\n",
    "                    output_folder.mkdir()\n",
    "\n",
    "                if (datasets1x3[i]==None) or (datasets2x3[i]==None):\n",
    "                    print('Processing 3x3')\n",
    "                    datasetmaker.main(onlypores,mask,rf,output_folder,ut_patch_size=3)\n",
    "                    datasets1x3[i] = str(output_folder / 'patch_vs_volfrac_3.csv')\n",
    "                    datasets2x3[i] = str(output_folder / 'patch_vs_patch_3.csv')\n",
    "                if (datasets1x5[i]==None) or (datasets2x5[i]==None):\n",
    "                    print('Processing 5x5')\n",
    "                    datasetmaker.main(onlypores,mask,rf,output_folder,ut_patch_size=5)\n",
    "                    datasets1x5[i] = str(output_folder / 'patch_vs_volfrac_5.csv')\n",
    "                    datasets2x5[i] = str(output_folder / 'patch_vs_patch_5.csv')\n",
    "                if (datasets1x7[i]==None) or (datasets2x7[i]==None):\n",
    "                    print('Processing 7x7')\n",
    "                    datasetmaker.main(onlypores,mask,rf,output_folder,ut_patch_size=7)\n",
    "                    datasets1x7[i] = str(output_folder / 'patch_vs_volfrac_7.csv')\n",
    "                    datasets2x7[i] = str(output_folder / 'patch_vs_patch_7.csv')\n",
    "            \n",
    "            else:\n",
    "                print('All datasets already processed')\n",
    "        \n",
    "        except Exception as e:\n",
    "            print(f\"Error processing {ids[i]}\")\n",
    "            print(e)\n",
    "    \n",
    "    if (onlypores_paths[i] != None) and (masks[i] != None) and (rfs_lente[i] != None):\n",
    "        print(f\"Processing {ids[i]} lente\")\n",
    "        try:\n",
    "            #Check if is there a remaining dataset to be processed\n",
    "            if(datasets1x3_lente[i]==None) or (datasets2x3_lente[i]==None) or (datasets1x5_lente[i]==None) or (datasets2x5_lente[i]==None) or (datasets1x7_lente[i]==None) or (datasets2x7_lente[i]==None):\n",
    "\n",
    "                print('Loading:',onlypores_paths[i])\n",
    "                onlypores = read_sequence(onlypores_paths[i])\n",
    "                print('Loading:',masks[i])\n",
    "                mask = read_sequence(masks[i])\n",
    "                print('Loading:',rfs_lente[i])\n",
    "                rf = tifffile.imread(rfs_lente[i])\n",
    "\n",
    "                output_folder = DatasetsFolder / str(ids[i])\n",
    "\n",
    "                if output_folder.exists() == False:\n",
    "                    output_folder.mkdir()\n",
    "\n",
    "                output_folder = output_folder / 'MonoElementLens'\n",
    "\n",
    "                if output_folder.exists() == False:\n",
    "                    output_folder.mkdir()\n",
    "\n",
    "                if (datasets1x3_lente[i]==None) or (datasets2x3_lente[i]==None):\n",
    "                    print('Processing 3x3')\n",
    "                    datasetmaker.main(onlypores,mask,rf,output_folder,ut_patch_size=3)\n",
    "                    datasets1x3_lente[i] = str(output_folder / 'patch_vs_volfrac_3.csv')\n",
    "                    datasets2x3_lente[i] = str(output_folder / 'patch_vs_patch_3.csv')\n",
    "                if (datasets1x5_lente[i]==None) or (datasets2x5_lente[i]==None):\n",
    "                    print('Processing 5x5')\n",
    "                    datasetmaker.main(onlypores,mask,rf,output_folder,ut_patch_size=5)\n",
    "                    datasets1x5_lente[i] = str(output_folder / 'patch_vs_volfrac_5.csv')\n",
    "                    datasets2x5_lente[i] = str(output_folder / 'patch_vs_patch_5.csv')\n",
    "                if (datasets1x7_lente[i]==None) or (datasets2x7_lente[i]==None):\n",
    "                    print('Processing 7x7')\n",
    "                    datasetmaker.main(onlypores,mask,rf,output_folder,ut_patch_size=7)\n",
    "                    datasets1x7_lente[i] = str(output_folder / 'patch_vs_volfrac_7.csv')\n",
    "                    datasets2x7_lente[i] = str(output_folder / 'patch_vs_patch_7.csv')\n",
    "            \n",
    "            else:\n",
    "                print('All datasets already processed')\n",
    "        \n",
    "        except Exception as e:\n",
    "            print(f\"Error processing {ids[i]}\")\n",
    "            print(e)\n"
   ]
  },
  {
   "cell_type": "code",
   "execution_count": 7,
   "metadata": {},
   "outputs": [],
   "source": [
    "database['Dataset PatchvsVolfrac 3x3'] = datasets1x3\n",
    "\n",
    "database['Dataset PatchvsPacth 3x3'] = datasets2x3\n",
    "\n",
    "database['Dataset PatchvsVolfrac 5x5'] = datasets1x5\n",
    "\n",
    "database['Dataset PatchvsPacth 5x5'] = datasets2x5\n",
    "\n",
    "database['Dataset PatchvsVolfrac 7x7'] = datasets1x7\n",
    "\n",
    "database['Dataset PatchvsPacth 7x7'] = datasets2x7\n",
    "\n",
    "database['Dataset PatchvsVolfrac lente 3x3'] = datasets1x3_lente\n",
    "\n",
    "database['Dataset PatchvsPacth lente 3x3'] = datasets2x3_lente\n",
    "\n",
    "database['Dataset PatchvsVolfrac lente 5x5'] = datasets1x5_lente\n",
    "\n",
    "database['Dataset PatchvsPacth lente 5x5'] = datasets2x5_lente\n",
    "\n",
    "database['Dataset PatchvsVolfrac lente 7x7'] = datasets1x7_lente\n",
    "\n",
    "database['Dataset PatchvsPacth lente 7x7'] = datasets2x7_lente"
   ]
  },
  {
   "cell_type": "code",
   "execution_count": 8,
   "metadata": {},
   "outputs": [],
   "source": [
    "database.to_csv(r'\\\\192.168.10.106\\imdea\\DataDriven_UT_AlbertoVicente\\11_database\\Database.csv', index=False)"
   ]
  }
 ],
 "metadata": {
  "kernelspec": {
   "display_name": "VisionPyKernel",
   "language": "python",
   "name": "python3"
  },
  "language_info": {
   "codemirror_mode": {
    "name": "ipython",
    "version": 3
   },
   "file_extension": ".py",
   "mimetype": "text/x-python",
   "name": "python",
   "nbconvert_exporter": "python",
   "pygments_lexer": "ipython3",
   "version": "3.11.5"
  }
 },
 "nbformat": 4,
 "nbformat_minor": 2
}
