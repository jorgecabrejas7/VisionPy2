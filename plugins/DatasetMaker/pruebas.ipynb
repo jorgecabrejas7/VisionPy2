{
 "cells": [
  {
   "cell_type": "code",
   "execution_count": 1,
   "metadata": {},
   "outputs": [],
   "source": [
    "import tifffile\n",
    "import matplotlib.pyplot as plt\n",
    "import numpy as np\n",
    "import pandas as pd\n",
    "from pathlib import Path\n",
    "from tqdm import tqdm\n",
    "import os\n",
    "from skimage import measure\n",
    "from skimage.measure import regionprops\n",
    "import pandas as pd"
   ]
  },
  {
   "cell_type": "code",
   "execution_count": 2,
   "metadata": {},
   "outputs": [],
   "source": [
    "def read_sequence(folder_path):\n",
    "    \"\"\"\n",
    "    Read a sequence of TIFF files in a folder as a 3D volume.\n",
    "    \n",
    "    Args:\n",
    "    folder_path (str): Path to the folder containing TIFF files.\n",
    "\n",
    "    Returns:\n",
    "    numpy.ndarray: A 3D array where each slice corresponds to a TIFF file.\n",
    "    \"\"\"\n",
    "\n",
    "    # List and sort the TIFF files\n",
    "    tiff_files = sorted([os.path.join(folder_path, f) for f in os.listdir(folder_path) if (f.endswith('.tiff') or f.endswith('.tif'))])\n",
    "\n",
    "    tiff_sequence = tifffile.TiffSequence(tiff_files)\n",
    "    \n",
    "    # Get the total number of TIFF files\n",
    "    total_files = len(tiff_files)\n",
    "    \n",
    "    # Read each TIFF file and update progress\n",
    "    volume = []\n",
    "    with tqdm(total=total_files, desc=\"Progress\") as pbar:\n",
    "        for i, file_path in enumerate(tiff_files):\n",
    "            slice_data = tifffile.imread(file_path)\n",
    "            volume.append(slice_data)\n",
    "            \n",
    "            # Update progress\n",
    "            pbar.update(1)\n",
    "    \n",
    "    return np.array(volume)"
   ]
  },
  {
   "cell_type": "code",
   "execution_count": 3,
   "metadata": {},
   "outputs": [
    {
     "name": "stdout",
     "output_type": "stream",
     "text": [
      "[WindowsPath('//192.168.10.106/imdea/DataDriven_UT_AlbertoVicente/03_UT_data/Panel PEGASO/probetas/1/26/26.tif'), WindowsPath('//192.168.10.106/imdea/DataDriven_UT_AlbertoVicente/03_UT_data/Panel PEGASO/probetas/1/26/26_aligned.tif'), WindowsPath('//192.168.10.106/imdea/DataDriven_UT_AlbertoVicente/03_UT_data/Panel PEGASO/probetas/1/26/26_amplitude.tif')]\n"
     ]
    }
   ],
   "source": [
    "ut_folder = Path(r'\\\\192.168.10.106\\imdea\\DataDriven_UT_AlbertoVicente\\03_UT_data\\Panel PEGASO\\probetas\\1\\26')\n",
    "ut_files = list(ut_folder.glob('*.tif'))\n",
    "print(ut_files)\n",
    "ut_rf = tifffile.imread(ut_files[1])\n",
    "ut_amp = tifffile.imread(ut_files[2])"
   ]
  },
  {
   "cell_type": "code",
   "execution_count": 4,
   "metadata": {},
   "outputs": [
    {
     "ename": "FileNotFoundError",
     "evalue": "[WinError 3] The system cannot find the path specified: 'Q:\\\\11_AIRBUS\\\\03_LabXCT\\\\Panel Pegaso\\\\Probetas\\\\1\\\\26\\\\output\\\\segmentation\\\\onlypores'",
     "output_type": "error",
     "traceback": [
      "\u001b[1;31m---------------------------------------------------------------------------\u001b[0m",
      "\u001b[1;31mFileNotFoundError\u001b[0m                         Traceback (most recent call last)",
      "Cell \u001b[1;32mIn[4], line 3\u001b[0m\n\u001b[0;32m      1\u001b[0m xct_folder \u001b[38;5;241m=\u001b[39m Path(\u001b[38;5;124mr\u001b[39m\u001b[38;5;124m'\u001b[39m\u001b[38;5;124mQ:\u001b[39m\u001b[38;5;124m\\\u001b[39m\u001b[38;5;124m11_AIRBUS\u001b[39m\u001b[38;5;124m\\\u001b[39m\u001b[38;5;124m03_LabXCT\u001b[39m\u001b[38;5;124m\\\u001b[39m\u001b[38;5;124mPanel Pegaso\u001b[39m\u001b[38;5;124m\\\u001b[39m\u001b[38;5;124mProbetas\u001b[39m\u001b[38;5;124m\\\u001b[39m\u001b[38;5;124m1\u001b[39m\u001b[38;5;124m\\\u001b[39m\u001b[38;5;124m26\u001b[39m\u001b[38;5;124m\\\u001b[39m\u001b[38;5;124moutput\u001b[39m\u001b[38;5;124m\\\u001b[39m\u001b[38;5;124msegmentation\u001b[39m\u001b[38;5;124m'\u001b[39m)\n\u001b[1;32m----> 3\u001b[0m onlypores \u001b[38;5;241m=\u001b[39m \u001b[43mread_sequence\u001b[49m\u001b[43m(\u001b[49m\u001b[43mxct_folder\u001b[49m\u001b[43m \u001b[49m\u001b[38;5;241;43m/\u001b[39;49m\u001b[43m \u001b[49m\u001b[38;5;124;43m'\u001b[39;49m\u001b[38;5;124;43monlypores\u001b[39;49m\u001b[38;5;124;43m'\u001b[39;49m\u001b[43m)\u001b[49m\u001b[38;5;241m.\u001b[39mastype(\u001b[38;5;28mbool\u001b[39m)\n\u001b[0;32m      4\u001b[0m mask \u001b[38;5;241m=\u001b[39m read_sequence(xct_folder \u001b[38;5;241m/\u001b[39m \u001b[38;5;124m'\u001b[39m\u001b[38;5;124msample_mask\u001b[39m\u001b[38;5;124m'\u001b[39m)\u001b[38;5;241m.\u001b[39mastype(\u001b[38;5;28mbool\u001b[39m)\n",
      "Cell \u001b[1;32mIn[2], line 13\u001b[0m, in \u001b[0;36mread_sequence\u001b[1;34m(folder_path)\u001b[0m\n\u001b[0;32m      2\u001b[0m \u001b[38;5;250m\u001b[39m\u001b[38;5;124;03m\"\"\"\u001b[39;00m\n\u001b[0;32m      3\u001b[0m \u001b[38;5;124;03mRead a sequence of TIFF files in a folder as a 3D volume.\u001b[39;00m\n\u001b[0;32m      4\u001b[0m \u001b[38;5;124;03m\u001b[39;00m\n\u001b[1;32m   (...)\u001b[0m\n\u001b[0;32m      9\u001b[0m \u001b[38;5;124;03mnumpy.ndarray: A 3D array where each slice corresponds to a TIFF file.\u001b[39;00m\n\u001b[0;32m     10\u001b[0m \u001b[38;5;124;03m\"\"\"\u001b[39;00m\n\u001b[0;32m     12\u001b[0m \u001b[38;5;66;03m# List and sort the TIFF files\u001b[39;00m\n\u001b[1;32m---> 13\u001b[0m tiff_files \u001b[38;5;241m=\u001b[39m \u001b[38;5;28msorted\u001b[39m([os\u001b[38;5;241m.\u001b[39mpath\u001b[38;5;241m.\u001b[39mjoin(folder_path, f) \u001b[38;5;28;01mfor\u001b[39;00m f \u001b[38;5;129;01min\u001b[39;00m \u001b[43mos\u001b[49m\u001b[38;5;241;43m.\u001b[39;49m\u001b[43mlistdir\u001b[49m\u001b[43m(\u001b[49m\u001b[43mfolder_path\u001b[49m\u001b[43m)\u001b[49m \u001b[38;5;28;01mif\u001b[39;00m (f\u001b[38;5;241m.\u001b[39mendswith(\u001b[38;5;124m'\u001b[39m\u001b[38;5;124m.tiff\u001b[39m\u001b[38;5;124m'\u001b[39m) \u001b[38;5;129;01mor\u001b[39;00m f\u001b[38;5;241m.\u001b[39mendswith(\u001b[38;5;124m'\u001b[39m\u001b[38;5;124m.tif\u001b[39m\u001b[38;5;124m'\u001b[39m))])\n\u001b[0;32m     15\u001b[0m tiff_sequence \u001b[38;5;241m=\u001b[39m tifffile\u001b[38;5;241m.\u001b[39mTiffSequence(tiff_files)\n\u001b[0;32m     17\u001b[0m \u001b[38;5;66;03m# Get the total number of TIFF files\u001b[39;00m\n",
      "\u001b[1;31mFileNotFoundError\u001b[0m: [WinError 3] The system cannot find the path specified: 'Q:\\\\11_AIRBUS\\\\03_LabXCT\\\\Panel Pegaso\\\\Probetas\\\\1\\\\26\\\\output\\\\segmentation\\\\onlypores'"
     ]
    }
   ],
   "source": [
    "xct_folder = Path(r'Q:\\11_AIRBUS\\03_LabXCT\\Panel Pegaso\\Probetas\\1\\26\\output\\segmentation')\n",
    "\n",
    "onlypores = read_sequence(xct_folder / 'onlypores').astype(bool)\n",
    "mask = read_sequence(xct_folder / 'sample_mask').astype(bool)"
   ]
  },
  {
   "cell_type": "code",
   "execution_count": 185,
   "metadata": {},
   "outputs": [
    {
     "name": "stdout",
     "output_type": "stream",
     "text": [
      "(350, 3042, 1656) (350, 3042, 1656)\n"
     ]
    }
   ],
   "source": [
    "max_proj = np.max(mask, axis=0)\n",
    "\n",
    "labels = measure.label(max_proj)\n",
    "\n",
    "props = regionprops(labels)\n",
    "\n",
    "minr_xct, minc_xct, maxr_xct, maxc_xct = props[0].bbox\n",
    "\n",
    "#crop the volume\n",
    "\n",
    "mask_cropped = mask[:, minr_xct:maxr_xct, minc_xct:maxc_xct]\n",
    "onlypores_cropped = onlypores[:, minr_xct:maxr_xct, minc_xct:maxc_xct]\n",
    "\n",
    "print(mask_cropped.shape, onlypores_cropped.shape)"
   ]
  },
  {
   "cell_type": "code",
   "execution_count": 186,
   "metadata": {},
   "outputs": [],
   "source": [
    "ut_resolution = 1 #mm\n",
    "xct_resolution = 0.025 #mm"
   ]
  },
  {
   "cell_type": "code",
   "execution_count": 187,
   "metadata": {},
   "outputs": [
    {
     "name": "stdout",
     "output_type": "stream",
     "text": [
      "30 21 106 62\n",
      "(448, 76, 41) (448, 76, 41)\n"
     ]
    }
   ],
   "source": [
    "# Calculate scaling factor\n",
    "scaling_factor = xct_resolution / ut_resolution\n",
    "\n",
    "# Convert bounding box to UT resolution\n",
    "minr_ut = int(minr_xct * scaling_factor)\n",
    "minc_ut = int(minc_xct * scaling_factor)\n",
    "maxr_ut = int(maxr_xct * scaling_factor)\n",
    "maxc_ut = int(maxc_xct * scaling_factor)\n",
    "\n",
    "print(minr_ut, minc_ut, maxr_ut, maxc_ut)\n",
    "\n",
    "ut_rf_cropped = ut_rf[:,minr_ut:maxr_ut, minc_ut:maxc_ut]\n",
    "ut_amp_cropped = ut_amp[:,minr_ut:maxr_ut, minc_ut:maxc_ut]\n",
    "\n",
    "print(ut_rf_cropped.shape, ut_amp_cropped.shape)"
   ]
  },
  {
   "cell_type": "code",
   "execution_count": 188,
   "metadata": {},
   "outputs": [],
   "source": [
    "import numpy as np\n",
    "from skimage.util import view_as_windows\n",
    "\n",
    "def divide_into_patches(image, patch_size, step_size):\n",
    "    patches = view_as_windows(image, (image.shape[0], patch_size, patch_size), step=(image.shape[0], step_size, step_size))\n",
    "    return patches.reshape(-1, image.shape[0], patch_size, patch_size)\n",
    "\n",
    "def calculate_patch_shape(image_shape, patch_size, step_size):\n",
    "    # Calculate the number of patches along each dimension\n",
    "    num_patches_h = ((image_shape[1] - patch_size) // step_size) + 1\n",
    "    num_patches_w = ((image_shape[2] - patch_size) // step_size) + 1\n",
    "\n",
    "    # The outgoing shape would be (num_patches_h, num_patches_w, image_shape[0], patch_size, patch_size)\n",
    "    return (num_patches_h * num_patches_w, image_shape[0], patch_size, patch_size)\n",
    "\n",
    "\n",
    "def calculate_pixels(ut_resolution, xct_resolution, ut_pixels):\n",
    "    # Calculate the ratio of the resolutions\n",
    "    resolution_ratio = ut_resolution /xct_resolution \n",
    "    \n",
    "    # Calculate the equivalent number of pixels in the xct resolution\n",
    "    xct_pixels = ut_pixels * resolution_ratio\n",
    "    \n",
    "    return xct_pixels\n",
    "\n",
    "def crop_image_to_patch_size(image, patch_size):\n",
    "    z, x, y = image.shape\n",
    "\n",
    "    crop_x = x % patch_size\n",
    "    crop_y = y % patch_size\n",
    "\n",
    "    crop_x_before = crop_x // 2\n",
    "    crop_x_after = crop_x - crop_x_before\n",
    "\n",
    "    crop_y_before = crop_y // 2\n",
    "    crop_y_after = crop_y - crop_y_before\n",
    "\n",
    "    cropped_image = image[:, crop_x_before:-crop_x_after or None, crop_y_before:-crop_y_after or None]\n",
    "\n",
    "    return cropped_image"
   ]
  },
  {
   "cell_type": "code",
   "execution_count": 189,
   "metadata": {},
   "outputs": [
    {
     "name": "stdout",
     "output_type": "stream",
     "text": [
      "120 40\n"
     ]
    }
   ],
   "source": [
    "ut_patch_size = 3\n",
    "ut_step_size = 1\n",
    "xct_patch_size = int(np.round(calculate_pixels(ut_resolution, xct_resolution, ut_patch_size)))\n",
    "xct_step_size = int(np.round(calculate_pixels(ut_resolution, xct_resolution, ut_step_size)))\n",
    "print(xct_patch_size, xct_step_size)"
   ]
  },
  {
   "cell_type": "code",
   "execution_count": 190,
   "metadata": {},
   "outputs": [
    {
     "name": "stdout",
     "output_type": "stream",
     "text": [
      "(448, 75, 39) (448, 75, 39) (350, 3000, 1560) (350, 3000, 1560)\n"
     ]
    }
   ],
   "source": [
    "ut_amp_cropped = crop_image_to_patch_size(ut_amp_cropped, ut_patch_size)\n",
    "ut_rf_cropped = crop_image_to_patch_size(ut_rf_cropped, ut_patch_size)\n",
    "onlypores_cropped = crop_image_to_patch_size(onlypores_cropped, xct_patch_size)\n",
    "mask_cropped = crop_image_to_patch_size(mask_cropped, xct_patch_size)\n",
    "print(ut_amp_cropped.shape,ut_rf_cropped.shape, onlypores_cropped.shape, mask_cropped.shape)"
   ]
  },
  {
   "cell_type": "code",
   "execution_count": 191,
   "metadata": {},
   "outputs": [
    {
     "name": "stdout",
     "output_type": "stream",
     "text": [
      "(2701, 448, 3, 3) (2701, 350, 120, 120)\n"
     ]
    }
   ],
   "source": [
    "ut_shape = calculate_patch_shape(ut_rf_cropped.shape, ut_patch_size, ut_step_size)\n",
    "xct_shape = calculate_patch_shape(onlypores_cropped.shape, xct_patch_size, xct_step_size)\n",
    "print(ut_shape, xct_shape)"
   ]
  },
  {
   "cell_type": "code",
   "execution_count": 192,
   "metadata": {},
   "outputs": [],
   "source": [
    "patches_ut = divide_into_patches(ut_rf_cropped, ut_patch_size, ut_step_size)\n",
    "patches_ut_amp = divide_into_patches(ut_amp_cropped, ut_patch_size, ut_step_size)"
   ]
  },
  {
   "cell_type": "code",
   "execution_count": 193,
   "metadata": {},
   "outputs": [],
   "source": [
    "patches_onlypores = divide_into_patches(onlypores_cropped, xct_patch_size, xct_step_size)\n",
    "patches_mask = divide_into_patches(mask_cropped,xct_patch_size, xct_step_size)"
   ]
  },
  {
   "cell_type": "code",
   "execution_count": 194,
   "metadata": {},
   "outputs": [
    {
     "name": "stdout",
     "output_type": "stream",
     "text": [
      "(2701, 448, 3, 3) (2701, 350, 120, 120) (2701, 350, 120, 120)\n"
     ]
    }
   ],
   "source": [
    "print(patches_ut.shape, patches_onlypores.shape, patches_mask.shape)"
   ]
  },
  {
   "cell_type": "code",
   "execution_count": 247,
   "metadata": {},
   "outputs": [
    {
     "name": "stdout",
     "output_type": "stream",
     "text": [
      "(2701, 120, 120) (2701, 120, 120)\n"
     ]
    }
   ],
   "source": [
    "#compute the sum of onlypores and mask\n",
    "\n",
    "sum_onlypores_patches = np.sum(patches_onlypores, axis = 1)\n",
    "sum_mask_patches = np.sum(patches_mask, axis = 1)\n",
    "\n",
    "\n",
    "print(sum_onlypores_patches.shape, sum_mask_patches.shape)"
   ]
  },
  {
   "cell_type": "code",
   "execution_count": 248,
   "metadata": {},
   "outputs": [],
   "source": [
    "import numpy as np\n",
    "import matplotlib.pyplot as plt\n",
    "\n",
    "def plot_patch_signals(patch):\n",
    "    # Ensure the patch is square-shaped\n",
    "    if patch.shape[1] != patch.shape[2]:\n",
    "        raise ValueError(\"Patch must be square-shaped\")\n",
    "    \n",
    "    signal_length, patch_x, patch_y = patch.shape\n",
    "    \n",
    "    # Create a figure with subplots arranged in a patch_x by patch_y grid\n",
    "    fig, axs = plt.subplots(patch_x, patch_y, figsize=(patch_y * 2, patch_x * 2))\n",
    "    \n",
    "    # Flatten the axs array for easy iteration if it's multidimensional\n",
    "    if patch_x > 1 and patch_y > 1:\n",
    "        axs = axs.flatten()\n",
    "    \n",
    "    # Iterate over each signal in the patch and plot it\n",
    "    for i in range(patch_x):\n",
    "        for j in range(patch_y):\n",
    "            ax = axs[i * patch_y + j] if patch_x > 1 and patch_y > 1 else axs\n",
    "            ax.plot(patch[:, i, j])\n",
    "            ax.set_title(f\"Signal ({i},{j})\")\n",
    "            ax.grid(True)\n",
    "    \n",
    "    # Adjust layout\n",
    "    plt.tight_layout()\n",
    "    plt.show()"
   ]
  },
  {
   "cell_type": "code",
   "execution_count": 249,
   "metadata": {},
   "outputs": [
    {
     "data": {
      "image/png": "[encoded data removed]",
      "text/plain": [
       "<Figure size 600x600 with 9 Axes>"
      ]
     },
     "metadata": {},
     "output_type": "display_data"
    },
    {
     "data": {
      "text/plain": [
       "<matplotlib.image.AxesImage at 0x1fe0b290190>"
      ]
     },
     "execution_count": 249,
     "metadata": {},
     "output_type": "execute_result"
    },
    {
     "data": {
      "image/png": "[encoded data removed]",
      "text/plain": [
       "<Figure size 640x480 with 1 Axes>"
      ]
     },
     "metadata": {},
     "output_type": "display_data"
    }
   ],
   "source": [
    "plot_patch_signals(patches_ut_amp[110])\n",
    "plt.imshow(sum_onlypores_patches[110])"
   ]
  },
  {
   "cell_type": "code",
   "execution_count": 325,
   "metadata": {},
   "outputs": [],
   "source": [
    "#volfrac for patch vs volfrac dataset\n",
    "\n",
    "sum_onlypores = np.sum(sum_onlypores_patches, axis = (1,2)).astype(np.int16)\n",
    "sum_mask = np.sum(sum_mask_patches, axis = (1,2))\n",
    "\n",
    "#the points that are zero in the mask are not material, so we set them to -1e-6 in onlypores to know that they are not material\n",
    "\n",
    "zero_indices = np.where(sum_mask == 0)\n",
    "\n",
    "volfrac = sum_onlypores / (sum_mask + 1e-6)\n",
    "\n",
    "volfrac[zero_indices] = -1"
   ]
  },
  {
   "cell_type": "code",
   "execution_count": 349,
   "metadata": {},
   "outputs": [
    {
     "name": "stdout",
     "output_type": "stream",
     "text": [
      "(2701, 14400)\n"
     ]
    }
   ],
   "source": [
    "#volfrac for patch vs volfrac patch dataset\n",
    "\n",
    "zero_indices = np.where(sum_mask_patches == 0)\n",
    "\n",
    "volfrac_patches = sum_onlypores_patches / (sum_mask_patches + 1e-6)\n",
    "\n",
    "volfrac_patches[zero_indices] = -1\n",
    "\n",
    "volfrac_patches = volfrac_patches.reshape(-1, volfrac_patches.shape[1] * volfrac_patches.shape[2])\n",
    "\n",
    "print(volfrac_patches.shape)"
   ]
  },
  {
   "cell_type": "code",
   "execution_count": 331,
   "metadata": {},
   "outputs": [
    {
     "name": "stdout",
     "output_type": "stream",
     "text": [
      "(2701, 8064)\n"
     ]
    }
   ],
   "source": [
    "#prepare ut for dataframe\n",
    "\n",
    "ut_patches_reshaped = patches_ut.transpose(0, 2, 3, 1)\n",
    "\n",
    "ut_amp_patches_reshaped = patches_ut_amp.transpose(0, 2, 3, 1)\n",
    "\n",
    "ut_patches_reshaped = ut_patches_reshaped.reshape(ut_patches_reshaped.shape[0], -1)\n",
    "\n",
    "ut_amp_patches_reshaped = ut_amp_patches_reshaped.reshape(patches_ut_amp.shape[0], -1)\n",
    "\n",
    "combined_ut = np.hstack((ut_patches_reshaped, ut_amp_patches_reshaped))\n",
    "\n",
    "print(combined_ut.shape)"
   ]
  },
  {
   "cell_type": "code",
   "execution_count": 350,
   "metadata": {},
   "outputs": [
    {
     "name": "stdout",
     "output_type": "stream",
     "text": [
      "(2701, 8065)\n"
     ]
    }
   ],
   "source": [
    "#create both dataframes\n",
    "\n",
    "#column names for ut\n",
    "\n",
    "columns_ut = []\n",
    "\n",
    "half = combined_ut.shape[1] // 2\n",
    "\n",
    "for i in range(combined_ut.shape[1]):\n",
    "    if i < half:\n",
    "        columns_ut.append(f'ut_rf_{i}')\n",
    "    else:\n",
    "        columns_ut.append(f'ut_amp_{i - half}')\n",
    "\n",
    "columns_ut = np.array(columns_ut)\n",
    "\n",
    "#dataframe for patch vs volfrac dataset\n",
    "\n",
    "patch_vs_volfrac = np.hstack((combined_ut, volfrac.reshape(-1,1)))\n",
    "\n",
    "print(patch_vs_volfrac.shape)\n",
    "\n",
    "df_patch_vs_volfrac = pd.DataFrame(patch_vs_volfrac, columns = np.append(columns_ut, 'volfrac'))\n"
   ]
  },
  {
   "cell_type": "code",
   "execution_count": 352,
   "metadata": {},
   "outputs": [
    {
     "name": "stdout",
     "output_type": "stream",
     "text": [
      "(2701, 22464)\n"
     ]
    },
    {
     "data": {
      "text/html": [
       "<div>\n",
       "<style scoped>\n",
       "    .dataframe tbody tr th:only-of-type {\n",
       "        vertical-align: middle;\n",
       "    }\n",
       "\n",
       "    .dataframe tbody tr th {\n",
       "        vertical-align: top;\n",
       "    }\n",
       "\n",
       "    .dataframe thead th {\n",
       "        text-align: right;\n",
       "    }\n",
       "</style>\n",
       "<table border=\"1\" class=\"dataframe\">\n",
       "  <thead>\n",
       "    <tr style=\"text-align: right;\">\n",
       "      <th></th>\n",
       "      <th>ut_rf_0</th>\n",
       "      <th>ut_rf_1</th>\n",
       "      <th>ut_rf_2</th>\n",
       "      <th>ut_rf_3</th>\n",
       "      <th>ut_rf_4</th>\n",
       "      <th>ut_rf_5</th>\n",
       "      <th>ut_rf_6</th>\n",
       "      <th>ut_rf_7</th>\n",
       "      <th>ut_rf_8</th>\n",
       "      <th>ut_rf_9</th>\n",
       "      <th>...</th>\n",
       "      <th>volfrac_14390</th>\n",
       "      <th>volfrac_14391</th>\n",
       "      <th>volfrac_14392</th>\n",
       "      <th>volfrac_14393</th>\n",
       "      <th>volfrac_14394</th>\n",
       "      <th>volfrac_14395</th>\n",
       "      <th>volfrac_14396</th>\n",
       "      <th>volfrac_14397</th>\n",
       "      <th>volfrac_14398</th>\n",
       "      <th>volfrac_14399</th>\n",
       "    </tr>\n",
       "  </thead>\n",
       "  <tbody>\n",
       "    <tr>\n",
       "      <th>0</th>\n",
       "      <td>128.0</td>\n",
       "      <td>129.0</td>\n",
       "      <td>128.0</td>\n",
       "      <td>128.0</td>\n",
       "      <td>128.0</td>\n",
       "      <td>128.0</td>\n",
       "      <td>128.0</td>\n",
       "      <td>128.0</td>\n",
       "      <td>128.0</td>\n",
       "      <td>128.0</td>\n",
       "      <td>...</td>\n",
       "      <td>0.0</td>\n",
       "      <td>0.0</td>\n",
       "      <td>0.0</td>\n",
       "      <td>0.0</td>\n",
       "      <td>0.0</td>\n",
       "      <td>0.0</td>\n",
       "      <td>0.0</td>\n",
       "      <td>0.0</td>\n",
       "      <td>0.0</td>\n",
       "      <td>0.0</td>\n",
       "    </tr>\n",
       "    <tr>\n",
       "      <th>1</th>\n",
       "      <td>128.0</td>\n",
       "      <td>129.0</td>\n",
       "      <td>128.0</td>\n",
       "      <td>128.0</td>\n",
       "      <td>128.0</td>\n",
       "      <td>128.0</td>\n",
       "      <td>128.0</td>\n",
       "      <td>128.0</td>\n",
       "      <td>128.0</td>\n",
       "      <td>128.0</td>\n",
       "      <td>...</td>\n",
       "      <td>0.0</td>\n",
       "      <td>0.0</td>\n",
       "      <td>0.0</td>\n",
       "      <td>0.0</td>\n",
       "      <td>0.0</td>\n",
       "      <td>0.0</td>\n",
       "      <td>0.0</td>\n",
       "      <td>0.0</td>\n",
       "      <td>0.0</td>\n",
       "      <td>0.0</td>\n",
       "    </tr>\n",
       "    <tr>\n",
       "      <th>2</th>\n",
       "      <td>128.0</td>\n",
       "      <td>128.0</td>\n",
       "      <td>128.0</td>\n",
       "      <td>128.0</td>\n",
       "      <td>128.0</td>\n",
       "      <td>129.0</td>\n",
       "      <td>128.0</td>\n",
       "      <td>128.0</td>\n",
       "      <td>128.0</td>\n",
       "      <td>128.0</td>\n",
       "      <td>...</td>\n",
       "      <td>0.0</td>\n",
       "      <td>0.0</td>\n",
       "      <td>0.0</td>\n",
       "      <td>0.0</td>\n",
       "      <td>0.0</td>\n",
       "      <td>0.0</td>\n",
       "      <td>0.0</td>\n",
       "      <td>0.0</td>\n",
       "      <td>0.0</td>\n",
       "      <td>0.0</td>\n",
       "    </tr>\n",
       "    <tr>\n",
       "      <th>3</th>\n",
       "      <td>128.0</td>\n",
       "      <td>128.0</td>\n",
       "      <td>128.0</td>\n",
       "      <td>128.0</td>\n",
       "      <td>128.0</td>\n",
       "      <td>129.0</td>\n",
       "      <td>128.0</td>\n",
       "      <td>128.0</td>\n",
       "      <td>128.0</td>\n",
       "      <td>128.0</td>\n",
       "      <td>...</td>\n",
       "      <td>0.0</td>\n",
       "      <td>0.0</td>\n",
       "      <td>0.0</td>\n",
       "      <td>0.0</td>\n",
       "      <td>0.0</td>\n",
       "      <td>0.0</td>\n",
       "      <td>0.0</td>\n",
       "      <td>0.0</td>\n",
       "      <td>0.0</td>\n",
       "      <td>0.0</td>\n",
       "    </tr>\n",
       "    <tr>\n",
       "      <th>4</th>\n",
       "      <td>128.0</td>\n",
       "      <td>128.0</td>\n",
       "      <td>129.0</td>\n",
       "      <td>129.0</td>\n",
       "      <td>128.0</td>\n",
       "      <td>128.0</td>\n",
       "      <td>129.0</td>\n",
       "      <td>129.0</td>\n",
       "      <td>128.0</td>\n",
       "      <td>129.0</td>\n",
       "      <td>...</td>\n",
       "      <td>0.0</td>\n",
       "      <td>0.0</td>\n",
       "      <td>0.0</td>\n",
       "      <td>0.0</td>\n",
       "      <td>0.0</td>\n",
       "      <td>0.0</td>\n",
       "      <td>0.0</td>\n",
       "      <td>0.0</td>\n",
       "      <td>0.0</td>\n",
       "      <td>0.0</td>\n",
       "    </tr>\n",
       "  </tbody>\n",
       "</table>\n",
       "<p>5 rows × 22464 columns</p>\n",
       "</div>"
      ],
      "text/plain": [
       "   ut_rf_0  ut_rf_1  ut_rf_2  ut_rf_3  ut_rf_4  ut_rf_5  ut_rf_6  ut_rf_7  \\\n",
       "0    128.0    129.0    128.0    128.0    128.0    128.0    128.0    128.0   \n",
       "1    128.0    129.0    128.0    128.0    128.0    128.0    128.0    128.0   \n",
       "2    128.0    128.0    128.0    128.0    128.0    129.0    128.0    128.0   \n",
       "3    128.0    128.0    128.0    128.0    128.0    129.0    128.0    128.0   \n",
       "4    128.0    128.0    129.0    129.0    128.0    128.0    129.0    129.0   \n",
       "\n",
       "   ut_rf_8  ut_rf_9  ...  volfrac_14390  volfrac_14391  volfrac_14392  \\\n",
       "0    128.0    128.0  ...            0.0            0.0            0.0   \n",
       "1    128.0    128.0  ...            0.0            0.0            0.0   \n",
       "2    128.0    128.0  ...            0.0            0.0            0.0   \n",
       "3    128.0    128.0  ...            0.0            0.0            0.0   \n",
       "4    128.0    129.0  ...            0.0            0.0            0.0   \n",
       "\n",
       "   volfrac_14393  volfrac_14394  volfrac_14395  volfrac_14396  volfrac_14397  \\\n",
       "0            0.0            0.0            0.0            0.0            0.0   \n",
       "1            0.0            0.0            0.0            0.0            0.0   \n",
       "2            0.0            0.0            0.0            0.0            0.0   \n",
       "3            0.0            0.0            0.0            0.0            0.0   \n",
       "4            0.0            0.0            0.0            0.0            0.0   \n",
       "\n",
       "   volfrac_14398  volfrac_14399  \n",
       "0            0.0            0.0  \n",
       "1            0.0            0.0  \n",
       "2            0.0            0.0  \n",
       "3            0.0            0.0  \n",
       "4            0.0            0.0  \n",
       "\n",
       "[5 rows x 22464 columns]"
      ]
     },
     "execution_count": 352,
     "metadata": {},
     "output_type": "execute_result"
    }
   ],
   "source": [
    "\n",
    "#column names for volfrac patches dataframes\n",
    "columns_volfrac = []\n",
    "\n",
    "for i in range(volfrac_patches.shape[1]):\n",
    "    columns_volfrac.append(f'volfrac_{i}')\n",
    "\n",
    "columns_volfrac = np.array(columns_volfrac)\n",
    "\n",
    "#dataframe for patch vs volfrac patch dataset\n",
    "\n",
    "patch_vs_patch = np.hstack((combined_ut, volfrac_patches))\n",
    "\n",
    "print(patch_vs_patch.shape)\n",
    "\n",
    "columns = np.append(columns_ut, columns_volfrac)\n",
    "\n",
    "df_patch_vs_patch = pd.DataFrame(patch_vs_patch, columns = columns)"
   ]
  },
  {
   "cell_type": "code",
   "execution_count": 280,
   "metadata": {},
   "outputs": [],
   "source": [
    "import numpy as np\n",
    "import matplotlib.pyplot as plt\n",
    "\n",
    "def plot_array_statistics(arr):\n",
    "    \"\"\"\n",
    "    Given a 1D numpy array, this function creates a figure with three subplots:\n",
    "    1. A histogram of the values\n",
    "    2. A scatter plot of the values against their index\n",
    "    3. A box plot of the values\n",
    "    \n",
    "    Parameters:\n",
    "    - arr: A 1D numpy array of values\n",
    "    \n",
    "    Returns:\n",
    "    None\n",
    "    \"\"\"\n",
    "    if not isinstance(arr, np.ndarray) or arr.ndim != 1:\n",
    "        raise ValueError(\"Input must be a 1D numpy array.\")\n",
    "    \n",
    "    fig, axs = plt.subplots(1, 3, figsize=(15, 5))\n",
    "    \n",
    "    # Histogram\n",
    "    axs[0].hist(arr, bins=20, color='skyblue', edgecolor='black')\n",
    "    axs[0].set_title('Histogram')\n",
    "    \n",
    "    # Scatter Plot\n",
    "    axs[1].scatter(range(len(arr)), arr, color='red')\n",
    "    axs[1].set_title('Scatter Plot')\n",
    "    \n",
    "    # Box Plot\n",
    "    axs[2].boxplot(arr, vert=False)\n",
    "    axs[2].set_title('Box Plot')\n",
    "    \n",
    "    plt.tight_layout()\n",
    "    plt.show()"
   ]
  }
 ],
 "metadata": {
  "kernelspec": {
   "display_name": "VisionPyKernel",
   "language": "python",
   "name": "python3"
  },
  "language_info": {
   "codemirror_mode": {
    "name": "ipython",
    "version": 3
   },
   "file_extension": ".py",
   "mimetype": "text/x-python",
   "name": "python",
   "nbconvert_exporter": "python",
   "pygments_lexer": "ipython3",
   "version": "3.11.5"
  }
 },
 "nbformat": 4,
 "nbformat_minor": 2
}
