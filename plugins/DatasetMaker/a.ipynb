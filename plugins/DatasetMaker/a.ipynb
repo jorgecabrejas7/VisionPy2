{
 "cells": [
  {
   "cell_type": "code",
   "execution_count": 42,
   "metadata": {},
   "outputs": [],
   "source": [
    "import datasetmaker\n",
    "import tifffile\n",
    "import numpy as np\n",
    "from tqdm import tqdm\n",
    "from pathlib import Path\n",
    "import os\n",
    "import pandas as pd"
   ]
  },
  {
   "cell_type": "code",
   "execution_count": 43,
   "metadata": {},
   "outputs": [],
   "source": [
    "database = pd.read_csv(r'\\\\192.168.10.106\\imdea\\DataDriven_UT_AlbertoVicente\\11_database\\Database.csv')\n",
    "\n",
    "database = database.replace({np.nan: None})"
   ]
  },
  {
   "cell_type": "code",
   "execution_count": 44,
   "metadata": {},
   "outputs": [],
   "source": [
    "ids = database['Id'].values\n",
    "\n",
    "datasets1x3 = database['Dataset PatchvsVolfrac 3x3']\n",
    "\n",
    "datasets2x3 = database['Dataset PatchvsPacth 3x3']\n",
    "\n",
    "datasets1x5 = database['Dataset PatchvsVolfrac 5x5']\n",
    "\n",
    "datasets2x5 = database['Dataset PatchvsPacth 5x5']\n",
    "\n",
    "datasets1x7 = database['Dataset PatchvsVolfrac 7x7']\n",
    "\n",
    "datasets2x7 = database['Dataset PatchvsPacth 7x7']\n",
    "\n",
    "datasets1x3_lente = database['Dataset PatchvsVolfrac lente 3x3']\n",
    "\n",
    "datasets2x3_lente = database['Dataset PatchvsPacth lente 3x3']\n",
    "\n",
    "datasets1x5_lente = database['Dataset PatchvsVolfrac lente 5x5']\n",
    "\n",
    "datasets2x5_lente = database['Dataset PatchvsPacth lente 5x5']\n",
    "\n",
    "datasets1x7_lente = database['Dataset PatchvsVolfrac lente 7x7']\n",
    "\n",
    "datasets2x7_lente = database['Dataset PatchvsPacth lente 7x7']\n",
    "\n",
    "datasets = [datasets1x3, datasets2x3, datasets1x5, datasets2x5, datasets1x7, datasets2x7]\n",
    "\n",
    "datasets_lente = [datasets1x3_lente, datasets2x3_lente, datasets1x5_lente, datasets2x5_lente, datasets1x7_lente, datasets2x7_lente]"
   ]
  },
  {
   "cell_type": "code",
   "execution_count": 45,
   "metadata": {},
   "outputs": [],
   "source": [
    "DatasetsFolder = Path(r'\\\\192.168.10.106\\imdea\\DataDriven_UT_AlbertoVicente\\04_ML_data\\Airbus\\Panel Pegaso')"
   ]
  },
  {
   "cell_type": "code",
   "execution_count": 46,
   "metadata": {},
   "outputs": [],
   "source": [
    "import shutil\n",
    "\n",
    "for i,id in enumerate(ids):\n",
    "\n",
    "    if datasets1x3[i] is not None:\n",
    "\n",
    "        for dataset in datasets:\n",
    "\n",
    "            output_folder = DatasetsFolder / str(id)\n",
    "\n",
    "            output_folder = output_folder / 'MonoElement'\n",
    "\n",
    "            source_file = Path(dataset[i])\n",
    "\n",
    "            output_folder = output_folder / source_file.name\n",
    "            # Move the file\n",
    "            shutil.copy(str(source_file), str(output_folder))\n",
    "\n",
    "            dataset[i] = str(output_folder)\n",
    "\n",
    "        \n",
    "\n",
    "    if datasets1x3_lente[i] is not None:\n",
    "\n",
    "        for dataset in datasets_lente:\n",
    "\n",
    "            output_folder = DatasetsFolder / str(id)\n",
    "\n",
    "            output_folder = output_folder / 'MonoElementLens'\n",
    "\n",
    "            source_file = Path(dataset[i])\n",
    "\n",
    "            output_folder = output_folder / source_file.name\n",
    "            # Move the file\n",
    "            shutil.copy(str(source_file), str(output_folder))\n",
    "\n",
    "            dataset[i] = str(output_folder)"
   ]
  },
  {
   "cell_type": "code",
   "execution_count": 47,
   "metadata": {},
   "outputs": [],
   "source": [
    "database['Dataset PatchvsVolfrac 3x3'] = datasets1x3\n",
    "\n",
    "database['Dataset PatchvsPacth 3x3'] = datasets2x3\n",
    "\n",
    "database['Dataset PatchvsVolfrac 5x5'] = datasets1x5\n",
    "\n",
    "database['Dataset PatchvsPacth 5x5'] = datasets2x5\n",
    "\n",
    "database['Dataset PatchvsVolfrac 7x7'] = datasets1x7\n",
    "\n",
    "database['Dataset PatchvsPacth 7x7'] = datasets2x7\n",
    "\n",
    "database['Dataset PatchvsVolfrac lente 3x3'] = datasets1x3_lente\n",
    "\n",
    "database['Dataset PatchvsPacth lente 3x3'] = datasets2x3_lente\n",
    "\n",
    "database['Dataset PatchvsVolfrac lente 5x5'] = datasets1x5_lente\n",
    "\n",
    "database['Dataset PatchvsPacth lente 5x5'] = datasets2x5_lente\n",
    "\n",
    "database['Dataset PatchvsVolfrac lente 7x7'] = datasets1x7_lente\n",
    "\n",
    "database['Dataset PatchvsPacth lente 7x7'] = datasets2x7_lente"
   ]
  },
  {
   "cell_type": "code",
   "execution_count": 48,
   "metadata": {},
   "outputs": [],
   "source": [
    "database.to_csv(r'\\\\192.168.10.106\\imdea\\DataDriven_UT_AlbertoVicente\\11_database\\Database.csv', index=False)"
   ]
  }
 ],
 "metadata": {
  "kernelspec": {
   "display_name": "VisionPyKernel",
   "language": "python",
   "name": "python3"
  },
  "language_info": {
   "codemirror_mode": {
    "name": "ipython",
    "version": 3
   },
   "file_extension": ".py",
   "mimetype": "text/x-python",
   "name": "python",
   "nbconvert_exporter": "python",
   "pygments_lexer": "ipython3",
   "version": "3.11.5"
  }
 },
 "nbformat": 4,
 "nbformat_minor": 2
}
