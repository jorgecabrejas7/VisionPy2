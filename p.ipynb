{
 "cells": [
  {
   "cell_type": "code",
   "execution_count": 20,
   "metadata": {},
   "outputs": [],
   "source": [
    "import tifffile \n",
    "import numpy as np\n",
    "from skimage import measure\n",
    "import matplotlib.pyplot as plt \n",
    "import pandas as pd\n",
    "from pathlib import Path"
   ]
  },
  {
   "cell_type": "code",
   "execution_count": null,
   "metadata": {},
   "outputs": [],
   "source": []
  },
  {
   "cell_type": "code",
   "execution_count": 21,
   "metadata": {},
   "outputs": [],
   "source": [
    "p = Path(\"C:\\\\Users\\\\jorge.cabrejas\\\\Desktop\\\\onlypores.tif\")\n",
    "img = tifffile.imread(p)\n",
    "# img = 255 - img\n",
    "# tifffile.imshow(img, cmap=\"gray\")"
   ]
  },
  {
   "cell_type": "code",
   "execution_count": 23,
   "metadata": {},
   "outputs": [
    {
     "data": {
      "text/plain": [
       "True"
      ]
     },
     "execution_count": 23,
     "metadata": {},
     "output_type": "execute_result"
    }
   ],
   "source": [
    "p = Path(\"C:\\\\Users\\\\jorge.cabrejas\\\\Desktop\\\\test4.tif.tif\")\n",
    "img1 = tifffile.imread(p)\n",
    "np.all(img1 == img)"
   ]
  },
  {
   "cell_type": "code",
   "execution_count": 3,
   "metadata": {},
   "outputs": [],
   "source": [
    "labeled_image = measure.label(img)\n"
   ]
  },
  {
   "cell_type": "code",
   "execution_count": 7,
   "metadata": {},
   "outputs": [
    {
     "name": "stdout",
     "output_type": "stream",
     "text": [
      "93.830196096\n",
      "23.457549024\n"
     ]
    }
   ],
   "source": [
    "#show size in mb of labeled_image\n",
    "print(labeled_image.nbytes / 1e9)\n",
    "labeled_image = labeled_image.astype(np.uint16)\n",
    "print(labeled_image.nbytes / 1e9)"
   ]
  },
  {
   "cell_type": "code",
   "execution_count": 8,
   "metadata": {},
   "outputs": [],
   "source": [
    "properties = measure.regionprops_table(labeled_image, properties=(\"coords\",))\n",
    "\n"
   ]
  },
  {
   "cell_type": "code",
   "execution_count": 10,
   "metadata": {},
   "outputs": [
    {
     "data": {
      "text/html": [
       "<div>\n",
       "<style scoped>\n",
       "    .dataframe tbody tr th:only-of-type {\n",
       "        vertical-align: middle;\n",
       "    }\n",
       "\n",
       "    .dataframe tbody tr th {\n",
       "        vertical-align: top;\n",
       "    }\n",
       "\n",
       "    .dataframe thead th {\n",
       "        text-align: right;\n",
       "    }\n",
       "</style>\n",
       "<table border=\"1\" class=\"dataframe\">\n",
       "  <thead>\n",
       "    <tr style=\"text-align: right;\">\n",
       "      <th></th>\n",
       "      <th>coords</th>\n",
       "    </tr>\n",
       "  </thead>\n",
       "  <tbody>\n",
       "    <tr>\n",
       "      <th>0</th>\n",
       "      <td>[[0, 0, 778], [0, 0, 779], [0, 0, 780], [0, 0,...</td>\n",
       "    </tr>\n",
       "    <tr>\n",
       "      <th>1</th>\n",
       "      <td>[[0, 0, 831], [0, 0, 832], [0, 0, 833], [0, 0,...</td>\n",
       "    </tr>\n",
       "    <tr>\n",
       "      <th>2</th>\n",
       "      <td>[[0, 0, 861], [0, 0, 862], [0, 0, 863], [0, 0,...</td>\n",
       "    </tr>\n",
       "    <tr>\n",
       "      <th>3</th>\n",
       "      <td>[[0, 0, 868]]</td>\n",
       "    </tr>\n",
       "    <tr>\n",
       "      <th>4</th>\n",
       "      <td>[[0, 0, 873], [0, 0, 874], [0, 0, 875], [1, 0,...</td>\n",
       "    </tr>\n",
       "    <tr>\n",
       "      <th>...</th>\n",
       "      <td>...</td>\n",
       "    </tr>\n",
       "    <tr>\n",
       "      <th>44056</th>\n",
       "      <td>[[1280, 5305, 1428], [1280, 5306, 1428], [1280...</td>\n",
       "    </tr>\n",
       "    <tr>\n",
       "      <th>44057</th>\n",
       "      <td>[[1280, 5326, 1432], [1280, 5327, 1432], [1280...</td>\n",
       "    </tr>\n",
       "    <tr>\n",
       "      <th>44058</th>\n",
       "      <td>[[1280, 5334, 1426], [1280, 5335, 1426]]</td>\n",
       "    </tr>\n",
       "    <tr>\n",
       "      <th>44059</th>\n",
       "      <td>[[1280, 5502, 8], [1280, 5503, 8], [1280, 5503...</td>\n",
       "    </tr>\n",
       "    <tr>\n",
       "      <th>44060</th>\n",
       "      <td>[[1280, 5545, 20]]</td>\n",
       "    </tr>\n",
       "  </tbody>\n",
       "</table>\n",
       "<p>44061 rows × 1 columns</p>\n",
       "</div>"
      ],
      "text/plain": [
       "                                                  coords\n",
       "0      [[0, 0, 778], [0, 0, 779], [0, 0, 780], [0, 0,...\n",
       "1      [[0, 0, 831], [0, 0, 832], [0, 0, 833], [0, 0,...\n",
       "2      [[0, 0, 861], [0, 0, 862], [0, 0, 863], [0, 0,...\n",
       "3                                          [[0, 0, 868]]\n",
       "4      [[0, 0, 873], [0, 0, 874], [0, 0, 875], [1, 0,...\n",
       "...                                                  ...\n",
       "44056  [[1280, 5305, 1428], [1280, 5306, 1428], [1280...\n",
       "44057  [[1280, 5326, 1432], [1280, 5327, 1432], [1280...\n",
       "44058           [[1280, 5334, 1426], [1280, 5335, 1426]]\n",
       "44059  [[1280, 5502, 8], [1280, 5503, 8], [1280, 5503...\n",
       "44060                                 [[1280, 5545, 20]]\n",
       "\n",
       "[44061 rows x 1 columns]"
      ]
     },
     "execution_count": 10,
     "metadata": {},
     "output_type": "execute_result"
    }
   ],
   "source": [
    "df = pd.DataFrame(properties)\n",
    "df"
   ]
  },
  {
   "cell_type": "code",
   "execution_count": 18,
   "metadata": {},
   "outputs": [],
   "source": [
    "import gzip\n",
    "import pickle\n",
    "data = {\"df\": df, \"shape\": img.shape}\n",
    "with gzip.open('particles.pkl.gz', 'wb') as f:\n",
    "    pickle.dump(data, f)\n"
   ]
  },
  {
   "cell_type": "code",
   "execution_count": 19,
   "metadata": {},
   "outputs": [],
   "source": [
    "import zipfile\n",
    "np.savez_compressed('array_data.npz', df.to_numpy())\n",
    "with open('image_shape.txt', 'w') as f:\n",
    "    f.write(f'{img.shape[0]},{img.shape[1]}, {img.shape[2]}')\n",
    "with zipfile.ZipFile('packed_data.zip', 'w') as zipf:\n",
    "    zipf.write('array_data.npz', arcname='array_data.npz')\n",
    "    zipf.write('image_shape.txt', arcname='image_shape.txt')"
   ]
  },
  {
   "cell_type": "code",
   "execution_count": 17,
   "metadata": {},
   "outputs": [
    {
     "data": {
      "text/plain": [
       "Index           132\n",
       "coords    955349784\n",
       "dtype: int64"
      ]
     },
     "execution_count": 17,
     "metadata": {},
     "output_type": "execute_result"
    }
   ],
   "source": [
    "# show dataframe first row\n",
    "df.memory_usage(deep=True)"
   ]
  },
  {
   "cell_type": "code",
   "execution_count": 59,
   "metadata": {},
   "outputs": [
    {
     "ename": "KeyError",
     "evalue": "'bbox-0'",
     "output_type": "error",
     "traceback": [
      "\u001b[0;31m---------------------------------------------------------------------------\u001b[0m",
      "\u001b[0;31mKeyError\u001b[0m                                  Traceback (most recent call last)",
      "File \u001b[0;32m~/anaconda3/envs/eq/lib/python3.11/site-packages/pandas/core/indexes/base.py:3790\u001b[0m, in \u001b[0;36mIndex.get_loc\u001b[0;34m(self, key)\u001b[0m\n\u001b[1;32m   3789\u001b[0m \u001b[38;5;28;01mtry\u001b[39;00m:\n\u001b[0;32m-> 3790\u001b[0m     \u001b[38;5;28;01mreturn\u001b[39;00m \u001b[38;5;28;43mself\u001b[39;49m\u001b[38;5;241;43m.\u001b[39;49m\u001b[43m_engine\u001b[49m\u001b[38;5;241;43m.\u001b[39;49m\u001b[43mget_loc\u001b[49m\u001b[43m(\u001b[49m\u001b[43mcasted_key\u001b[49m\u001b[43m)\u001b[49m\n\u001b[1;32m   3791\u001b[0m \u001b[38;5;28;01mexcept\u001b[39;00m \u001b[38;5;167;01mKeyError\u001b[39;00m \u001b[38;5;28;01mas\u001b[39;00m err:\n",
      "File \u001b[0;32mindex.pyx:152\u001b[0m, in \u001b[0;36mpandas._libs.index.IndexEngine.get_loc\u001b[0;34m()\u001b[0m\n",
      "File \u001b[0;32mindex.pyx:181\u001b[0m, in \u001b[0;36mpandas._libs.index.IndexEngine.get_loc\u001b[0;34m()\u001b[0m\n",
      "File \u001b[0;32mpandas/_libs/hashtable_class_helper.pxi:7080\u001b[0m, in \u001b[0;36mpandas._libs.hashtable.PyObjectHashTable.get_item\u001b[0;34m()\u001b[0m\n",
      "File \u001b[0;32mpandas/_libs/hashtable_class_helper.pxi:7088\u001b[0m, in \u001b[0;36mpandas._libs.hashtable.PyObjectHashTable.get_item\u001b[0;34m()\u001b[0m\n",
      "\u001b[0;31mKeyError\u001b[0m: 'bbox-0'",
      "\nThe above exception was the direct cause of the following exception:\n",
      "\u001b[0;31mKeyError\u001b[0m                                  Traceback (most recent call last)",
      "Cell \u001b[0;32mIn[59], line 5\u001b[0m\n\u001b[1;32m      3\u001b[0m ax\u001b[38;5;241m.\u001b[39mimshow(img, cmap\u001b[38;5;241m=\u001b[39m\u001b[38;5;124m\"\u001b[39m\u001b[38;5;124mgray\u001b[39m\u001b[38;5;124m\"\u001b[39m)\n\u001b[1;32m      4\u001b[0m \u001b[38;5;28;01mfor\u001b[39;00m i \u001b[38;5;129;01min\u001b[39;00m \u001b[38;5;28mrange\u001b[39m(\u001b[38;5;28mlen\u001b[39m(df)):\n\u001b[0;32m----> 5\u001b[0m     minr, minc, maxr, maxc \u001b[38;5;241m=\u001b[39m \u001b[43mdf\u001b[49m\u001b[43m[\u001b[49m\u001b[38;5;124;43m'\u001b[39;49m\u001b[38;5;124;43mbbox-0\u001b[39;49m\u001b[38;5;124;43m'\u001b[39;49m\u001b[43m]\u001b[49m[i], df[\u001b[38;5;124m'\u001b[39m\u001b[38;5;124mbbox-1\u001b[39m\u001b[38;5;124m'\u001b[39m][i], df[\u001b[38;5;124m'\u001b[39m\u001b[38;5;124mbbox-2\u001b[39m\u001b[38;5;124m'\u001b[39m][i], df[\u001b[38;5;124m'\u001b[39m\u001b[38;5;124mbbox-3\u001b[39m\u001b[38;5;124m'\u001b[39m][i]\n\u001b[1;32m      6\u001b[0m     rect \u001b[38;5;241m=\u001b[39m plt\u001b[38;5;241m.\u001b[39mRectangle((minc, minr), maxc \u001b[38;5;241m-\u001b[39m minc, maxr \u001b[38;5;241m-\u001b[39m minr, fill\u001b[38;5;241m=\u001b[39m\u001b[38;5;28;01mFalse\u001b[39;00m, edgecolor\u001b[38;5;241m=\u001b[39m\u001b[38;5;124m'\u001b[39m\u001b[38;5;124mred\u001b[39m\u001b[38;5;124m'\u001b[39m, linewidth\u001b[38;5;241m=\u001b[39m\u001b[38;5;241m2\u001b[39m)\n\u001b[1;32m      7\u001b[0m     ax\u001b[38;5;241m.\u001b[39madd_patch(rect)\n",
      "File \u001b[0;32m~/anaconda3/envs/eq/lib/python3.11/site-packages/pandas/core/frame.py:3896\u001b[0m, in \u001b[0;36mDataFrame.__getitem__\u001b[0;34m(self, key)\u001b[0m\n\u001b[1;32m   3894\u001b[0m \u001b[38;5;28;01mif\u001b[39;00m \u001b[38;5;28mself\u001b[39m\u001b[38;5;241m.\u001b[39mcolumns\u001b[38;5;241m.\u001b[39mnlevels \u001b[38;5;241m>\u001b[39m \u001b[38;5;241m1\u001b[39m:\n\u001b[1;32m   3895\u001b[0m     \u001b[38;5;28;01mreturn\u001b[39;00m \u001b[38;5;28mself\u001b[39m\u001b[38;5;241m.\u001b[39m_getitem_multilevel(key)\n\u001b[0;32m-> 3896\u001b[0m indexer \u001b[38;5;241m=\u001b[39m \u001b[38;5;28;43mself\u001b[39;49m\u001b[38;5;241;43m.\u001b[39;49m\u001b[43mcolumns\u001b[49m\u001b[38;5;241;43m.\u001b[39;49m\u001b[43mget_loc\u001b[49m\u001b[43m(\u001b[49m\u001b[43mkey\u001b[49m\u001b[43m)\u001b[49m\n\u001b[1;32m   3897\u001b[0m \u001b[38;5;28;01mif\u001b[39;00m is_integer(indexer):\n\u001b[1;32m   3898\u001b[0m     indexer \u001b[38;5;241m=\u001b[39m [indexer]\n",
      "File \u001b[0;32m~/anaconda3/envs/eq/lib/python3.11/site-packages/pandas/core/indexes/base.py:3797\u001b[0m, in \u001b[0;36mIndex.get_loc\u001b[0;34m(self, key)\u001b[0m\n\u001b[1;32m   3792\u001b[0m     \u001b[38;5;28;01mif\u001b[39;00m \u001b[38;5;28misinstance\u001b[39m(casted_key, \u001b[38;5;28mslice\u001b[39m) \u001b[38;5;129;01mor\u001b[39;00m (\n\u001b[1;32m   3793\u001b[0m         \u001b[38;5;28misinstance\u001b[39m(casted_key, abc\u001b[38;5;241m.\u001b[39mIterable)\n\u001b[1;32m   3794\u001b[0m         \u001b[38;5;129;01mand\u001b[39;00m \u001b[38;5;28many\u001b[39m(\u001b[38;5;28misinstance\u001b[39m(x, \u001b[38;5;28mslice\u001b[39m) \u001b[38;5;28;01mfor\u001b[39;00m x \u001b[38;5;129;01min\u001b[39;00m casted_key)\n\u001b[1;32m   3795\u001b[0m     ):\n\u001b[1;32m   3796\u001b[0m         \u001b[38;5;28;01mraise\u001b[39;00m InvalidIndexError(key)\n\u001b[0;32m-> 3797\u001b[0m     \u001b[38;5;28;01mraise\u001b[39;00m \u001b[38;5;167;01mKeyError\u001b[39;00m(key) \u001b[38;5;28;01mfrom\u001b[39;00m \u001b[38;5;21;01merr\u001b[39;00m\n\u001b[1;32m   3798\u001b[0m \u001b[38;5;28;01mexcept\u001b[39;00m \u001b[38;5;167;01mTypeError\u001b[39;00m:\n\u001b[1;32m   3799\u001b[0m     \u001b[38;5;66;03m# If we have a listlike key, _check_indexing_error will raise\u001b[39;00m\n\u001b[1;32m   3800\u001b[0m     \u001b[38;5;66;03m#  InvalidIndexError. Otherwise we fall through and re-raise\u001b[39;00m\n\u001b[1;32m   3801\u001b[0m     \u001b[38;5;66;03m#  the TypeError.\u001b[39;00m\n\u001b[1;32m   3802\u001b[0m     \u001b[38;5;28mself\u001b[39m\u001b[38;5;241m.\u001b[39m_check_indexing_error(key)\n",
      "\u001b[0;31mKeyError\u001b[0m: 'bbox-0'"
     ]
    },
    {
     "data": {
      "image/png": "[encoded data removed]",
      "text/plain": [
       "<Figure size 1000x600 with 1 Axes>"
      ]
     },
     "metadata": {},
     "output_type": "display_data"
    }
   ],
   "source": [
    "# plot image with all bounding boxes\n",
    "fig, ax = plt.subplots(figsize=(10, 6))\n",
    "ax.imshow(img, cmap=\"gray\")\n",
    "for i in range(len(df)):\n",
    "    minr, minc, maxr, maxc = df['bbox-0'][i], df['bbox-1'][i], df['bbox-2'][i], df['bbox-3'][i]\n",
    "    rect = plt.Rectangle((minc, minr), maxc - minc, maxr - minr, fill=False, edgecolor='red', linewidth=2)\n",
    "    ax.add_patch(rect)\n",
    "plt.show()"
   ]
  },
  {
   "cell_type": "code",
   "execution_count": 60,
   "metadata": {},
   "outputs": [
    {
     "data": {
      "text/plain": [
       "(<Figure size 988.8x604.8 with 2 Axes>,\n",
       " <Axes: >,\n",
       " <matplotlib.image.AxesImage at 0x7fd860844910>)"
      ]
     },
     "execution_count": 60,
     "metadata": {},
     "output_type": "execute_result"
    },
    {
     "data": {
      "image/png": "[encoded data removed]",
      "text/plain": [
       "<Figure size 988.8x604.8 with 2 Axes>"
      ]
     },
     "metadata": {},
     "output_type": "display_data"
    }
   ],
   "source": [
    "reconstructed_image = np.zeros_like(img)\n",
    "\n",
    "# 2. Fill in the Pixels\n",
    "for index, row in df.iterrows():\n",
    "    # Get the coordinates for the current region\n",
    "    coords = row['coords']\n",
    "    \n",
    "    # Set the pixels corresponding to the current region to 255\n",
    "    for coord in coords:\n",
    "        x, y = coord  # Assuming 'coords' is a list of (row, col) tuples\n",
    "        reconstructed_image[x, y] = 255  # or use another value if you want a different color/label\n",
    "\n",
    "# Optionally, display the reconstructed image\n",
    "tifffile.imshow(reconstructed_image, cmap=\"gray\")"
   ]
  },
  {
   "cell_type": "code",
   "execution_count": 61,
   "metadata": {},
   "outputs": [],
   "source": [
    "csv_filename = 'particles_properties.csv'\n",
    "df.to_csv(csv_filename, index=False)"
   ]
  },
  {
   "cell_type": "code",
   "execution_count": 62,
   "metadata": {},
   "outputs": [],
   "source": [
    "import base64\n",
    "# Convert the DataFrame to a CSV string\n",
    "csv_string = df.to_csv(index=False)\n",
    "\n",
    "# Convert the CSV string to bytes\n",
    "csv_bytes = csv_string.encode()\n",
    "\n",
    "# Encode the bytes to a base64 string\n",
    "base64_encoded = base64.b64encode(csv_bytes).decode()\n",
    "\n",
    "# Save the base64 string to a file\n",
    "base64_filename = 'particles_properties_base64.txt'\n",
    "with open(base64_filename, 'w') as file:\n",
    "    file.write(base64_encoded)"
   ]
  },
  {
   "cell_type": "code",
   "execution_count": 63,
   "metadata": {},
   "outputs": [
    {
     "name": "stdout",
     "output_type": "stream",
     "text": [
      "Size of original CSV: 17.78 KB\n",
      "Size of Base64 encoded file: 23.71 KB\n"
     ]
    }
   ],
   "source": [
    "import os, math\n",
    "\n",
    "size_csv = os.path.getsize(csv_filename)\n",
    "size_base64 = os.path.getsize(base64_filename)\n",
    "\n",
    "# Function to convert bytes to KB, MB, GB, etc.\n",
    "def convert_size(size_bytes):\n",
    "    if size_bytes == 0:\n",
    "        return \"0B\"\n",
    "    size_name = (\"B\", \"KB\", \"MB\", \"GB\", \"TB\", \"PB\", \"EB\", \"ZB\", \"YB\")\n",
    "    i = int(math.floor(math.log(size_bytes, 1024)))\n",
    "    p = math.pow(1024, i)\n",
    "    s = round(size_bytes / p, 2)\n",
    "    return f\"{s} {size_name[i]}\"\n",
    "\n",
    "# Convert sizes to human-readable format (KB, MB, etc.)\n",
    "size_csv_formatted = convert_size(size_csv)\n",
    "size_base64_formatted = convert_size(size_base64)\n",
    "\n",
    "print(f\"Size of original CSV: {size_csv_formatted}\")\n",
    "print(f\"Size of Base64 encoded file: {size_base64_formatted}\")\n"
   ]
  },
  {
   "cell_type": "code",
   "execution_count": 65,
   "metadata": {},
   "outputs": [],
   "source": [
    "import pickle\n",
    "import gzip\n",
    "\n",
    "# Pickle the DataFrame and compress with gzip\n",
    "with gzip.open('particles.pkl.gz', 'wb') as f:\n",
    "    pickle.dump(df, f)\n",
    "\n",
    "\n",
    "csv_string = df.to_csv(index=False).encode('utf-8')\n",
    "\n",
    "with gzip.open('particles.csv.gz', 'wb') as f:\n",
    "    f.write(csv_string)\n",
    "\n",
    "# Assuming 'df' is your DataFrame and it contains only numerical data\n",
    "array = df.to_numpy()\n",
    "\n",
    "# Save as a compressed .npz file\n",
    "np.savez_compressed('particles.npz', array)"
   ]
  },
  {
   "cell_type": "code",
   "execution_count": 67,
   "metadata": {},
   "outputs": [
    {
     "name": "stdout",
     "output_type": "stream",
     "text": [
      "Size of original CSV: 17.78 KB\n",
      "Size of Base64 encoded file: 23.71 KB\n",
      "Size of pickled DataFrame: 3.42 KB\n",
      "Size of compressed CSV: 3.97 KB\n",
      "Size of compressed NumPy array: 5.72 KB\n"
     ]
    }
   ],
   "source": [
    "size_pkl = os.path.getsize('particles.pkl.gz')\n",
    "size_csv_gz = os.path.getsize('particles.csv.gz')\n",
    "size_npz = os.path.getsize('particles.npz')\n",
    "\n",
    "size_pkl_formatted = convert_size(size_pkl)\n",
    "size_csv_gz_formatted = convert_size(size_csv_gz)\n",
    "size_npz_formatted = convert_size(size_npz)\n",
    "\n",
    "\n",
    "print(f\"Size of original CSV: {size_csv_formatted}\")\n",
    "print(f\"Size of Base64 encoded file: {size_base64_formatted}\")\n",
    "print(f\"Size of pickled DataFrame: {size_pkl_formatted}\")\n",
    "print(f\"Size of compressed CSV: {size_csv_gz_formatted}\")\n",
    "print(f\"Size of compressed NumPy array: {size_npz_formatted}\")\n"
   ]
  },
  {
   "cell_type": "code",
   "execution_count": 68,
   "metadata": {},
   "outputs": [
    {
     "data": {
      "text/html": [
       "<div>\n",
       "<style scoped>\n",
       "    .dataframe tbody tr th:only-of-type {\n",
       "        vertical-align: middle;\n",
       "    }\n",
       "\n",
       "    .dataframe tbody tr th {\n",
       "        vertical-align: top;\n",
       "    }\n",
       "\n",
       "    .dataframe thead th {\n",
       "        text-align: right;\n",
       "    }\n",
       "</style>\n",
       "<table border=\"1\" class=\"dataframe\">\n",
       "  <thead>\n",
       "    <tr style=\"text-align: right;\">\n",
       "      <th></th>\n",
       "      <th>coords</th>\n",
       "    </tr>\n",
       "  </thead>\n",
       "  <tbody>\n",
       "    <tr>\n",
       "      <th>0</th>\n",
       "      <td>[[253, 88]]</td>\n",
       "    </tr>\n",
       "    <tr>\n",
       "      <th>1</th>\n",
       "      <td>[[253, 234], [253, 235], [253, 236], [253, 237...</td>\n",
       "    </tr>\n",
       "    <tr>\n",
       "      <th>2</th>\n",
       "      <td>[[259, 601], [260, 601], [261, 601]]</td>\n",
       "    </tr>\n",
       "    <tr>\n",
       "      <th>3</th>\n",
       "      <td>[[277, 186]]</td>\n",
       "    </tr>\n",
       "    <tr>\n",
       "      <th>4</th>\n",
       "      <td>[[277, 608], [278, 608]]</td>\n",
       "    </tr>\n",
       "    <tr>\n",
       "      <th>...</th>\n",
       "      <td>...</td>\n",
       "    </tr>\n",
       "    <tr>\n",
       "      <th>132</th>\n",
       "      <td>[[977, 234], [978, 233], [978, 234], [978, 235...</td>\n",
       "    </tr>\n",
       "    <tr>\n",
       "      <th>133</th>\n",
       "      <td>[[977, 554], [977, 555], [978, 554], [978, 555...</td>\n",
       "    </tr>\n",
       "    <tr>\n",
       "      <th>134</th>\n",
       "      <td>[[978, 242], [978, 243], [979, 241], [979, 242...</td>\n",
       "    </tr>\n",
       "    <tr>\n",
       "      <th>135</th>\n",
       "      <td>[[992, 713], [992, 714], [992, 715], [993, 712...</td>\n",
       "    </tr>\n",
       "    <tr>\n",
       "      <th>136</th>\n",
       "      <td>[[992, 750], [992, 751], [993, 750], [993, 751...</td>\n",
       "    </tr>\n",
       "  </tbody>\n",
       "</table>\n",
       "<p>137 rows × 1 columns</p>\n",
       "</div>"
      ],
      "text/plain": [
       "                                                coords\n",
       "0                                          [[253, 88]]\n",
       "1    [[253, 234], [253, 235], [253, 236], [253, 237...\n",
       "2                 [[259, 601], [260, 601], [261, 601]]\n",
       "3                                         [[277, 186]]\n",
       "4                             [[277, 608], [278, 608]]\n",
       "..                                                 ...\n",
       "132  [[977, 234], [978, 233], [978, 234], [978, 235...\n",
       "133  [[977, 554], [977, 555], [978, 554], [978, 555...\n",
       "134  [[978, 242], [978, 243], [979, 241], [979, 242...\n",
       "135  [[992, 713], [992, 714], [992, 715], [993, 712...\n",
       "136  [[992, 750], [992, 751], [993, 750], [993, 751...\n",
       "\n",
       "[137 rows x 1 columns]"
      ]
     },
     "execution_count": 68,
     "metadata": {},
     "output_type": "execute_result"
    }
   ],
   "source": [
    "with gzip.open('particles.pkl.gz', 'rb') as f:\n",
    "    df_from_pickle = pickle.load(f)\n",
    "\n",
    "df_from_pickle"
   ]
  },
  {
   "cell_type": "code",
   "execution_count": 72,
   "metadata": {},
   "outputs": [
    {
     "data": {
      "text/plain": [
       "(<Figure size 988.8x604.8 with 2 Axes>,\n",
       " <Axes: >,\n",
       " <matplotlib.image.AxesImage at 0x7fd862d63d10>)"
      ]
     },
     "execution_count": 72,
     "metadata": {},
     "output_type": "execute_result"
    },
    {
     "data": {
      "image/png": "[encoded data removed]",
      "text/plain": [
       "<Figure size 988.8x604.8 with 2 Axes>"
      ]
     },
     "metadata": {},
     "output_type": "display_data"
    }
   ],
   "source": [
    "# Reconstruct the image from the DataFrame pkl.gz file  \n",
    "reconstructed_image = np.zeros_like(img)\n",
    "\n",
    "# 2. Fill in the Pixels\n",
    "for index, row in df_from_pickle.iterrows():\n",
    "    # Get the coordinates for the current region\n",
    "    coords = row['coords']\n",
    "    \n",
    "    # Set the pixels corresponding to the current region to 255\n",
    "    for coord in coords:\n",
    "        x, y = coord  # Assuming 'coords' is a list of (row, col) tuples\n",
    "        reconstructed_image[x, y] = 255  # or use another value if you want a different color/label\n",
    "\n",
    "# Optionally, display the reconstructed image\n",
    "tifffile.imshow(reconstructed_image, cmap=\"gray\")\n"
   ]
  },
  {
   "cell_type": "code",
   "execution_count": 74,
   "metadata": {},
   "outputs": [
    {
     "data": {
      "text/plain": [
       "True"
      ]
     },
     "execution_count": 74,
     "metadata": {},
     "output_type": "execute_result"
    }
   ],
   "source": [
    "np.all(reconstructed_image == img)"
   ]
  },
  {
   "cell_type": "code",
   "execution_count": null,
   "metadata": {},
   "outputs": [],
   "source": []
  }
 ],
 "metadata": {
  "kernelspec": {
   "display_name": "eq",
   "language": "python",
   "name": "python3"
  },
  "language_info": {
   "codemirror_mode": {
    "name": "ipython",
    "version": 3
   },
   "file_extension": ".py",
   "mimetype": "text/x-python",
   "name": "python",
   "nbconvert_exporter": "python",
   "pygments_lexer": "ipython3",
   "version": "3.11.7"
  }
 },
 "nbformat": 4,
 "nbformat_minor": 2
}
